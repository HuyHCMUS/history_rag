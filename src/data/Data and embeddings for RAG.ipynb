{
 "cells": [
  {
   "cell_type": "markdown",
   "id": "8e6a45e4",
   "metadata": {},
   "source": [
    "## 1. Extract from PDF"
   ]
  },
  {
   "cell_type": "code",
   "execution_count": 437,
   "id": "bab43290",
   "metadata": {},
   "outputs": [],
   "source": [
    "import fitz  # PyMuPDF\n",
    "\n",
    "# Đọc file PDF\n",
    "pdf_file = \"Daivietsukytoanthu.pdf\"\n",
    "doc = fitz.open(pdf_file)\n"
   ]
  },
  {
   "cell_type": "code",
   "execution_count": 438,
   "id": "a99202ef",
   "metadata": {},
   "outputs": [],
   "source": [
    "title = 'Đ ại  V i ệt  S ử K ý'"
   ]
  },
  {
   "cell_type": "code",
   "execution_count": 439,
   "id": "606907c9",
   "metadata": {},
   "outputs": [],
   "source": [
    "import re\n",
    "from collections import defaultdict\n",
    "\n",
    "def get_content(page):\n",
    "    note =''\n",
    "    content =''\n",
    "    text = page.get_text(\"text\")\n",
    "    try:\n",
    "        text = re.split(r\"^\\d+\\s*\\n.*\\n\", text, maxsplit=1, flags=re.MULTILINE)[1]\n",
    "        text = text.split('\\n                                                \\n')\n",
    "        if len(text)>1: note = text[1]\n",
    "        content = text[0]\n",
    "    except:\n",
    "        return text, ''\n",
    "    \n",
    "    return content, note"
   ]
  },
  {
   "cell_type": "code",
   "execution_count": 440,
   "id": "a5520965",
   "metadata": {},
   "outputs": [],
   "source": [
    "def is_new(event):\n",
    "    pattern = r'^(\\[?[0-9]+[a-z]?\\]?\\s+)?[^\\/\\[\\]]*(\\/?[^\\/\\[\\]]+\\/?)?[^\\[\\]]*(\\[[^\\[\\]]+\\])?[^\\[\\]]*\\[\\s*[0-9]+\\s*(TCN)?\\s*\\]'\n",
    "    if re.match(pattern,event):\n",
    "        return True\n",
    "    return False"
   ]
  },
  {
   "cell_type": "code",
   "execution_count": 441,
   "id": "c511fd6f",
   "metadata": {},
   "outputs": [
    {
     "data": {
      "text/plain": [
       "'Khổng Nguyên, Phạm Bảo, Kim Cát, Lý Khái, Đào Lão, Nguyễn Hoàn làm Viên ngoại lang thượng thư \\nsảnh; Lương Cửu, Đào Sâm, Quách Thục, Nguyễn Nhân, Nguyễn Khánh, Đào Tương, Quách Cự Tầm, \\nNguyễn Thối làm Trung thư hoả; Lý Ngũ, Kiểu Nghĩa, Lý Cá, Nguyễn Biếm, Nguyễn Bộc, Nguyễn Khoan, \\nĐào Lục, Đỗ Ký, Kiểu Thiệu làm Chi hậu thư gia. \\n  \\nNgày Quý Sửu, xuống chiếu cho Gián nghị đại phu Mâu Du Đô chọn quân Long Dực cũ làm các \\nquân tả hữu Ngọc Giai, Hưng Thánh, Quảng Thành, vũ [30a] Đô. \\n  \\nNgày Giáp Dần, hơn 2 vạn người Chân Lạp vào cướp bến Ba Đầu ở châu Nghệ An. Xuống chiếu \\ncho Nhập nội thái phó Lý Công Bình đem các quan chức đô cùng người châu Nghệ An đi đánh. \\n  \\nTháng 2, ngày Ất Mão, xuống chiếu tha cho cá tội nhân ở phủ Đô hộ. Ngày Nhâm Tuất, xuống \\nchiếu tha cho 130 người bị biếm truất. \\n  \\nNgày Quý Hợi, Lý Công Bình đánh bại người Chân Lạp ở bến Ba Đầu, bắt được chủ tướng và \\nquân lính. \\n  \\nNgày Ất Sửu, các quan dâng tôn hiệu là Thuận Thiên Quảng Vận Khâm Minh Nhân Hiếu \\nHoàng Đế. Vua bảo các quan rằng: \"Trẫm còn trẻ thơ, nối nghiệp lớn của tiên thánh, mà thiên hạ yên \\ntĩnh, trong cõi sợ uy, đều là nhờ sức của các khanh. Các khanh nên cẩn thận giữ chức, chớ có lười biếng \\nqua quít để giúp cho trẫm những chỗ còn thiếu sót\". \\n  \\nLập Lý thị làm Hoàng hậu. Trước đó vua sai Viên ngoại lang Lý Khánh Thần và [30b] vợ đi đón \\ncon gái của Điện tiền chỉ huy sứ Lý Sơn, Viên ngoại lang Trần Ngọc Độ và vợ đi đón con gái của  Lê \\nXương là cháu chú bác của Thái úy Lê Bá Ngọc, sách lập con gái của Sơn làm Lệ Thiên Hoàng hậu, con \\ngái của Xương làm Minh Bảo phu nhân. Thăng trật ký hầu cho Lý Sơn coi việc quân sự ở lạng Châu, ban \\ncho [Lê] Xương tước Đại liêu ban. \\n  \\nMưa dầm. \\n  \\nNgày Đinh Mão, các quan dân biểu mừng vua lên ngôi. \\n  \\nLá phướn của hai chùa Thiên Long và Thiên Sùng không gió mà tự lay động như múa. Vua ngự \\nxa giá đến hai chùa ấy để lễ tạ. \\n  \\nThư báo thắng trận của Lý Công Bình đến kinh sư. \\n  \\nNgày Mậu Thìn, vua ngự đến hai cung Thái thanh, Cảnh Linh và các chùa quán trong thành để lễ \\ntạ ơn Phật và Đạo đã giúp ngầm cho Công bình đánh được người Chân Lạp. \\nLê Văn Hưu nói: Phàm việc trù tính ở trong màn trướng, quyết định được chiến thắng ở \\nngoài nghìn dặm, đều là [31a] công của người tướng giỏi cầm quan làm nên thắng lợi. \\nThái phó Lý Công Bình phá được quân Chân Lạp cướp châu Nghệ An, sai người báo tin \\nthắng trận. Thần Tông đáng lẽ phải cáo thắng trận ở Thái Miếu, xét công ở triều đường \\nđể thưởng cho bọn Công Bình về công đánh giặc. Nay lại quy công cho Phật và Đạo, đi \\ncác chùa quán để lạy tạ, như thế không phải là cách để ủy lạo kẻ có công, cổ lệ chí khí \\ncủa quân sĩ. \\n  \\nNgày Canh Ngọ, vua ngự điện thiên an xem quốc nhân hội thề ở Long Trì1. Nhân đó xuống chiếu \\nphát quần áo, tiền lụa trong Nội phủ để ban cho. \\nNgày Giáp Tuất, xuống chiếu cấmgia nô và tạo lệ của các quan không được lấy con gái lương \\ndân.  \\n  \\nHoàng hậu Lệ Thiên và phu nhân Minh Bảo về thăm nhà. \\n  \\nSai Gián nghị đại phu Mâu Du Đô đến phủ Thiên Đức chọn đất tốt để xây sơn lăng của Nhân \\nTông. '"
      ]
     },
     "execution_count": 441,
     "metadata": {},
     "output_type": "execute_result"
    }
   ],
   "source": [
    "c1,c2 = get_content(doc[125])\n",
    "c1"
   ]
  },
  {
   "cell_type": "code",
   "execution_count": 442,
   "id": "8c4c7fd9",
   "metadata": {
    "scrolled": true
   },
   "outputs": [
    {
     "name": "stdout",
     "output_type": "stream",
     "text": [
      "0\n",
      "50\n",
      "100\n",
      "150\n",
      "200\n",
      "250\n",
      "300\n",
      "350\n",
      "400\n",
      "450\n",
      "500\n",
      "550\n",
      "600\n",
      "650\n",
      "700\n"
     ]
    }
   ],
   "source": [
    "events = []\n",
    "page_number = []\n",
    "event = ''\n",
    "notes = []\n",
    "n = 0\n",
    "for i, page in enumerate(doc):  \n",
    "    content, note = get_content(page)\n",
    "    content_split = content.split('\\n')\n",
    "    \n",
    "    notes.append(note)\n",
    "    if i% 50 == 0:\n",
    "        print(i)\n",
    "    if content_split[0].find(title) == 0:\n",
    "        content_split = content_split[2:]\n",
    "        page_number.append(n)\n",
    "        events.append(event)\n",
    "        event = ''\n",
    "        n = i\n",
    "    for item in content_split:\n",
    "        if item=='': continue\n",
    "        if (is_new(item) and event.endswith('. ')) or item[:2]=='Kỷ':\n",
    "            page_number.append(n)\n",
    "            n = i\n",
    "            events.append(event)\n",
    "            event = item\n",
    "        else:\n",
    "            event = event + '\\n' + item\n",
    "\n"
   ]
  },
  {
   "cell_type": "code",
   "execution_count": 740,
   "id": "91116cf8",
   "metadata": {},
   "outputs": [],
   "source": [
    "events = events[1:]\n",
    "page_number = page_number[1:]"
   ]
  },
  {
   "cell_type": "code",
   "execution_count": 741,
   "id": "c3b0239e",
   "metadata": {},
   "outputs": [
    {
     "data": {
      "text/plain": [
       "920"
      ]
     },
     "execution_count": 741,
     "metadata": {},
     "output_type": "execute_result"
    }
   ],
   "source": [
    "len(events)"
   ]
  },
  {
   "cell_type": "code",
   "execution_count": 574,
   "id": "065a72c6",
   "metadata": {},
   "outputs": [],
   "source": [
    "#copy = events\n",
    "#copy.append('x')\n",
    "copy = events.copy()"
   ]
  },
  {
   "cell_type": "code",
   "execution_count": 739,
   "id": "9b470b0b",
   "metadata": {},
   "outputs": [],
   "source": [
    "events = copy.copy()"
   ]
  },
  {
   "cell_type": "code",
   "execution_count": 492,
   "id": "2e706434",
   "metadata": {},
   "outputs": [],
   "source": [
    "def find_index(target):\n",
    "    for i, event in enumerate(events):\n",
    "        if event.find(target) > 0:\n",
    "            return i, page_number[i] + 1"
   ]
  },
  {
   "cell_type": "code",
   "execution_count": 674,
   "id": "5a47b218",
   "metadata": {},
   "outputs": [
    {
     "data": {
      "text/plain": [
       "(425, 156)"
      ]
     },
     "execution_count": 674,
     "metadata": {},
     "output_type": "execute_result"
    }
   ],
   "source": [
    "find_index('Chiêu Hoàng ')"
   ]
  },
  {
   "cell_type": "markdown",
   "id": "dc40ba1d",
   "metadata": {},
   "source": [
    "## 2. Preprocessing"
   ]
  },
  {
   "cell_type": "code",
   "execution_count": 702,
   "id": "718ae1a8",
   "metadata": {},
   "outputs": [],
   "source": [
    "def is_proper_name(text):\n",
    "    \n",
    "    # Kiểm tra xem text có kết thúc bằng \" \\n\" không\n",
    "    if not text.endswith(\" \"):\n",
    "        return False\n",
    "    \n",
    "    # Loại bỏ \" \" ở cuối để đếm số từ\n",
    "    content = text[:-1]\n",
    "    \n",
    "    # Tách các từ và đếm\n",
    "    words = content.split(' ')\n",
    "    \n",
    "    if len(words) < 2: \n",
    "        return False\n",
    "    if len(words) > 7: \n",
    "        return False\n",
    "        \n",
    "    for word in words:\n",
    "        word = word.rstrip(',')\n",
    "        if len(word) <1 : return False\n",
    "        if word[0] != word[0].upper():\n",
    "            return False\n",
    "        if not all(c.isalpha() or c == ',' or c =='(' or c ==')' or c =='_' for c in word):\n",
    "            return False\n",
    "        \n",
    "    return True\n",
    "        "
   ]
  },
  {
   "cell_type": "code",
   "execution_count": 694,
   "id": "245ddef6",
   "metadata": {},
   "outputs": [
    {
     "data": {
      "text/plain": [
       "True"
      ]
     },
     "execution_count": 694,
     "metadata": {},
     "output_type": "execute_result"
    }
   ],
   "source": [
    "is_proper_name('Hùng Vương ')"
   ]
  },
  {
   "cell_type": "code",
   "execution_count": 743,
   "id": "29248115",
   "metadata": {},
   "outputs": [
    {
     "data": {
      "text/plain": [
       "953"
      ]
     },
     "execution_count": 743,
     "metadata": {},
     "output_type": "execute_result"
    }
   ],
   "source": [
    "len(events)"
   ]
  },
  {
   "cell_type": "code",
   "execution_count": 742,
   "id": "5108c1c6",
   "metadata": {},
   "outputs": [
    {
     "name": "stdout",
     "output_type": "stream",
     "text": [
      "Lạc Long Quân \n",
      "607 1\n",
      "Hùng Vương \n",
      "2413 1\n",
      "Văn Vương \n",
      "1644 43\n",
      "Minh Vương \n",
      "397 48\n",
      "Ai Vương \n",
      "560 53\n",
      "Thuật Dương Vương \n",
      "4186 54\n",
      "Dương Tam Kha \n",
      "751 171\n",
      "PHẾ ĐẾ \n",
      "3833 194\n",
      "TRUNG TÔNG HOÀNG ĐẾ \n",
      "1456 208\n",
      "NGỌA TRIỀU HOÀNG ĐẾ \n",
      "3491 208\n",
      "THÁI TÔNG HOÀNG ĐẾ \n",
      "14351 231\n",
      "NHÂN TÔNG HOÀNG ĐẾ \n",
      "1561 275\n",
      "THẦN TÔNG HOÀNG ĐẾ \n",
      "6364 329\n",
      "Cao Tông Hoàng Đế \n",
      "2509 379\n",
      "Huệ Tông Hoàng Đế \n",
      "2235 412\n",
      "NHÂN TÔNG HOÀNG ĐẾ \n",
      "9679 473\n",
      "MINH TÔNG HOÀNG ĐẾ \n",
      "1530 504\n",
      "NGHệ TÔNG HOÀNG ĐẾ \n",
      "5910 555\n",
      "Duệ TÔNG HOÀNG ĐẾ \n",
      "1688 558\n",
      "THUẬN TÔNG HOÀNG ĐẾ \n",
      "6856 574\n",
      "THIẾU ĐẾ \n",
      "2354 583\n",
      "TRÙNG QUANG ĐẾ \n",
      "5203 597\n",
      "K_ THUỘC MINH \n",
      "5745 599\n",
      "Túc Tông Khâm Hoàng Đế \n",
      "2425 697\n",
      "Chiêu Tông Thần Hoàng Đế \n",
      "13589 708\n",
      "Cung Hoàng Đế \n",
      "11273 716\n",
      "Mạc Đăng Doanh \n",
      "1177 723\n",
      "Trung Tông Hoàng Đế \n",
      "456 743\n",
      "Anh Tông Tuấn Hoàng Đế \n",
      "820 751\n",
      "Thần Tông Uyên Hoàng Đế (Thượng) \n",
      "1175 817\n",
      "Chân Tông Thuận Hoàng Đế \n",
      "1373 839\n",
      "Thần Tông Uyên Hoàng Đế (Hạ) \n",
      "385 845\n",
      "Văn Tổ Nghị Vương \n",
      "581 895\n"
     ]
    }
   ],
   "source": [
    "d = 0\n",
    "for i, e in enumerate(events):\n",
    "    for p in e.split('\\n'):\n",
    "        if is_proper_name(p):\n",
    "            if e.find(p) > 100:\n",
    "                split1 = e[:e.find(p)]\n",
    "                split2 = e[e.find(p):]\n",
    "                events = events[:i + d] + [split1,split2] + events[i + 1 + d:]\n",
    "                d += 1\n",
    "                print(p)\n",
    "                print(e[:].find(p),  i)"
   ]
  },
  {
   "cell_type": "code",
   "execution_count": 752,
   "id": "c55f7c3b",
   "metadata": {},
   "outputs": [
    {
     "name": "stdout",
     "output_type": "stream",
     "text": [
      "\n",
      "[1a]  \n",
      "\n",
      "[1a]  \n",
      "\n",
      "[1a]  \n",
      "\n",
      "[1a]  \n",
      "\n",
      "[1a]  \n",
      "\n",
      "[1a]  \n",
      "\n",
      "[1a]  \n",
      "\n",
      "[1a]  \n",
      "\n",
      "[1a]  \n",
      "\n",
      "[1a]  \n",
      "\n",
      "[1a]  \n",
      "\n",
      "[1a]  \n",
      "\n",
      "[1a]  \n",
      "\n",
      "[1a]  \n",
      "\n",
      "[1a]  \n",
      "\n",
      "[1a]  \n",
      "\n",
      "[1a]  \n",
      "\n",
      "[1a]  \n",
      "\n",
      "[1a]  \n",
      "\n",
      "[1a]  \n",
      "\n",
      "[1a]  \n",
      "\n",
      "[1a]  \n"
     ]
    }
   ],
   "source": [
    "z =''\n",
    "for e in events:\n",
    "    if len(e) < 50:\n",
    "        print(e)\n",
    "        z = e"
   ]
  },
  {
   "cell_type": "code",
   "execution_count": 753,
   "id": "ee317cbb",
   "metadata": {},
   "outputs": [],
   "source": [
    "events = [e for e in events if e !=z]\n",
    "for e in events:\n",
    "    if len(e) < 50:\n",
    "        print(e)"
   ]
  },
  {
   "cell_type": "code",
   "execution_count": 754,
   "id": "73ff56d9",
   "metadata": {},
   "outputs": [
    {
     "data": {
      "text/plain": [
       "931"
      ]
     },
     "execution_count": 754,
     "metadata": {},
     "output_type": "execute_result"
    }
   ],
   "source": [
    "len(events)"
   ]
  },
  {
   "cell_type": "code",
   "execution_count": 755,
   "id": "f3ab1563",
   "metadata": {},
   "outputs": [],
   "source": [
    "data = {\n",
    "    \"events\": [event for event in events],\n",
    "}"
   ]
  },
  {
   "cell_type": "code",
   "execution_count": 756,
   "id": "d50d9227",
   "metadata": {},
   "outputs": [],
   "source": [
    "dfx = pd.DataFrame(data)"
   ]
  },
  {
   "cell_type": "code",
   "execution_count": 758,
   "id": "3cc75944",
   "metadata": {},
   "outputs": [],
   "source": [
    "dfx.to_csv('history_events_process.csv',sep=\"\\t\", index=False)"
   ]
  },
  {
   "cell_type": "code",
   "execution_count": 759,
   "id": "e0fd07ec",
   "metadata": {},
   "outputs": [
    {
     "data": {
      "text/html": [
       "<div>\n",
       "<style scoped>\n",
       "    .dataframe tbody tr th:only-of-type {\n",
       "        vertical-align: middle;\n",
       "    }\n",
       "\n",
       "    .dataframe tbody tr th {\n",
       "        vertical-align: top;\n",
       "    }\n",
       "\n",
       "    .dataframe thead th {\n",
       "        text-align: right;\n",
       "    }\n",
       "</style>\n",
       "<table border=\"1\" class=\"dataframe\">\n",
       "  <thead>\n",
       "    <tr style=\"text-align: right;\">\n",
       "      <th></th>\n",
       "      <th>events</th>\n",
       "    </tr>\n",
       "  </thead>\n",
       "  <tbody>\n",
       "    <tr>\n",
       "      <th>0</th>\n",
       "      <td>\\n[1a] Triều Liệt Đại Phu, Quốc Tử Giám Tư Ngh...</td>\n",
       "    </tr>\n",
       "    <tr>\n",
       "      <th>1</th>\n",
       "      <td>Kỷ Hồng Bàng Thị \\nKinh Dương Vương \\n[1b] Tên...</td>\n",
       "    </tr>\n",
       "    <tr>\n",
       "      <th>2</th>\n",
       "      <td>Kỷ Hồng Bàng Thị \\nKinh Dương Vương \\n[1b] Tên...</td>\n",
       "    </tr>\n",
       "    <tr>\n",
       "      <th>3</th>\n",
       "      <td>Hùng Vương \\n[3a] Con Lạc Long Quân (không rõ ...</td>\n",
       "    </tr>\n",
       "    <tr>\n",
       "      <th>4</th>\n",
       "      <td>Kỷ Nhà Thục \\nAn Dương Vương \\nHọ Thục, tên hú...</td>\n",
       "    </tr>\n",
       "    <tr>\n",
       "      <th>...</th>\n",
       "      <td>...</td>\n",
       "    </tr>\n",
       "    <tr>\n",
       "      <th>926</th>\n",
       "      <td>Canh Thìn, [Dương Hoà] năm thứ 6 [1640], (Minh...</td>\n",
       "    </tr>\n",
       "    <tr>\n",
       "      <th>927</th>\n",
       "      <td>Nhâm Ngọ, [Dương Hoà] năm thứ 8 [1642], (Minh ...</td>\n",
       "    </tr>\n",
       "    <tr>\n",
       "      <th>928</th>\n",
       "      <td>Quý Mùi, [Dương Hoà] năm thứ 9 [1643], (từ thá...</td>\n",
       "    </tr>\n",
       "    <tr>\n",
       "      <th>929</th>\n",
       "      <td>[Ất Dậu, Thịnh Đức năm thứ 3 [1655], (Minh Lịc...</td>\n",
       "    </tr>\n",
       "    <tr>\n",
       "      <th>930</th>\n",
       "      <td>Bính Thân, [Thịnh Đức] năm thứ 4 [1656], (Minh...</td>\n",
       "    </tr>\n",
       "  </tbody>\n",
       "</table>\n",
       "<p>931 rows × 1 columns</p>\n",
       "</div>"
      ],
      "text/plain": [
       "                                                events\n",
       "0    \\n[1a] Triều Liệt Đại Phu, Quốc Tử Giám Tư Ngh...\n",
       "1    Kỷ Hồng Bàng Thị \\nKinh Dương Vương \\n[1b] Tên...\n",
       "2    Kỷ Hồng Bàng Thị \\nKinh Dương Vương \\n[1b] Tên...\n",
       "3    Hùng Vương \\n[3a] Con Lạc Long Quân (không rõ ...\n",
       "4    Kỷ Nhà Thục \\nAn Dương Vương \\nHọ Thục, tên hú...\n",
       "..                                                 ...\n",
       "926  Canh Thìn, [Dương Hoà] năm thứ 6 [1640], (Minh...\n",
       "927  Nhâm Ngọ, [Dương Hoà] năm thứ 8 [1642], (Minh ...\n",
       "928  Quý Mùi, [Dương Hoà] năm thứ 9 [1643], (từ thá...\n",
       "929  [Ất Dậu, Thịnh Đức năm thứ 3 [1655], (Minh Lịc...\n",
       "930  Bính Thân, [Thịnh Đức] năm thứ 4 [1656], (Minh...\n",
       "\n",
       "[931 rows x 1 columns]"
      ]
     },
     "execution_count": 759,
     "metadata": {},
     "output_type": "execute_result"
    }
   ],
   "source": [
    "df = pd.read_csv(\"history_events_process.csv\", delimiter=\"\\t\")  # Hoặc sep=\"\\t\"\n",
    "df"
   ]
  },
  {
   "cell_type": "code",
   "execution_count": 761,
   "id": "032939c4",
   "metadata": {},
   "outputs": [
    {
     "data": {
      "text/plain": [
       "931"
      ]
     },
     "execution_count": 761,
     "metadata": {},
     "output_type": "execute_result"
    }
   ],
   "source": [
    "len(events)"
   ]
  },
  {
   "cell_type": "code",
   "execution_count": 803,
   "id": "2a97065a",
   "metadata": {},
   "outputs": [
    {
     "name": "stdout",
     "output_type": "stream",
     "text": [
      "Hùng Vương \n",
      "g \n",
      "#####\n",
      "Hùng Vương [3a] Con Lạc Long Quân (không rõ tên húy)5, đóng đô ở Phong Châu (nay là huyện Bạch Hạc)6. \n",
      "Hùng Vương lên ngôi, đặt quốc hiệu là Văn Lang (nước này đông giáp biển Nam Hải, tây đến Ba \n",
      "a \n",
      "#####\n",
      "Hùng Vương [3a] Con Lạc Long Quân (không rõ tên húy)5, đóng đô ở Phong Châu (nay là huyện Bạch Hạc)6. \n",
      "Hùng Vương lên ngôi, đặt quốc hiệu là Văn Lang (nước này đông giáp biển Nam Hải, tây đến Ba Thục, bắc đến hồ Động Đình, nam giáp nước Hồ Tôn, tức nước Chiêm Thành, nay là Quảng Nam), chia \n",
      "a \n",
      "#####\n",
      "Hùng Vương [3a] Con Lạc Long Quân (không rõ tên húy)5, đóng đô ở Phong Châu (nay là huyện Bạch Hạc)6. \n",
      "Hùng Vương lên ngôi, đặt quốc hiệu là Văn Lang (nước này đông giáp biển Nam Hải, tây đến Ba Thục, bắc đến hồ Động Đình, nam giáp nước Hồ Tôn, tức nước Chiêm Thành, nay là Quảng Nam), chia nước làm 15 bộ là: Giao Chỉ, Chu Diên, Vũ Ninh, Phúc Lộc, Việt Thường, Ninh Hải, Dương Tuyền, Lục \n",
      "c \n",
      "#####\n",
      "Hùng Vương [3a] Con Lạc Long Quân (không rõ tên húy)5, đóng đô ở Phong Châu (nay là huyện Bạch Hạc)6. \n",
      "Hùng Vương lên ngôi, đặt quốc hiệu là Văn Lang (nước này đông giáp biển Nam Hải, tây đến Ba Thục, bắc đến hồ Động Đình, nam giáp nước Hồ Tôn, tức nước Chiêm Thành, nay là Quảng Nam), chia nước làm 15 bộ là: Giao Chỉ, Chu Diên, Vũ Ninh, Phúc Lộc, Việt Thường, Ninh Hải, Dương Tuyền, Lục Hải, Vũ Định, Hoài Hoan, Cửu Chân, Bình Văn, Tân Hưng, Cửu Đức; đều là đất thần thuộc của Hùng \n",
      "g \n",
      "#####\n",
      "Hùng Vương [3a] Con Lạc Long Quân (không rõ tên húy)5, đóng đô ở Phong Châu (nay là huyện Bạch Hạc)6. \n",
      "Hùng Vương lên ngôi, đặt quốc hiệu là Văn Lang (nước này đông giáp biển Nam Hải, tây đến Ba Thục, bắc đến hồ Động Đình, nam giáp nước Hồ Tôn, tức nước Chiêm Thành, nay là Quảng Nam), chia nước làm 15 bộ là: Giao Chỉ, Chu Diên, Vũ Ninh, Phúc Lộc, Việt Thường, Ninh Hải, Dương Tuyền, Lục Hải, Vũ Định, Hoài Hoan, Cửu Chân, Bình Văn, Tân Hưng, Cửu Đức; đều là đất thần thuộc của Hùng Vương; còn bộ gọi là Văn Lang là nơi vua đóng đô1.  Đặt tướng văn gọi là Lạc Hầu, tướng võ gọi là Lạc \n",
      "c \n",
      "#####\n",
      "Hùng Vương [3a] Con Lạc Long Quân (không rõ tên húy)5, đóng đô ở Phong Châu (nay là huyện Bạch Hạc)6. \n",
      "Hùng Vương lên ngôi, đặt quốc hiệu là Văn Lang (nước này đông giáp biển Nam Hải, tây đến Ba Thục, bắc đến hồ Động Đình, nam giáp nước Hồ Tôn, tức nước Chiêm Thành, nay là Quảng Nam), chia nước làm 15 bộ là: Giao Chỉ, Chu Diên, Vũ Ninh, Phúc Lộc, Việt Thường, Ninh Hải, Dương Tuyền, Lục Hải, Vũ Định, Hoài Hoan, Cửu Chân, Bình Văn, Tân Hưng, Cửu Đức; đều là đất thần thuộc của Hùng Vương; còn bộ gọi là Văn Lang là nơi vua đóng đô1.  Đặt tướng văn gọi là Lạc Hầu, tướng võ gọi là Lạc Tướng (chữ Lạc Tướng, sau chép sai là Hùng Tướng2).  Con trai vua gọi là Quan Lang, con gái vua gọi là \n",
      "à \n",
      "#####\n",
      "Hùng Vương [3a] Con Lạc Long Quân (không rõ tên húy)5, đóng đô ở Phong Châu (nay là huyện Bạch Hạc)6. \n",
      "Hùng Vương lên ngôi, đặt quốc hiệu là Văn Lang (nước này đông giáp biển Nam Hải, tây đến Ba Thục, bắc đến hồ Động Đình, nam giáp nước Hồ Tôn, tức nước Chiêm Thành, nay là Quảng Nam), chia nước làm 15 bộ là: Giao Chỉ, Chu Diên, Vũ Ninh, Phúc Lộc, Việt Thường, Ninh Hải, Dương Tuyền, Lục Hải, Vũ Định, Hoài Hoan, Cửu Chân, Bình Văn, Tân Hưng, Cửu Đức; đều là đất thần thuộc của Hùng Vương; còn bộ gọi là Văn Lang là nơi vua đóng đô1.  Đặt tướng văn gọi là Lạc Hầu, tướng võ gọi là Lạc Tướng (chữ Lạc Tướng, sau chép sai là Hùng Tướng2).  Con trai vua gọi là Quan Lang, con gái vua gọi là Mị Nương.  Quan coi việc gọi là Bồ Chính, đời đời cha truyền con nối, gọi là phụ đạo.  Vua các đời đều \n",
      "u \n",
      "#####\n",
      "Hùng Vương [3a] Con Lạc Long Quân (không rõ tên húy)5, đóng đô ở Phong Châu (nay là huyện Bạch Hạc)6. \n",
      "Hùng Vương lên ngôi, đặt quốc hiệu là Văn Lang (nước này đông giáp biển Nam Hải, tây đến Ba Thục, bắc đến hồ Động Đình, nam giáp nước Hồ Tôn, tức nước Chiêm Thành, nay là Quảng Nam), chia nước làm 15 bộ là: Giao Chỉ, Chu Diên, Vũ Ninh, Phúc Lộc, Việt Thường, Ninh Hải, Dương Tuyền, Lục Hải, Vũ Định, Hoài Hoan, Cửu Chân, Bình Văn, Tân Hưng, Cửu Đức; đều là đất thần thuộc của Hùng Vương; còn bộ gọi là Văn Lang là nơi vua đóng đô1.  Đặt tướng văn gọi là Lạc Hầu, tướng võ gọi là Lạc Tướng (chữ Lạc Tướng, sau chép sai là Hùng Tướng2).  Con trai vua gọi là Quan Lang, con gái vua gọi là Mị Nương.  Quan coi việc gọi là Bồ Chính, đời đời cha truyền con nối, gọi là phụ đạo.  Vua các đời đều gọi là Hùng Vương.  Bấy giờ dân ở rừng núi thấy ở sông ngòi khe suối đều có tôm cá, nên rủ nhau đi bắt \n",
      "t \n",
      "#####\n",
      "Hùng Vương [3a] Con Lạc Long Quân (không rõ tên húy)5, đóng đô ở Phong Châu (nay là huyện Bạch Hạc)6. \n",
      "Hùng Vương lên ngôi, đặt quốc hiệu là Văn Lang (nước này đông giáp biển Nam Hải, tây đến Ba Thục, bắc đến hồ Động Đình, nam giáp nước Hồ Tôn, tức nước Chiêm Thành, nay là Quảng Nam), chia nước làm 15 bộ là: Giao Chỉ, Chu Diên, Vũ Ninh, Phúc Lộc, Việt Thường, Ninh Hải, Dương Tuyền, Lục Hải, Vũ Định, Hoài Hoan, Cửu Chân, Bình Văn, Tân Hưng, Cửu Đức; đều là đất thần thuộc của Hùng Vương; còn bộ gọi là Văn Lang là nơi vua đóng đô1.  Đặt tướng văn gọi là Lạc Hầu, tướng võ gọi là Lạc Tướng (chữ Lạc Tướng, sau chép sai là Hùng Tướng2).  Con trai vua gọi là Quan Lang, con gái vua gọi là Mị Nương.  Quan coi việc gọi là Bồ Chính, đời đời cha truyền con nối, gọi là phụ đạo.  Vua các đời đều gọi là Hùng Vương.  Bấy giờ dân ở rừng núi thấy ở sông ngòi khe suối đều có tôm cá, nên rủ nhau đi bắt cá để ăn, thường bị thuồng luồng làm hại, [3b] đến thưa với vua.  Vua nói: \"Người man ở núi khác với \n",
      "i \n",
      "#####\n",
      "Hùng Vương [3a] Con Lạc Long Quân (không rõ tên húy)5, đóng đô ở Phong Châu (nay là huyện Bạch Hạc)6. \n",
      "Hùng Vương lên ngôi, đặt quốc hiệu là Văn Lang (nước này đông giáp biển Nam Hải, tây đến Ba Thục, bắc đến hồ Động Đình, nam giáp nước Hồ Tôn, tức nước Chiêm Thành, nay là Quảng Nam), chia nước làm 15 bộ là: Giao Chỉ, Chu Diên, Vũ Ninh, Phúc Lộc, Việt Thường, Ninh Hải, Dương Tuyền, Lục Hải, Vũ Định, Hoài Hoan, Cửu Chân, Bình Văn, Tân Hưng, Cửu Đức; đều là đất thần thuộc của Hùng Vương; còn bộ gọi là Văn Lang là nơi vua đóng đô1.  Đặt tướng văn gọi là Lạc Hầu, tướng võ gọi là Lạc Tướng (chữ Lạc Tướng, sau chép sai là Hùng Tướng2).  Con trai vua gọi là Quan Lang, con gái vua gọi là Mị Nương.  Quan coi việc gọi là Bồ Chính, đời đời cha truyền con nối, gọi là phụ đạo.  Vua các đời đều gọi là Hùng Vương.  Bấy giờ dân ở rừng núi thấy ở sông ngòi khe suối đều có tôm cá, nên rủ nhau đi bắt cá để ăn, thường bị thuồng luồng làm hại, [3b] đến thưa với vua.  Vua nói: \"Người man ở núi khác với các loài thủy tộc; các thủy tộc ấy ưa cùng loài mà ghét khác loài, cho nên mới bị chúng làm hại.  Rồi vua \n",
      "a \n",
      "#####\n",
      "Hùng Vương [3a] Con Lạc Long Quân (không rõ tên húy)5, đóng đô ở Phong Châu (nay là huyện Bạch Hạc)6. \n",
      "Hùng Vương lên ngôi, đặt quốc hiệu là Văn Lang (nước này đông giáp biển Nam Hải, tây đến Ba Thục, bắc đến hồ Động Đình, nam giáp nước Hồ Tôn, tức nước Chiêm Thành, nay là Quảng Nam), chia nước làm 15 bộ là: Giao Chỉ, Chu Diên, Vũ Ninh, Phúc Lộc, Việt Thường, Ninh Hải, Dương Tuyền, Lục Hải, Vũ Định, Hoài Hoan, Cửu Chân, Bình Văn, Tân Hưng, Cửu Đức; đều là đất thần thuộc của Hùng Vương; còn bộ gọi là Văn Lang là nơi vua đóng đô1.  Đặt tướng văn gọi là Lạc Hầu, tướng võ gọi là Lạc Tướng (chữ Lạc Tướng, sau chép sai là Hùng Tướng2).  Con trai vua gọi là Quan Lang, con gái vua gọi là Mị Nương.  Quan coi việc gọi là Bồ Chính, đời đời cha truyền con nối, gọi là phụ đạo.  Vua các đời đều gọi là Hùng Vương.  Bấy giờ dân ở rừng núi thấy ở sông ngòi khe suối đều có tôm cá, nên rủ nhau đi bắt cá để ăn, thường bị thuồng luồng làm hại, [3b] đến thưa với vua.  Vua nói: \"Người man ở núi khác với các loài thủy tộc; các thủy tộc ấy ưa cùng loài mà ghét khác loài, cho nên mới bị chúng làm hại.  Rồi vua bảo mọi người lấy mực vẽ hình thủy quái ở mình.  Từ đấy thuồng luồng trông thấy không cắn hại nữa.  \n",
      "  \n",
      "#####\n",
      "Hùng Vương [3a] Con Lạc Long Quân (không rõ tên húy)5, đóng đô ở Phong Châu (nay là huyện Bạch Hạc)6. \n",
      "Hùng Vương lên ngôi, đặt quốc hiệu là Văn Lang (nước này đông giáp biển Nam Hải, tây đến Ba Thục, bắc đến hồ Động Đình, nam giáp nước Hồ Tôn, tức nước Chiêm Thành, nay là Quảng Nam), chia nước làm 15 bộ là: Giao Chỉ, Chu Diên, Vũ Ninh, Phúc Lộc, Việt Thường, Ninh Hải, Dương Tuyền, Lục Hải, Vũ Định, Hoài Hoan, Cửu Chân, Bình Văn, Tân Hưng, Cửu Đức; đều là đất thần thuộc của Hùng Vương; còn bộ gọi là Văn Lang là nơi vua đóng đô1.  Đặt tướng văn gọi là Lạc Hầu, tướng võ gọi là Lạc Tướng (chữ Lạc Tướng, sau chép sai là Hùng Tướng2).  Con trai vua gọi là Quan Lang, con gái vua gọi là Mị Nương.  Quan coi việc gọi là Bồ Chính, đời đời cha truyền con nối, gọi là phụ đạo.  Vua các đời đều gọi là Hùng Vương.  Bấy giờ dân ở rừng núi thấy ở sông ngòi khe suối đều có tôm cá, nên rủ nhau đi bắt cá để ăn, thường bị thuồng luồng làm hại, [3b] đến thưa với vua.  Vua nói: \"Người man ở núi khác với các loài thủy tộc; các thủy tộc ấy ưa cùng loài mà ghét khác loài, cho nên mới bị chúng làm hại.  Rồi vua bảo mọi người lấy mực vẽ hình thủy quái ở mình.  Từ đấy thuồng luồng trông thấy không cắn hại nữa.  Tục vẽ mình của người Bách Việt có lẽ bắt đầu từ đấy. \n",
      "Đời Hùng Vương thứ 6, ở hương Phù Đổng, bộ Vũ Ninh có người nhà giàu, sinh một con trai, đến \n",
      "n \n",
      "#####\n",
      "Hùng Vương [3a] Con Lạc Long Quân (không rõ tên húy)5, đóng đô ở Phong Châu (nay là huyện Bạch Hạc)6. \n",
      "Hùng Vương lên ngôi, đặt quốc hiệu là Văn Lang (nước này đông giáp biển Nam Hải, tây đến Ba Thục, bắc đến hồ Động Đình, nam giáp nước Hồ Tôn, tức nước Chiêm Thành, nay là Quảng Nam), chia nước làm 15 bộ là: Giao Chỉ, Chu Diên, Vũ Ninh, Phúc Lộc, Việt Thường, Ninh Hải, Dương Tuyền, Lục Hải, Vũ Định, Hoài Hoan, Cửu Chân, Bình Văn, Tân Hưng, Cửu Đức; đều là đất thần thuộc của Hùng Vương; còn bộ gọi là Văn Lang là nơi vua đóng đô1.  Đặt tướng văn gọi là Lạc Hầu, tướng võ gọi là Lạc Tướng (chữ Lạc Tướng, sau chép sai là Hùng Tướng2).  Con trai vua gọi là Quan Lang, con gái vua gọi là Mị Nương.  Quan coi việc gọi là Bồ Chính, đời đời cha truyền con nối, gọi là phụ đạo.  Vua các đời đều gọi là Hùng Vương.  Bấy giờ dân ở rừng núi thấy ở sông ngòi khe suối đều có tôm cá, nên rủ nhau đi bắt cá để ăn, thường bị thuồng luồng làm hại, [3b] đến thưa với vua.  Vua nói: \"Người man ở núi khác với các loài thủy tộc; các thủy tộc ấy ưa cùng loài mà ghét khác loài, cho nên mới bị chúng làm hại.  Rồi vua bảo mọi người lấy mực vẽ hình thủy quái ở mình.  Từ đấy thuồng luồng trông thấy không cắn hại nữa.  Tục vẽ mình của người Bách Việt có lẽ bắt đầu từ đấy. \n",
      "Đời Hùng Vương thứ 6, ở hương Phù Đổng, bộ Vũ Ninh có người nhà giàu, sinh một con trai, đến năm hơn ba tuổi ăn uống béo lớn nhưng không biết nói cười.  Gặp lúc trong nước có tin nguy cấp, vua \n",
      "a \n",
      "#####\n",
      "Hùng Vương [3a] Con Lạc Long Quân (không rõ tên húy)5, đóng đô ở Phong Châu (nay là huyện Bạch Hạc)6. \n",
      "Hùng Vương lên ngôi, đặt quốc hiệu là Văn Lang (nước này đông giáp biển Nam Hải, tây đến Ba Thục, bắc đến hồ Động Đình, nam giáp nước Hồ Tôn, tức nước Chiêm Thành, nay là Quảng Nam), chia nước làm 15 bộ là: Giao Chỉ, Chu Diên, Vũ Ninh, Phúc Lộc, Việt Thường, Ninh Hải, Dương Tuyền, Lục Hải, Vũ Định, Hoài Hoan, Cửu Chân, Bình Văn, Tân Hưng, Cửu Đức; đều là đất thần thuộc của Hùng Vương; còn bộ gọi là Văn Lang là nơi vua đóng đô1.  Đặt tướng văn gọi là Lạc Hầu, tướng võ gọi là Lạc Tướng (chữ Lạc Tướng, sau chép sai là Hùng Tướng2).  Con trai vua gọi là Quan Lang, con gái vua gọi là Mị Nương.  Quan coi việc gọi là Bồ Chính, đời đời cha truyền con nối, gọi là phụ đạo.  Vua các đời đều gọi là Hùng Vương.  Bấy giờ dân ở rừng núi thấy ở sông ngòi khe suối đều có tôm cá, nên rủ nhau đi bắt cá để ăn, thường bị thuồng luồng làm hại, [3b] đến thưa với vua.  Vua nói: \"Người man ở núi khác với các loài thủy tộc; các thủy tộc ấy ưa cùng loài mà ghét khác loài, cho nên mới bị chúng làm hại.  Rồi vua bảo mọi người lấy mực vẽ hình thủy quái ở mình.  Từ đấy thuồng luồng trông thấy không cắn hại nữa.  Tục vẽ mình của người Bách Việt có lẽ bắt đầu từ đấy. \n",
      "Đời Hùng Vương thứ 6, ở hương Phù Đổng, bộ Vũ Ninh có người nhà giàu, sinh một con trai, đến năm hơn ba tuổi ăn uống béo lớn nhưng không biết nói cười.  Gặp lúc trong nước có tin nguy cấp, vua sai người đi tìm người có thể đánh lui được giặc.  Ngày hôm ấy, đứa trẻ bỗng nói được, bảo mẹ ra mời \n",
      "i \n",
      "#####\n",
      "Hùng Vương [3a] Con Lạc Long Quân (không rõ tên húy)5, đóng đô ở Phong Châu (nay là huyện Bạch Hạc)6. \n",
      "Hùng Vương lên ngôi, đặt quốc hiệu là Văn Lang (nước này đông giáp biển Nam Hải, tây đến Ba Thục, bắc đến hồ Động Đình, nam giáp nước Hồ Tôn, tức nước Chiêm Thành, nay là Quảng Nam), chia nước làm 15 bộ là: Giao Chỉ, Chu Diên, Vũ Ninh, Phúc Lộc, Việt Thường, Ninh Hải, Dương Tuyền, Lục Hải, Vũ Định, Hoài Hoan, Cửu Chân, Bình Văn, Tân Hưng, Cửu Đức; đều là đất thần thuộc của Hùng Vương; còn bộ gọi là Văn Lang là nơi vua đóng đô1.  Đặt tướng văn gọi là Lạc Hầu, tướng võ gọi là Lạc Tướng (chữ Lạc Tướng, sau chép sai là Hùng Tướng2).  Con trai vua gọi là Quan Lang, con gái vua gọi là Mị Nương.  Quan coi việc gọi là Bồ Chính, đời đời cha truyền con nối, gọi là phụ đạo.  Vua các đời đều gọi là Hùng Vương.  Bấy giờ dân ở rừng núi thấy ở sông ngòi khe suối đều có tôm cá, nên rủ nhau đi bắt cá để ăn, thường bị thuồng luồng làm hại, [3b] đến thưa với vua.  Vua nói: \"Người man ở núi khác với các loài thủy tộc; các thủy tộc ấy ưa cùng loài mà ghét khác loài, cho nên mới bị chúng làm hại.  Rồi vua bảo mọi người lấy mực vẽ hình thủy quái ở mình.  Từ đấy thuồng luồng trông thấy không cắn hại nữa.  Tục vẽ mình của người Bách Việt có lẽ bắt đầu từ đấy. \n",
      "Đời Hùng Vương thứ 6, ở hương Phù Đổng, bộ Vũ Ninh có người nhà giàu, sinh một con trai, đến năm hơn ba tuổi ăn uống béo lớn nhưng không biết nói cười.  Gặp lúc trong nước có tin nguy cấp, vua sai người đi tìm người có thể đánh lui được giặc.  Ngày hôm ấy, đứa trẻ bỗng nói được, bảo mẹ ra mời thiên sứ vào, nói: \"Xin cho một thanh gươm, một con ngựa, vua không phải lo gì\".  Vua ban cho gươm \n",
      "m \n",
      "#####\n",
      "Hùng Vương [3a] Con Lạc Long Quân (không rõ tên húy)5, đóng đô ở Phong Châu (nay là huyện Bạch Hạc)6. \n",
      "Hùng Vương lên ngôi, đặt quốc hiệu là Văn Lang (nước này đông giáp biển Nam Hải, tây đến Ba Thục, bắc đến hồ Động Đình, nam giáp nước Hồ Tôn, tức nước Chiêm Thành, nay là Quảng Nam), chia nước làm 15 bộ là: Giao Chỉ, Chu Diên, Vũ Ninh, Phúc Lộc, Việt Thường, Ninh Hải, Dương Tuyền, Lục Hải, Vũ Định, Hoài Hoan, Cửu Chân, Bình Văn, Tân Hưng, Cửu Đức; đều là đất thần thuộc của Hùng Vương; còn bộ gọi là Văn Lang là nơi vua đóng đô1.  Đặt tướng văn gọi là Lạc Hầu, tướng võ gọi là Lạc Tướng (chữ Lạc Tướng, sau chép sai là Hùng Tướng2).  Con trai vua gọi là Quan Lang, con gái vua gọi là Mị Nương.  Quan coi việc gọi là Bồ Chính, đời đời cha truyền con nối, gọi là phụ đạo.  Vua các đời đều gọi là Hùng Vương.  Bấy giờ dân ở rừng núi thấy ở sông ngòi khe suối đều có tôm cá, nên rủ nhau đi bắt cá để ăn, thường bị thuồng luồng làm hại, [3b] đến thưa với vua.  Vua nói: \"Người man ở núi khác với các loài thủy tộc; các thủy tộc ấy ưa cùng loài mà ghét khác loài, cho nên mới bị chúng làm hại.  Rồi vua bảo mọi người lấy mực vẽ hình thủy quái ở mình.  Từ đấy thuồng luồng trông thấy không cắn hại nữa.  Tục vẽ mình của người Bách Việt có lẽ bắt đầu từ đấy. \n",
      "Đời Hùng Vương thứ 6, ở hương Phù Đổng, bộ Vũ Ninh có người nhà giàu, sinh một con trai, đến năm hơn ba tuổi ăn uống béo lớn nhưng không biết nói cười.  Gặp lúc trong nước có tin nguy cấp, vua sai người đi tìm người có thể đánh lui được giặc.  Ngày hôm ấy, đứa trẻ bỗng nói được, bảo mẹ ra mời thiên sứ vào, nói: \"Xin cho một thanh gươm, một con ngựa, vua không phải lo gì\".  Vua ban cho gươm và ngựa, đứa trẻ liền phi ngựa vung gươm tiến lên trước, quan quân theo sau, đánh tan quân giặc ở \n",
      "ở \n",
      "#####\n",
      "Hùng Vương [3a] Con Lạc Long Quân (không rõ tên húy)5, đóng đô ở Phong Châu (nay là huyện Bạch Hạc)6. \n",
      "Hùng Vương lên ngôi, đặt quốc hiệu là Văn Lang (nước này đông giáp biển Nam Hải, tây đến Ba Thục, bắc đến hồ Động Đình, nam giáp nước Hồ Tôn, tức nước Chiêm Thành, nay là Quảng Nam), chia nước làm 15 bộ là: Giao Chỉ, Chu Diên, Vũ Ninh, Phúc Lộc, Việt Thường, Ninh Hải, Dương Tuyền, Lục Hải, Vũ Định, Hoài Hoan, Cửu Chân, Bình Văn, Tân Hưng, Cửu Đức; đều là đất thần thuộc của Hùng Vương; còn bộ gọi là Văn Lang là nơi vua đóng đô1.  Đặt tướng văn gọi là Lạc Hầu, tướng võ gọi là Lạc Tướng (chữ Lạc Tướng, sau chép sai là Hùng Tướng2).  Con trai vua gọi là Quan Lang, con gái vua gọi là Mị Nương.  Quan coi việc gọi là Bồ Chính, đời đời cha truyền con nối, gọi là phụ đạo.  Vua các đời đều gọi là Hùng Vương.  Bấy giờ dân ở rừng núi thấy ở sông ngòi khe suối đều có tôm cá, nên rủ nhau đi bắt cá để ăn, thường bị thuồng luồng làm hại, [3b] đến thưa với vua.  Vua nói: \"Người man ở núi khác với các loài thủy tộc; các thủy tộc ấy ưa cùng loài mà ghét khác loài, cho nên mới bị chúng làm hại.  Rồi vua bảo mọi người lấy mực vẽ hình thủy quái ở mình.  Từ đấy thuồng luồng trông thấy không cắn hại nữa.  Tục vẽ mình của người Bách Việt có lẽ bắt đầu từ đấy. \n",
      "Đời Hùng Vương thứ 6, ở hương Phù Đổng, bộ Vũ Ninh có người nhà giàu, sinh một con trai, đến năm hơn ba tuổi ăn uống béo lớn nhưng không biết nói cười.  Gặp lúc trong nước có tin nguy cấp, vua sai người đi tìm người có thể đánh lui được giặc.  Ngày hôm ấy, đứa trẻ bỗng nói được, bảo mẹ ra mời thiên sứ vào, nói: \"Xin cho một thanh gươm, một con ngựa, vua không phải lo gì\".  Vua ban cho gươm và ngựa, đứa trẻ liền phi ngựa vung gươm tiến lên trước, quan quân theo sau, đánh tan quân giặc ở chân núi Vũ Ninh3.  Quân giặc tự quay giáo đánh lẫn nhau, chết rất nhiều, bọn sống sót đều rạp lạy, tôn \n",
      "n \n",
      "#####\n",
      "Hùng Vương [3a] Con Lạc Long Quân (không rõ tên húy)5, đóng đô ở Phong Châu (nay là huyện Bạch Hạc)6. \n",
      "Hùng Vương lên ngôi, đặt quốc hiệu là Văn Lang (nước này đông giáp biển Nam Hải, tây đến Ba Thục, bắc đến hồ Động Đình, nam giáp nước Hồ Tôn, tức nước Chiêm Thành, nay là Quảng Nam), chia nước làm 15 bộ là: Giao Chỉ, Chu Diên, Vũ Ninh, Phúc Lộc, Việt Thường, Ninh Hải, Dương Tuyền, Lục Hải, Vũ Định, Hoài Hoan, Cửu Chân, Bình Văn, Tân Hưng, Cửu Đức; đều là đất thần thuộc của Hùng Vương; còn bộ gọi là Văn Lang là nơi vua đóng đô1.  Đặt tướng văn gọi là Lạc Hầu, tướng võ gọi là Lạc Tướng (chữ Lạc Tướng, sau chép sai là Hùng Tướng2).  Con trai vua gọi là Quan Lang, con gái vua gọi là Mị Nương.  Quan coi việc gọi là Bồ Chính, đời đời cha truyền con nối, gọi là phụ đạo.  Vua các đời đều gọi là Hùng Vương.  Bấy giờ dân ở rừng núi thấy ở sông ngòi khe suối đều có tôm cá, nên rủ nhau đi bắt cá để ăn, thường bị thuồng luồng làm hại, [3b] đến thưa với vua.  Vua nói: \"Người man ở núi khác với các loài thủy tộc; các thủy tộc ấy ưa cùng loài mà ghét khác loài, cho nên mới bị chúng làm hại.  Rồi vua bảo mọi người lấy mực vẽ hình thủy quái ở mình.  Từ đấy thuồng luồng trông thấy không cắn hại nữa.  Tục vẽ mình của người Bách Việt có lẽ bắt đầu từ đấy. \n",
      "Đời Hùng Vương thứ 6, ở hương Phù Đổng, bộ Vũ Ninh có người nhà giàu, sinh một con trai, đến năm hơn ba tuổi ăn uống béo lớn nhưng không biết nói cười.  Gặp lúc trong nước có tin nguy cấp, vua sai người đi tìm người có thể đánh lui được giặc.  Ngày hôm ấy, đứa trẻ bỗng nói được, bảo mẹ ra mời thiên sứ vào, nói: \"Xin cho một thanh gươm, một con ngựa, vua không phải lo gì\".  Vua ban cho gươm và ngựa, đứa trẻ liền phi ngựa vung gươm tiến lên trước, quan quân theo sau, đánh tan quân giặc ở chân núi Vũ Ninh3.  Quân giặc tự quay giáo đánh lẫn nhau, chết rất nhiều, bọn sống sót đều rạp lạy, tôn gọi đứa trẻ ấy là thiên tướng, liền đến xin hàng cả.  Đứa trẻ phi ngựa [4a] lên trời mà đi.  Vua sai sửa \n",
      "a \n",
      "#####\n",
      "Hùng Vương [3a] Con Lạc Long Quân (không rõ tên húy)5, đóng đô ở Phong Châu (nay là huyện Bạch Hạc)6. \n",
      "Hùng Vương lên ngôi, đặt quốc hiệu là Văn Lang (nước này đông giáp biển Nam Hải, tây đến Ba Thục, bắc đến hồ Động Đình, nam giáp nước Hồ Tôn, tức nước Chiêm Thành, nay là Quảng Nam), chia nước làm 15 bộ là: Giao Chỉ, Chu Diên, Vũ Ninh, Phúc Lộc, Việt Thường, Ninh Hải, Dương Tuyền, Lục Hải, Vũ Định, Hoài Hoan, Cửu Chân, Bình Văn, Tân Hưng, Cửu Đức; đều là đất thần thuộc của Hùng Vương; còn bộ gọi là Văn Lang là nơi vua đóng đô1.  Đặt tướng văn gọi là Lạc Hầu, tướng võ gọi là Lạc Tướng (chữ Lạc Tướng, sau chép sai là Hùng Tướng2).  Con trai vua gọi là Quan Lang, con gái vua gọi là Mị Nương.  Quan coi việc gọi là Bồ Chính, đời đời cha truyền con nối, gọi là phụ đạo.  Vua các đời đều gọi là Hùng Vương.  Bấy giờ dân ở rừng núi thấy ở sông ngòi khe suối đều có tôm cá, nên rủ nhau đi bắt cá để ăn, thường bị thuồng luồng làm hại, [3b] đến thưa với vua.  Vua nói: \"Người man ở núi khác với các loài thủy tộc; các thủy tộc ấy ưa cùng loài mà ghét khác loài, cho nên mới bị chúng làm hại.  Rồi vua bảo mọi người lấy mực vẽ hình thủy quái ở mình.  Từ đấy thuồng luồng trông thấy không cắn hại nữa.  Tục vẽ mình của người Bách Việt có lẽ bắt đầu từ đấy. \n",
      "Đời Hùng Vương thứ 6, ở hương Phù Đổng, bộ Vũ Ninh có người nhà giàu, sinh một con trai, đến năm hơn ba tuổi ăn uống béo lớn nhưng không biết nói cười.  Gặp lúc trong nước có tin nguy cấp, vua sai người đi tìm người có thể đánh lui được giặc.  Ngày hôm ấy, đứa trẻ bỗng nói được, bảo mẹ ra mời thiên sứ vào, nói: \"Xin cho một thanh gươm, một con ngựa, vua không phải lo gì\".  Vua ban cho gươm và ngựa, đứa trẻ liền phi ngựa vung gươm tiến lên trước, quan quân theo sau, đánh tan quân giặc ở chân núi Vũ Ninh3.  Quân giặc tự quay giáo đánh lẫn nhau, chết rất nhiều, bọn sống sót đều rạp lạy, tôn gọi đứa trẻ ấy là thiên tướng, liền đến xin hàng cả.  Đứa trẻ phi ngựa [4a] lên trời mà đi.  Vua sai sửa sang chỗ vường nhà của đứa trẻ để lập đền thờ, tuế thời cúng tế.  Về sau, Lý Thái Tổ phong là Xung \n",
      "g \n",
      "#####\n",
      "Hùng Vương [3a] Con Lạc Long Quân (không rõ tên húy)5, đóng đô ở Phong Châu (nay là huyện Bạch Hạc)6. \n",
      "Hùng Vương lên ngôi, đặt quốc hiệu là Văn Lang (nước này đông giáp biển Nam Hải, tây đến Ba Thục, bắc đến hồ Động Đình, nam giáp nước Hồ Tôn, tức nước Chiêm Thành, nay là Quảng Nam), chia nước làm 15 bộ là: Giao Chỉ, Chu Diên, Vũ Ninh, Phúc Lộc, Việt Thường, Ninh Hải, Dương Tuyền, Lục Hải, Vũ Định, Hoài Hoan, Cửu Chân, Bình Văn, Tân Hưng, Cửu Đức; đều là đất thần thuộc của Hùng Vương; còn bộ gọi là Văn Lang là nơi vua đóng đô1.  Đặt tướng văn gọi là Lạc Hầu, tướng võ gọi là Lạc Tướng (chữ Lạc Tướng, sau chép sai là Hùng Tướng2).  Con trai vua gọi là Quan Lang, con gái vua gọi là Mị Nương.  Quan coi việc gọi là Bồ Chính, đời đời cha truyền con nối, gọi là phụ đạo.  Vua các đời đều gọi là Hùng Vương.  Bấy giờ dân ở rừng núi thấy ở sông ngòi khe suối đều có tôm cá, nên rủ nhau đi bắt cá để ăn, thường bị thuồng luồng làm hại, [3b] đến thưa với vua.  Vua nói: \"Người man ở núi khác với các loài thủy tộc; các thủy tộc ấy ưa cùng loài mà ghét khác loài, cho nên mới bị chúng làm hại.  Rồi vua bảo mọi người lấy mực vẽ hình thủy quái ở mình.  Từ đấy thuồng luồng trông thấy không cắn hại nữa.  Tục vẽ mình của người Bách Việt có lẽ bắt đầu từ đấy. \n",
      "Đời Hùng Vương thứ 6, ở hương Phù Đổng, bộ Vũ Ninh có người nhà giàu, sinh một con trai, đến năm hơn ba tuổi ăn uống béo lớn nhưng không biết nói cười.  Gặp lúc trong nước có tin nguy cấp, vua sai người đi tìm người có thể đánh lui được giặc.  Ngày hôm ấy, đứa trẻ bỗng nói được, bảo mẹ ra mời thiên sứ vào, nói: \"Xin cho một thanh gươm, một con ngựa, vua không phải lo gì\".  Vua ban cho gươm và ngựa, đứa trẻ liền phi ngựa vung gươm tiến lên trước, quan quân theo sau, đánh tan quân giặc ở chân núi Vũ Ninh3.  Quân giặc tự quay giáo đánh lẫn nhau, chết rất nhiều, bọn sống sót đều rạp lạy, tôn gọi đứa trẻ ấy là thiên tướng, liền đến xin hàng cả.  Đứa trẻ phi ngựa [4a] lên trời mà đi.  Vua sai sửa sang chỗ vường nhà của đứa trẻ để lập đền thờ, tuế thời cúng tế.  Về sau, Lý Thái Tổ phong là Xung Thiên Thần Vương.  (Đền thờ ở cạnh chùa Kiến Sơ, hương Phù Đổng). \n",
      "Thời Thành Vương nhà Chu [1063-1026 TCN], nước Việt ta lần đầu sang thăm nhà Chu (không \n",
      "g \n",
      "#####\n",
      "Hùng Vương [3a] Con Lạc Long Quân (không rõ tên húy)5, đóng đô ở Phong Châu (nay là huyện Bạch Hạc)6. \n",
      "Hùng Vương lên ngôi, đặt quốc hiệu là Văn Lang (nước này đông giáp biển Nam Hải, tây đến Ba Thục, bắc đến hồ Động Đình, nam giáp nước Hồ Tôn, tức nước Chiêm Thành, nay là Quảng Nam), chia nước làm 15 bộ là: Giao Chỉ, Chu Diên, Vũ Ninh, Phúc Lộc, Việt Thường, Ninh Hải, Dương Tuyền, Lục Hải, Vũ Định, Hoài Hoan, Cửu Chân, Bình Văn, Tân Hưng, Cửu Đức; đều là đất thần thuộc của Hùng Vương; còn bộ gọi là Văn Lang là nơi vua đóng đô1.  Đặt tướng văn gọi là Lạc Hầu, tướng võ gọi là Lạc Tướng (chữ Lạc Tướng, sau chép sai là Hùng Tướng2).  Con trai vua gọi là Quan Lang, con gái vua gọi là Mị Nương.  Quan coi việc gọi là Bồ Chính, đời đời cha truyền con nối, gọi là phụ đạo.  Vua các đời đều gọi là Hùng Vương.  Bấy giờ dân ở rừng núi thấy ở sông ngòi khe suối đều có tôm cá, nên rủ nhau đi bắt cá để ăn, thường bị thuồng luồng làm hại, [3b] đến thưa với vua.  Vua nói: \"Người man ở núi khác với các loài thủy tộc; các thủy tộc ấy ưa cùng loài mà ghét khác loài, cho nên mới bị chúng làm hại.  Rồi vua bảo mọi người lấy mực vẽ hình thủy quái ở mình.  Từ đấy thuồng luồng trông thấy không cắn hại nữa.  Tục vẽ mình của người Bách Việt có lẽ bắt đầu từ đấy. \n",
      "Đời Hùng Vương thứ 6, ở hương Phù Đổng, bộ Vũ Ninh có người nhà giàu, sinh một con trai, đến năm hơn ba tuổi ăn uống béo lớn nhưng không biết nói cười.  Gặp lúc trong nước có tin nguy cấp, vua sai người đi tìm người có thể đánh lui được giặc.  Ngày hôm ấy, đứa trẻ bỗng nói được, bảo mẹ ra mời thiên sứ vào, nói: \"Xin cho một thanh gươm, một con ngựa, vua không phải lo gì\".  Vua ban cho gươm và ngựa, đứa trẻ liền phi ngựa vung gươm tiến lên trước, quan quân theo sau, đánh tan quân giặc ở chân núi Vũ Ninh3.  Quân giặc tự quay giáo đánh lẫn nhau, chết rất nhiều, bọn sống sót đều rạp lạy, tôn gọi đứa trẻ ấy là thiên tướng, liền đến xin hàng cả.  Đứa trẻ phi ngựa [4a] lên trời mà đi.  Vua sai sửa sang chỗ vường nhà của đứa trẻ để lập đền thờ, tuế thời cúng tế.  Về sau, Lý Thái Tổ phong là Xung Thiên Thần Vương.  (Đền thờ ở cạnh chùa Kiến Sơ, hương Phù Đổng). \n",
      "Thời Thành Vương nhà Chu [1063-1026 TCN], nước Việt ta lần đầu sang thăm nhà Chu (không rõ vào đời Hùng Vương thứ mấy), xưng là Việt Thường thị, hiến chim trĩ trắng.  Chu Công nói: \"Chính \n",
      "h \n",
      "#####\n",
      "Hùng Vương [3a] Con Lạc Long Quân (không rõ tên húy)5, đóng đô ở Phong Châu (nay là huyện Bạch Hạc)6. \n",
      "Hùng Vương lên ngôi, đặt quốc hiệu là Văn Lang (nước này đông giáp biển Nam Hải, tây đến Ba Thục, bắc đến hồ Động Đình, nam giáp nước Hồ Tôn, tức nước Chiêm Thành, nay là Quảng Nam), chia nước làm 15 bộ là: Giao Chỉ, Chu Diên, Vũ Ninh, Phúc Lộc, Việt Thường, Ninh Hải, Dương Tuyền, Lục Hải, Vũ Định, Hoài Hoan, Cửu Chân, Bình Văn, Tân Hưng, Cửu Đức; đều là đất thần thuộc của Hùng Vương; còn bộ gọi là Văn Lang là nơi vua đóng đô1.  Đặt tướng văn gọi là Lạc Hầu, tướng võ gọi là Lạc Tướng (chữ Lạc Tướng, sau chép sai là Hùng Tướng2).  Con trai vua gọi là Quan Lang, con gái vua gọi là Mị Nương.  Quan coi việc gọi là Bồ Chính, đời đời cha truyền con nối, gọi là phụ đạo.  Vua các đời đều gọi là Hùng Vương.  Bấy giờ dân ở rừng núi thấy ở sông ngòi khe suối đều có tôm cá, nên rủ nhau đi bắt cá để ăn, thường bị thuồng luồng làm hại, [3b] đến thưa với vua.  Vua nói: \"Người man ở núi khác với các loài thủy tộc; các thủy tộc ấy ưa cùng loài mà ghét khác loài, cho nên mới bị chúng làm hại.  Rồi vua bảo mọi người lấy mực vẽ hình thủy quái ở mình.  Từ đấy thuồng luồng trông thấy không cắn hại nữa.  Tục vẽ mình của người Bách Việt có lẽ bắt đầu từ đấy. \n",
      "Đời Hùng Vương thứ 6, ở hương Phù Đổng, bộ Vũ Ninh có người nhà giàu, sinh một con trai, đến năm hơn ba tuổi ăn uống béo lớn nhưng không biết nói cười.  Gặp lúc trong nước có tin nguy cấp, vua sai người đi tìm người có thể đánh lui được giặc.  Ngày hôm ấy, đứa trẻ bỗng nói được, bảo mẹ ra mời thiên sứ vào, nói: \"Xin cho một thanh gươm, một con ngựa, vua không phải lo gì\".  Vua ban cho gươm và ngựa, đứa trẻ liền phi ngựa vung gươm tiến lên trước, quan quân theo sau, đánh tan quân giặc ở chân núi Vũ Ninh3.  Quân giặc tự quay giáo đánh lẫn nhau, chết rất nhiều, bọn sống sót đều rạp lạy, tôn gọi đứa trẻ ấy là thiên tướng, liền đến xin hàng cả.  Đứa trẻ phi ngựa [4a] lên trời mà đi.  Vua sai sửa sang chỗ vường nhà của đứa trẻ để lập đền thờ, tuế thời cúng tế.  Về sau, Lý Thái Tổ phong là Xung Thiên Thần Vương.  (Đền thờ ở cạnh chùa Kiến Sơ, hương Phù Đổng). \n",
      "Thời Thành Vương nhà Chu [1063-1026 TCN], nước Việt ta lần đầu sang thăm nhà Chu (không rõ vào đời Hùng Vương thứ mấy), xưng là Việt Thường thị, hiến chim trĩ trắng.  Chu Công nói: \"Chính lệnh không ban đến thì người quân tử không coi người ta là bề tôi của mình\", rồi sai làm xe chỉ nam đưa \n",
      "a \n",
      "#####\n",
      "Hùng Vương [3a] Con Lạc Long Quân (không rõ tên húy)5, đóng đô ở Phong Châu (nay là huyện Bạch Hạc)6. \n",
      "Hùng Vương lên ngôi, đặt quốc hiệu là Văn Lang (nước này đông giáp biển Nam Hải, tây đến Ba Thục, bắc đến hồ Động Đình, nam giáp nước Hồ Tôn, tức nước Chiêm Thành, nay là Quảng Nam), chia nước làm 15 bộ là: Giao Chỉ, Chu Diên, Vũ Ninh, Phúc Lộc, Việt Thường, Ninh Hải, Dương Tuyền, Lục Hải, Vũ Định, Hoài Hoan, Cửu Chân, Bình Văn, Tân Hưng, Cửu Đức; đều là đất thần thuộc của Hùng Vương; còn bộ gọi là Văn Lang là nơi vua đóng đô1.  Đặt tướng văn gọi là Lạc Hầu, tướng võ gọi là Lạc Tướng (chữ Lạc Tướng, sau chép sai là Hùng Tướng2).  Con trai vua gọi là Quan Lang, con gái vua gọi là Mị Nương.  Quan coi việc gọi là Bồ Chính, đời đời cha truyền con nối, gọi là phụ đạo.  Vua các đời đều gọi là Hùng Vương.  Bấy giờ dân ở rừng núi thấy ở sông ngòi khe suối đều có tôm cá, nên rủ nhau đi bắt cá để ăn, thường bị thuồng luồng làm hại, [3b] đến thưa với vua.  Vua nói: \"Người man ở núi khác với các loài thủy tộc; các thủy tộc ấy ưa cùng loài mà ghét khác loài, cho nên mới bị chúng làm hại.  Rồi vua bảo mọi người lấy mực vẽ hình thủy quái ở mình.  Từ đấy thuồng luồng trông thấy không cắn hại nữa.  Tục vẽ mình của người Bách Việt có lẽ bắt đầu từ đấy. \n",
      "Đời Hùng Vương thứ 6, ở hương Phù Đổng, bộ Vũ Ninh có người nhà giàu, sinh một con trai, đến năm hơn ba tuổi ăn uống béo lớn nhưng không biết nói cười.  Gặp lúc trong nước có tin nguy cấp, vua sai người đi tìm người có thể đánh lui được giặc.  Ngày hôm ấy, đứa trẻ bỗng nói được, bảo mẹ ra mời thiên sứ vào, nói: \"Xin cho một thanh gươm, một con ngựa, vua không phải lo gì\".  Vua ban cho gươm và ngựa, đứa trẻ liền phi ngựa vung gươm tiến lên trước, quan quân theo sau, đánh tan quân giặc ở chân núi Vũ Ninh3.  Quân giặc tự quay giáo đánh lẫn nhau, chết rất nhiều, bọn sống sót đều rạp lạy, tôn gọi đứa trẻ ấy là thiên tướng, liền đến xin hàng cả.  Đứa trẻ phi ngựa [4a] lên trời mà đi.  Vua sai sửa sang chỗ vường nhà của đứa trẻ để lập đền thờ, tuế thời cúng tế.  Về sau, Lý Thái Tổ phong là Xung Thiên Thần Vương.  (Đền thờ ở cạnh chùa Kiến Sơ, hương Phù Đổng). \n",
      "Thời Thành Vương nhà Chu [1063-1026 TCN], nước Việt ta lần đầu sang thăm nhà Chu (không rõ vào đời Hùng Vương thứ mấy), xưng là Việt Thường thị, hiến chim trĩ trắng.  Chu Công nói: \"Chính lệnh không ban đến thì người quân tử không coi người ta là bề tôi của mình\", rồi sai làm xe chỉ nam đưa sứ giả về nước. \n",
      "Cuối thời Hùng Vương, vua có con gái gọi là Mị Nương, nhan sắc xinh đẹp.  Thục Vương nghe \n",
      "e \n",
      "#####\n",
      "Hùng Vương [3a] Con Lạc Long Quân (không rõ tên húy)5, đóng đô ở Phong Châu (nay là huyện Bạch Hạc)6. \n",
      "Hùng Vương lên ngôi, đặt quốc hiệu là Văn Lang (nước này đông giáp biển Nam Hải, tây đến Ba Thục, bắc đến hồ Động Đình, nam giáp nước Hồ Tôn, tức nước Chiêm Thành, nay là Quảng Nam), chia nước làm 15 bộ là: Giao Chỉ, Chu Diên, Vũ Ninh, Phúc Lộc, Việt Thường, Ninh Hải, Dương Tuyền, Lục Hải, Vũ Định, Hoài Hoan, Cửu Chân, Bình Văn, Tân Hưng, Cửu Đức; đều là đất thần thuộc của Hùng Vương; còn bộ gọi là Văn Lang là nơi vua đóng đô1.  Đặt tướng văn gọi là Lạc Hầu, tướng võ gọi là Lạc Tướng (chữ Lạc Tướng, sau chép sai là Hùng Tướng2).  Con trai vua gọi là Quan Lang, con gái vua gọi là Mị Nương.  Quan coi việc gọi là Bồ Chính, đời đời cha truyền con nối, gọi là phụ đạo.  Vua các đời đều gọi là Hùng Vương.  Bấy giờ dân ở rừng núi thấy ở sông ngòi khe suối đều có tôm cá, nên rủ nhau đi bắt cá để ăn, thường bị thuồng luồng làm hại, [3b] đến thưa với vua.  Vua nói: \"Người man ở núi khác với các loài thủy tộc; các thủy tộc ấy ưa cùng loài mà ghét khác loài, cho nên mới bị chúng làm hại.  Rồi vua bảo mọi người lấy mực vẽ hình thủy quái ở mình.  Từ đấy thuồng luồng trông thấy không cắn hại nữa.  Tục vẽ mình của người Bách Việt có lẽ bắt đầu từ đấy. \n",
      "Đời Hùng Vương thứ 6, ở hương Phù Đổng, bộ Vũ Ninh có người nhà giàu, sinh một con trai, đến năm hơn ba tuổi ăn uống béo lớn nhưng không biết nói cười.  Gặp lúc trong nước có tin nguy cấp, vua sai người đi tìm người có thể đánh lui được giặc.  Ngày hôm ấy, đứa trẻ bỗng nói được, bảo mẹ ra mời thiên sứ vào, nói: \"Xin cho một thanh gươm, một con ngựa, vua không phải lo gì\".  Vua ban cho gươm và ngựa, đứa trẻ liền phi ngựa vung gươm tiến lên trước, quan quân theo sau, đánh tan quân giặc ở chân núi Vũ Ninh3.  Quân giặc tự quay giáo đánh lẫn nhau, chết rất nhiều, bọn sống sót đều rạp lạy, tôn gọi đứa trẻ ấy là thiên tướng, liền đến xin hàng cả.  Đứa trẻ phi ngựa [4a] lên trời mà đi.  Vua sai sửa sang chỗ vường nhà của đứa trẻ để lập đền thờ, tuế thời cúng tế.  Về sau, Lý Thái Tổ phong là Xung Thiên Thần Vương.  (Đền thờ ở cạnh chùa Kiến Sơ, hương Phù Đổng). \n",
      "Thời Thành Vương nhà Chu [1063-1026 TCN], nước Việt ta lần đầu sang thăm nhà Chu (không rõ vào đời Hùng Vương thứ mấy), xưng là Việt Thường thị, hiến chim trĩ trắng.  Chu Công nói: \"Chính lệnh không ban đến thì người quân tử không coi người ta là bề tôi của mình\", rồi sai làm xe chỉ nam đưa sứ giả về nước. \n",
      "Cuối thời Hùng Vương, vua có con gái gọi là Mị Nương, nhan sắc xinh đẹp.  Thục Vương nghe tiếng, đến cầu hôn.  Vua muốn gả, nhưng Hùng hầu can rằng: \"Họ muốn chiếm nước ta, chỉ lấy việc hôn \n",
      "n \n",
      "#####\n",
      "Hùng Vương [3a] Con Lạc Long Quân (không rõ tên húy)5, đóng đô ở Phong Châu (nay là huyện Bạch Hạc)6. \n",
      "Hùng Vương lên ngôi, đặt quốc hiệu là Văn Lang (nước này đông giáp biển Nam Hải, tây đến Ba Thục, bắc đến hồ Động Đình, nam giáp nước Hồ Tôn, tức nước Chiêm Thành, nay là Quảng Nam), chia nước làm 15 bộ là: Giao Chỉ, Chu Diên, Vũ Ninh, Phúc Lộc, Việt Thường, Ninh Hải, Dương Tuyền, Lục Hải, Vũ Định, Hoài Hoan, Cửu Chân, Bình Văn, Tân Hưng, Cửu Đức; đều là đất thần thuộc của Hùng Vương; còn bộ gọi là Văn Lang là nơi vua đóng đô1.  Đặt tướng văn gọi là Lạc Hầu, tướng võ gọi là Lạc Tướng (chữ Lạc Tướng, sau chép sai là Hùng Tướng2).  Con trai vua gọi là Quan Lang, con gái vua gọi là Mị Nương.  Quan coi việc gọi là Bồ Chính, đời đời cha truyền con nối, gọi là phụ đạo.  Vua các đời đều gọi là Hùng Vương.  Bấy giờ dân ở rừng núi thấy ở sông ngòi khe suối đều có tôm cá, nên rủ nhau đi bắt cá để ăn, thường bị thuồng luồng làm hại, [3b] đến thưa với vua.  Vua nói: \"Người man ở núi khác với các loài thủy tộc; các thủy tộc ấy ưa cùng loài mà ghét khác loài, cho nên mới bị chúng làm hại.  Rồi vua bảo mọi người lấy mực vẽ hình thủy quái ở mình.  Từ đấy thuồng luồng trông thấy không cắn hại nữa.  Tục vẽ mình của người Bách Việt có lẽ bắt đầu từ đấy. \n",
      "Đời Hùng Vương thứ 6, ở hương Phù Đổng, bộ Vũ Ninh có người nhà giàu, sinh một con trai, đến năm hơn ba tuổi ăn uống béo lớn nhưng không biết nói cười.  Gặp lúc trong nước có tin nguy cấp, vua sai người đi tìm người có thể đánh lui được giặc.  Ngày hôm ấy, đứa trẻ bỗng nói được, bảo mẹ ra mời thiên sứ vào, nói: \"Xin cho một thanh gươm, một con ngựa, vua không phải lo gì\".  Vua ban cho gươm và ngựa, đứa trẻ liền phi ngựa vung gươm tiến lên trước, quan quân theo sau, đánh tan quân giặc ở chân núi Vũ Ninh3.  Quân giặc tự quay giáo đánh lẫn nhau, chết rất nhiều, bọn sống sót đều rạp lạy, tôn gọi đứa trẻ ấy là thiên tướng, liền đến xin hàng cả.  Đứa trẻ phi ngựa [4a] lên trời mà đi.  Vua sai sửa sang chỗ vường nhà của đứa trẻ để lập đền thờ, tuế thời cúng tế.  Về sau, Lý Thái Tổ phong là Xung Thiên Thần Vương.  (Đền thờ ở cạnh chùa Kiến Sơ, hương Phù Đổng). \n",
      "Thời Thành Vương nhà Chu [1063-1026 TCN], nước Việt ta lần đầu sang thăm nhà Chu (không rõ vào đời Hùng Vương thứ mấy), xưng là Việt Thường thị, hiến chim trĩ trắng.  Chu Công nói: \"Chính lệnh không ban đến thì người quân tử không coi người ta là bề tôi của mình\", rồi sai làm xe chỉ nam đưa sứ giả về nước. \n",
      "Cuối thời Hùng Vương, vua có con gái gọi là Mị Nương, nhan sắc xinh đẹp.  Thục Vương nghe tiếng, đến cầu hôn.  Vua muốn gả, nhưng Hùng hầu can rằng: \"Họ muốn chiếm nước ta, chỉ lấy việc hôn nhân làm cớ mà thôi\".  Thục Vương vì chuyện ấy để bụng oán giận.  Vua muốn tìm người xứng đáng để \n",
      "ể \n",
      "#####\n",
      "Hùng Vương [3a] Con Lạc Long Quân (không rõ tên húy)5, đóng đô ở Phong Châu (nay là huyện Bạch Hạc)6. \n",
      "Hùng Vương lên ngôi, đặt quốc hiệu là Văn Lang (nước này đông giáp biển Nam Hải, tây đến Ba Thục, bắc đến hồ Động Đình, nam giáp nước Hồ Tôn, tức nước Chiêm Thành, nay là Quảng Nam), chia nước làm 15 bộ là: Giao Chỉ, Chu Diên, Vũ Ninh, Phúc Lộc, Việt Thường, Ninh Hải, Dương Tuyền, Lục Hải, Vũ Định, Hoài Hoan, Cửu Chân, Bình Văn, Tân Hưng, Cửu Đức; đều là đất thần thuộc của Hùng Vương; còn bộ gọi là Văn Lang là nơi vua đóng đô1.  Đặt tướng văn gọi là Lạc Hầu, tướng võ gọi là Lạc Tướng (chữ Lạc Tướng, sau chép sai là Hùng Tướng2).  Con trai vua gọi là Quan Lang, con gái vua gọi là Mị Nương.  Quan coi việc gọi là Bồ Chính, đời đời cha truyền con nối, gọi là phụ đạo.  Vua các đời đều gọi là Hùng Vương.  Bấy giờ dân ở rừng núi thấy ở sông ngòi khe suối đều có tôm cá, nên rủ nhau đi bắt cá để ăn, thường bị thuồng luồng làm hại, [3b] đến thưa với vua.  Vua nói: \"Người man ở núi khác với các loài thủy tộc; các thủy tộc ấy ưa cùng loài mà ghét khác loài, cho nên mới bị chúng làm hại.  Rồi vua bảo mọi người lấy mực vẽ hình thủy quái ở mình.  Từ đấy thuồng luồng trông thấy không cắn hại nữa.  Tục vẽ mình của người Bách Việt có lẽ bắt đầu từ đấy. \n",
      "Đời Hùng Vương thứ 6, ở hương Phù Đổng, bộ Vũ Ninh có người nhà giàu, sinh một con trai, đến năm hơn ba tuổi ăn uống béo lớn nhưng không biết nói cười.  Gặp lúc trong nước có tin nguy cấp, vua sai người đi tìm người có thể đánh lui được giặc.  Ngày hôm ấy, đứa trẻ bỗng nói được, bảo mẹ ra mời thiên sứ vào, nói: \"Xin cho một thanh gươm, một con ngựa, vua không phải lo gì\".  Vua ban cho gươm và ngựa, đứa trẻ liền phi ngựa vung gươm tiến lên trước, quan quân theo sau, đánh tan quân giặc ở chân núi Vũ Ninh3.  Quân giặc tự quay giáo đánh lẫn nhau, chết rất nhiều, bọn sống sót đều rạp lạy, tôn gọi đứa trẻ ấy là thiên tướng, liền đến xin hàng cả.  Đứa trẻ phi ngựa [4a] lên trời mà đi.  Vua sai sửa sang chỗ vường nhà của đứa trẻ để lập đền thờ, tuế thời cúng tế.  Về sau, Lý Thái Tổ phong là Xung Thiên Thần Vương.  (Đền thờ ở cạnh chùa Kiến Sơ, hương Phù Đổng). \n",
      "Thời Thành Vương nhà Chu [1063-1026 TCN], nước Việt ta lần đầu sang thăm nhà Chu (không rõ vào đời Hùng Vương thứ mấy), xưng là Việt Thường thị, hiến chim trĩ trắng.  Chu Công nói: \"Chính lệnh không ban đến thì người quân tử không coi người ta là bề tôi của mình\", rồi sai làm xe chỉ nam đưa sứ giả về nước. \n",
      "Cuối thời Hùng Vương, vua có con gái gọi là Mị Nương, nhan sắc xinh đẹp.  Thục Vương nghe tiếng, đến cầu hôn.  Vua muốn gả, nhưng Hùng hầu can rằng: \"Họ muốn chiếm nước ta, chỉ lấy việc hôn nhân làm cớ mà thôi\".  Thục Vương vì chuyện ấy để bụng oán giận.  Vua muốn tìm người xứng đáng để gả, bảo các bề tôi rằng: \"Đứa con gái này là giống tiên, người nào có đủ tài đức mới cho làm rể\".  Bấy \n",
      "y \n",
      "#####\n",
      "Hùng Vương [3a] Con Lạc Long Quân (không rõ tên húy)5, đóng đô ở Phong Châu (nay là huyện Bạch Hạc)6. \n",
      "Hùng Vương lên ngôi, đặt quốc hiệu là Văn Lang (nước này đông giáp biển Nam Hải, tây đến Ba Thục, bắc đến hồ Động Đình, nam giáp nước Hồ Tôn, tức nước Chiêm Thành, nay là Quảng Nam), chia nước làm 15 bộ là: Giao Chỉ, Chu Diên, Vũ Ninh, Phúc Lộc, Việt Thường, Ninh Hải, Dương Tuyền, Lục Hải, Vũ Định, Hoài Hoan, Cửu Chân, Bình Văn, Tân Hưng, Cửu Đức; đều là đất thần thuộc của Hùng Vương; còn bộ gọi là Văn Lang là nơi vua đóng đô1.  Đặt tướng văn gọi là Lạc Hầu, tướng võ gọi là Lạc Tướng (chữ Lạc Tướng, sau chép sai là Hùng Tướng2).  Con trai vua gọi là Quan Lang, con gái vua gọi là Mị Nương.  Quan coi việc gọi là Bồ Chính, đời đời cha truyền con nối, gọi là phụ đạo.  Vua các đời đều gọi là Hùng Vương.  Bấy giờ dân ở rừng núi thấy ở sông ngòi khe suối đều có tôm cá, nên rủ nhau đi bắt cá để ăn, thường bị thuồng luồng làm hại, [3b] đến thưa với vua.  Vua nói: \"Người man ở núi khác với các loài thủy tộc; các thủy tộc ấy ưa cùng loài mà ghét khác loài, cho nên mới bị chúng làm hại.  Rồi vua bảo mọi người lấy mực vẽ hình thủy quái ở mình.  Từ đấy thuồng luồng trông thấy không cắn hại nữa.  Tục vẽ mình của người Bách Việt có lẽ bắt đầu từ đấy. \n",
      "Đời Hùng Vương thứ 6, ở hương Phù Đổng, bộ Vũ Ninh có người nhà giàu, sinh một con trai, đến năm hơn ba tuổi ăn uống béo lớn nhưng không biết nói cười.  Gặp lúc trong nước có tin nguy cấp, vua sai người đi tìm người có thể đánh lui được giặc.  Ngày hôm ấy, đứa trẻ bỗng nói được, bảo mẹ ra mời thiên sứ vào, nói: \"Xin cho một thanh gươm, một con ngựa, vua không phải lo gì\".  Vua ban cho gươm và ngựa, đứa trẻ liền phi ngựa vung gươm tiến lên trước, quan quân theo sau, đánh tan quân giặc ở chân núi Vũ Ninh3.  Quân giặc tự quay giáo đánh lẫn nhau, chết rất nhiều, bọn sống sót đều rạp lạy, tôn gọi đứa trẻ ấy là thiên tướng, liền đến xin hàng cả.  Đứa trẻ phi ngựa [4a] lên trời mà đi.  Vua sai sửa sang chỗ vường nhà của đứa trẻ để lập đền thờ, tuế thời cúng tế.  Về sau, Lý Thái Tổ phong là Xung Thiên Thần Vương.  (Đền thờ ở cạnh chùa Kiến Sơ, hương Phù Đổng). \n",
      "Thời Thành Vương nhà Chu [1063-1026 TCN], nước Việt ta lần đầu sang thăm nhà Chu (không rõ vào đời Hùng Vương thứ mấy), xưng là Việt Thường thị, hiến chim trĩ trắng.  Chu Công nói: \"Chính lệnh không ban đến thì người quân tử không coi người ta là bề tôi của mình\", rồi sai làm xe chỉ nam đưa sứ giả về nước. \n",
      "Cuối thời Hùng Vương, vua có con gái gọi là Mị Nương, nhan sắc xinh đẹp.  Thục Vương nghe tiếng, đến cầu hôn.  Vua muốn gả, nhưng Hùng hầu can rằng: \"Họ muốn chiếm nước ta, chỉ lấy việc hôn nhân làm cớ mà thôi\".  Thục Vương vì chuyện ấy để bụng oán giận.  Vua muốn tìm người xứng đáng để gả, bảo các bề tôi rằng: \"Đứa con gái này là giống tiên, người nào có đủ tài đức mới cho làm rể\".  Bấy giờ có hai người từ ngoài đến, lạy dưới sân để cầu hôn.  Vua lấy làm lạ, hỏi thì họ thưa rằng một người \n",
      "i \n",
      "#####\n",
      "Hùng Vương [3a] Con Lạc Long Quân (không rõ tên húy)5, đóng đô ở Phong Châu (nay là huyện Bạch Hạc)6. \n",
      "Hùng Vương lên ngôi, đặt quốc hiệu là Văn Lang (nước này đông giáp biển Nam Hải, tây đến Ba Thục, bắc đến hồ Động Đình, nam giáp nước Hồ Tôn, tức nước Chiêm Thành, nay là Quảng Nam), chia nước làm 15 bộ là: Giao Chỉ, Chu Diên, Vũ Ninh, Phúc Lộc, Việt Thường, Ninh Hải, Dương Tuyền, Lục Hải, Vũ Định, Hoài Hoan, Cửu Chân, Bình Văn, Tân Hưng, Cửu Đức; đều là đất thần thuộc của Hùng Vương; còn bộ gọi là Văn Lang là nơi vua đóng đô1.  Đặt tướng văn gọi là Lạc Hầu, tướng võ gọi là Lạc Tướng (chữ Lạc Tướng, sau chép sai là Hùng Tướng2).  Con trai vua gọi là Quan Lang, con gái vua gọi là Mị Nương.  Quan coi việc gọi là Bồ Chính, đời đời cha truyền con nối, gọi là phụ đạo.  Vua các đời đều gọi là Hùng Vương.  Bấy giờ dân ở rừng núi thấy ở sông ngòi khe suối đều có tôm cá, nên rủ nhau đi bắt cá để ăn, thường bị thuồng luồng làm hại, [3b] đến thưa với vua.  Vua nói: \"Người man ở núi khác với các loài thủy tộc; các thủy tộc ấy ưa cùng loài mà ghét khác loài, cho nên mới bị chúng làm hại.  Rồi vua bảo mọi người lấy mực vẽ hình thủy quái ở mình.  Từ đấy thuồng luồng trông thấy không cắn hại nữa.  Tục vẽ mình của người Bách Việt có lẽ bắt đầu từ đấy. \n",
      "Đời Hùng Vương thứ 6, ở hương Phù Đổng, bộ Vũ Ninh có người nhà giàu, sinh một con trai, đến năm hơn ba tuổi ăn uống béo lớn nhưng không biết nói cười.  Gặp lúc trong nước có tin nguy cấp, vua sai người đi tìm người có thể đánh lui được giặc.  Ngày hôm ấy, đứa trẻ bỗng nói được, bảo mẹ ra mời thiên sứ vào, nói: \"Xin cho một thanh gươm, một con ngựa, vua không phải lo gì\".  Vua ban cho gươm và ngựa, đứa trẻ liền phi ngựa vung gươm tiến lên trước, quan quân theo sau, đánh tan quân giặc ở chân núi Vũ Ninh3.  Quân giặc tự quay giáo đánh lẫn nhau, chết rất nhiều, bọn sống sót đều rạp lạy, tôn gọi đứa trẻ ấy là thiên tướng, liền đến xin hàng cả.  Đứa trẻ phi ngựa [4a] lên trời mà đi.  Vua sai sửa sang chỗ vường nhà của đứa trẻ để lập đền thờ, tuế thời cúng tế.  Về sau, Lý Thái Tổ phong là Xung Thiên Thần Vương.  (Đền thờ ở cạnh chùa Kiến Sơ, hương Phù Đổng). \n",
      "Thời Thành Vương nhà Chu [1063-1026 TCN], nước Việt ta lần đầu sang thăm nhà Chu (không rõ vào đời Hùng Vương thứ mấy), xưng là Việt Thường thị, hiến chim trĩ trắng.  Chu Công nói: \"Chính lệnh không ban đến thì người quân tử không coi người ta là bề tôi của mình\", rồi sai làm xe chỉ nam đưa sứ giả về nước. \n",
      "Cuối thời Hùng Vương, vua có con gái gọi là Mị Nương, nhan sắc xinh đẹp.  Thục Vương nghe tiếng, đến cầu hôn.  Vua muốn gả, nhưng Hùng hầu can rằng: \"Họ muốn chiếm nước ta, chỉ lấy việc hôn nhân làm cớ mà thôi\".  Thục Vương vì chuyện ấy để bụng oán giận.  Vua muốn tìm người xứng đáng để gả, bảo các bề tôi rằng: \"Đứa con gái này là giống tiên, người nào có đủ tài đức mới cho làm rể\".  Bấy giờ có hai người từ ngoài đến, lạy dưới sân để cầu hôn.  Vua lấy làm lạ, hỏi thì họ thưa rằng một người là [4b] Sơn Tinh, một người là Thủy Tinh, đều ở trong cõi cả, nghe nhà vua có thánh nữ, đánh bạo đến \n",
      "n \n",
      "#####\n",
      "Hùng Vương [3a] Con Lạc Long Quân (không rõ tên húy)5, đóng đô ở Phong Châu (nay là huyện Bạch Hạc)6. \n",
      "Hùng Vương lên ngôi, đặt quốc hiệu là Văn Lang (nước này đông giáp biển Nam Hải, tây đến Ba Thục, bắc đến hồ Động Đình, nam giáp nước Hồ Tôn, tức nước Chiêm Thành, nay là Quảng Nam), chia nước làm 15 bộ là: Giao Chỉ, Chu Diên, Vũ Ninh, Phúc Lộc, Việt Thường, Ninh Hải, Dương Tuyền, Lục Hải, Vũ Định, Hoài Hoan, Cửu Chân, Bình Văn, Tân Hưng, Cửu Đức; đều là đất thần thuộc của Hùng Vương; còn bộ gọi là Văn Lang là nơi vua đóng đô1.  Đặt tướng văn gọi là Lạc Hầu, tướng võ gọi là Lạc Tướng (chữ Lạc Tướng, sau chép sai là Hùng Tướng2).  Con trai vua gọi là Quan Lang, con gái vua gọi là Mị Nương.  Quan coi việc gọi là Bồ Chính, đời đời cha truyền con nối, gọi là phụ đạo.  Vua các đời đều gọi là Hùng Vương.  Bấy giờ dân ở rừng núi thấy ở sông ngòi khe suối đều có tôm cá, nên rủ nhau đi bắt cá để ăn, thường bị thuồng luồng làm hại, [3b] đến thưa với vua.  Vua nói: \"Người man ở núi khác với các loài thủy tộc; các thủy tộc ấy ưa cùng loài mà ghét khác loài, cho nên mới bị chúng làm hại.  Rồi vua bảo mọi người lấy mực vẽ hình thủy quái ở mình.  Từ đấy thuồng luồng trông thấy không cắn hại nữa.  Tục vẽ mình của người Bách Việt có lẽ bắt đầu từ đấy. \n",
      "Đời Hùng Vương thứ 6, ở hương Phù Đổng, bộ Vũ Ninh có người nhà giàu, sinh một con trai, đến năm hơn ba tuổi ăn uống béo lớn nhưng không biết nói cười.  Gặp lúc trong nước có tin nguy cấp, vua sai người đi tìm người có thể đánh lui được giặc.  Ngày hôm ấy, đứa trẻ bỗng nói được, bảo mẹ ra mời thiên sứ vào, nói: \"Xin cho một thanh gươm, một con ngựa, vua không phải lo gì\".  Vua ban cho gươm và ngựa, đứa trẻ liền phi ngựa vung gươm tiến lên trước, quan quân theo sau, đánh tan quân giặc ở chân núi Vũ Ninh3.  Quân giặc tự quay giáo đánh lẫn nhau, chết rất nhiều, bọn sống sót đều rạp lạy, tôn gọi đứa trẻ ấy là thiên tướng, liền đến xin hàng cả.  Đứa trẻ phi ngựa [4a] lên trời mà đi.  Vua sai sửa sang chỗ vường nhà của đứa trẻ để lập đền thờ, tuế thời cúng tế.  Về sau, Lý Thái Tổ phong là Xung Thiên Thần Vương.  (Đền thờ ở cạnh chùa Kiến Sơ, hương Phù Đổng). \n",
      "Thời Thành Vương nhà Chu [1063-1026 TCN], nước Việt ta lần đầu sang thăm nhà Chu (không rõ vào đời Hùng Vương thứ mấy), xưng là Việt Thường thị, hiến chim trĩ trắng.  Chu Công nói: \"Chính lệnh không ban đến thì người quân tử không coi người ta là bề tôi của mình\", rồi sai làm xe chỉ nam đưa sứ giả về nước. \n",
      "Cuối thời Hùng Vương, vua có con gái gọi là Mị Nương, nhan sắc xinh đẹp.  Thục Vương nghe tiếng, đến cầu hôn.  Vua muốn gả, nhưng Hùng hầu can rằng: \"Họ muốn chiếm nước ta, chỉ lấy việc hôn nhân làm cớ mà thôi\".  Thục Vương vì chuyện ấy để bụng oán giận.  Vua muốn tìm người xứng đáng để gả, bảo các bề tôi rằng: \"Đứa con gái này là giống tiên, người nào có đủ tài đức mới cho làm rể\".  Bấy giờ có hai người từ ngoài đến, lạy dưới sân để cầu hôn.  Vua lấy làm lạ, hỏi thì họ thưa rằng một người là [4b] Sơn Tinh, một người là Thủy Tinh, đều ở trong cõi cả, nghe nhà vua có thánh nữ, đánh bạo đến xin lĩnh mệnh.  Vua nói: \"Ta có một người con gái, lẽ nào lại được cả hai rể hiền?\".  Bèn hẹn đến ngày \n",
      "y \n",
      "#####\n",
      "Hùng Vương [3a] Con Lạc Long Quân (không rõ tên húy)5, đóng đô ở Phong Châu (nay là huyện Bạch Hạc)6. \n",
      "Hùng Vương lên ngôi, đặt quốc hiệu là Văn Lang (nước này đông giáp biển Nam Hải, tây đến Ba Thục, bắc đến hồ Động Đình, nam giáp nước Hồ Tôn, tức nước Chiêm Thành, nay là Quảng Nam), chia nước làm 15 bộ là: Giao Chỉ, Chu Diên, Vũ Ninh, Phúc Lộc, Việt Thường, Ninh Hải, Dương Tuyền, Lục Hải, Vũ Định, Hoài Hoan, Cửu Chân, Bình Văn, Tân Hưng, Cửu Đức; đều là đất thần thuộc của Hùng Vương; còn bộ gọi là Văn Lang là nơi vua đóng đô1.  Đặt tướng văn gọi là Lạc Hầu, tướng võ gọi là Lạc Tướng (chữ Lạc Tướng, sau chép sai là Hùng Tướng2).  Con trai vua gọi là Quan Lang, con gái vua gọi là Mị Nương.  Quan coi việc gọi là Bồ Chính, đời đời cha truyền con nối, gọi là phụ đạo.  Vua các đời đều gọi là Hùng Vương.  Bấy giờ dân ở rừng núi thấy ở sông ngòi khe suối đều có tôm cá, nên rủ nhau đi bắt cá để ăn, thường bị thuồng luồng làm hại, [3b] đến thưa với vua.  Vua nói: \"Người man ở núi khác với các loài thủy tộc; các thủy tộc ấy ưa cùng loài mà ghét khác loài, cho nên mới bị chúng làm hại.  Rồi vua bảo mọi người lấy mực vẽ hình thủy quái ở mình.  Từ đấy thuồng luồng trông thấy không cắn hại nữa.  Tục vẽ mình của người Bách Việt có lẽ bắt đầu từ đấy. \n",
      "Đời Hùng Vương thứ 6, ở hương Phù Đổng, bộ Vũ Ninh có người nhà giàu, sinh một con trai, đến năm hơn ba tuổi ăn uống béo lớn nhưng không biết nói cười.  Gặp lúc trong nước có tin nguy cấp, vua sai người đi tìm người có thể đánh lui được giặc.  Ngày hôm ấy, đứa trẻ bỗng nói được, bảo mẹ ra mời thiên sứ vào, nói: \"Xin cho một thanh gươm, một con ngựa, vua không phải lo gì\".  Vua ban cho gươm và ngựa, đứa trẻ liền phi ngựa vung gươm tiến lên trước, quan quân theo sau, đánh tan quân giặc ở chân núi Vũ Ninh3.  Quân giặc tự quay giáo đánh lẫn nhau, chết rất nhiều, bọn sống sót đều rạp lạy, tôn gọi đứa trẻ ấy là thiên tướng, liền đến xin hàng cả.  Đứa trẻ phi ngựa [4a] lên trời mà đi.  Vua sai sửa sang chỗ vường nhà của đứa trẻ để lập đền thờ, tuế thời cúng tế.  Về sau, Lý Thái Tổ phong là Xung Thiên Thần Vương.  (Đền thờ ở cạnh chùa Kiến Sơ, hương Phù Đổng). \n",
      "Thời Thành Vương nhà Chu [1063-1026 TCN], nước Việt ta lần đầu sang thăm nhà Chu (không rõ vào đời Hùng Vương thứ mấy), xưng là Việt Thường thị, hiến chim trĩ trắng.  Chu Công nói: \"Chính lệnh không ban đến thì người quân tử không coi người ta là bề tôi của mình\", rồi sai làm xe chỉ nam đưa sứ giả về nước. \n",
      "Cuối thời Hùng Vương, vua có con gái gọi là Mị Nương, nhan sắc xinh đẹp.  Thục Vương nghe tiếng, đến cầu hôn.  Vua muốn gả, nhưng Hùng hầu can rằng: \"Họ muốn chiếm nước ta, chỉ lấy việc hôn nhân làm cớ mà thôi\".  Thục Vương vì chuyện ấy để bụng oán giận.  Vua muốn tìm người xứng đáng để gả, bảo các bề tôi rằng: \"Đứa con gái này là giống tiên, người nào có đủ tài đức mới cho làm rể\".  Bấy giờ có hai người từ ngoài đến, lạy dưới sân để cầu hôn.  Vua lấy làm lạ, hỏi thì họ thưa rằng một người là [4b] Sơn Tinh, một người là Thủy Tinh, đều ở trong cõi cả, nghe nhà vua có thánh nữ, đánh bạo đến xin lĩnh mệnh.  Vua nói: \"Ta có một người con gái, lẽ nào lại được cả hai rể hiền?\".  Bèn hẹn đến ngày hôm sau, ai đem đủ sính lễ đến trước thì gả cho người ấy.  Hai người vâng lời, lạy tạ ra về.  Hôm sau, \n",
      ", \n",
      "#####\n",
      "Hùng Vương [3a] Con Lạc Long Quân (không rõ tên húy)5, đóng đô ở Phong Châu (nay là huyện Bạch Hạc)6. \n",
      "Hùng Vương lên ngôi, đặt quốc hiệu là Văn Lang (nước này đông giáp biển Nam Hải, tây đến Ba Thục, bắc đến hồ Động Đình, nam giáp nước Hồ Tôn, tức nước Chiêm Thành, nay là Quảng Nam), chia nước làm 15 bộ là: Giao Chỉ, Chu Diên, Vũ Ninh, Phúc Lộc, Việt Thường, Ninh Hải, Dương Tuyền, Lục Hải, Vũ Định, Hoài Hoan, Cửu Chân, Bình Văn, Tân Hưng, Cửu Đức; đều là đất thần thuộc của Hùng Vương; còn bộ gọi là Văn Lang là nơi vua đóng đô1.  Đặt tướng văn gọi là Lạc Hầu, tướng võ gọi là Lạc Tướng (chữ Lạc Tướng, sau chép sai là Hùng Tướng2).  Con trai vua gọi là Quan Lang, con gái vua gọi là Mị Nương.  Quan coi việc gọi là Bồ Chính, đời đời cha truyền con nối, gọi là phụ đạo.  Vua các đời đều gọi là Hùng Vương.  Bấy giờ dân ở rừng núi thấy ở sông ngòi khe suối đều có tôm cá, nên rủ nhau đi bắt cá để ăn, thường bị thuồng luồng làm hại, [3b] đến thưa với vua.  Vua nói: \"Người man ở núi khác với các loài thủy tộc; các thủy tộc ấy ưa cùng loài mà ghét khác loài, cho nên mới bị chúng làm hại.  Rồi vua bảo mọi người lấy mực vẽ hình thủy quái ở mình.  Từ đấy thuồng luồng trông thấy không cắn hại nữa.  Tục vẽ mình của người Bách Việt có lẽ bắt đầu từ đấy. \n",
      "Đời Hùng Vương thứ 6, ở hương Phù Đổng, bộ Vũ Ninh có người nhà giàu, sinh một con trai, đến năm hơn ba tuổi ăn uống béo lớn nhưng không biết nói cười.  Gặp lúc trong nước có tin nguy cấp, vua sai người đi tìm người có thể đánh lui được giặc.  Ngày hôm ấy, đứa trẻ bỗng nói được, bảo mẹ ra mời thiên sứ vào, nói: \"Xin cho một thanh gươm, một con ngựa, vua không phải lo gì\".  Vua ban cho gươm và ngựa, đứa trẻ liền phi ngựa vung gươm tiến lên trước, quan quân theo sau, đánh tan quân giặc ở chân núi Vũ Ninh3.  Quân giặc tự quay giáo đánh lẫn nhau, chết rất nhiều, bọn sống sót đều rạp lạy, tôn gọi đứa trẻ ấy là thiên tướng, liền đến xin hàng cả.  Đứa trẻ phi ngựa [4a] lên trời mà đi.  Vua sai sửa sang chỗ vường nhà của đứa trẻ để lập đền thờ, tuế thời cúng tế.  Về sau, Lý Thái Tổ phong là Xung Thiên Thần Vương.  (Đền thờ ở cạnh chùa Kiến Sơ, hương Phù Đổng). \n",
      "Thời Thành Vương nhà Chu [1063-1026 TCN], nước Việt ta lần đầu sang thăm nhà Chu (không rõ vào đời Hùng Vương thứ mấy), xưng là Việt Thường thị, hiến chim trĩ trắng.  Chu Công nói: \"Chính lệnh không ban đến thì người quân tử không coi người ta là bề tôi của mình\", rồi sai làm xe chỉ nam đưa sứ giả về nước. \n",
      "Cuối thời Hùng Vương, vua có con gái gọi là Mị Nương, nhan sắc xinh đẹp.  Thục Vương nghe tiếng, đến cầu hôn.  Vua muốn gả, nhưng Hùng hầu can rằng: \"Họ muốn chiếm nước ta, chỉ lấy việc hôn nhân làm cớ mà thôi\".  Thục Vương vì chuyện ấy để bụng oán giận.  Vua muốn tìm người xứng đáng để gả, bảo các bề tôi rằng: \"Đứa con gái này là giống tiên, người nào có đủ tài đức mới cho làm rể\".  Bấy giờ có hai người từ ngoài đến, lạy dưới sân để cầu hôn.  Vua lấy làm lạ, hỏi thì họ thưa rằng một người là [4b] Sơn Tinh, một người là Thủy Tinh, đều ở trong cõi cả, nghe nhà vua có thánh nữ, đánh bạo đến xin lĩnh mệnh.  Vua nói: \"Ta có một người con gái, lẽ nào lại được cả hai rể hiền?\".  Bèn hẹn đến ngày hôm sau, ai đem đủ sính lễ đến trước thì gả cho người ấy.  Hai người vâng lời, lạy tạ ra về.  Hôm sau, Sơn Tinh đem các đồ châu báu vàng bạc, chim núi thú rừng đến dâng.  Vua y hẹn gả con cho.  Sơn Tinh \n",
      "h \n",
      "#####\n",
      "Hùng Vương [3a] Con Lạc Long Quân (không rõ tên húy)5, đóng đô ở Phong Châu (nay là huyện Bạch Hạc)6. \n",
      "Hùng Vương lên ngôi, đặt quốc hiệu là Văn Lang (nước này đông giáp biển Nam Hải, tây đến Ba Thục, bắc đến hồ Động Đình, nam giáp nước Hồ Tôn, tức nước Chiêm Thành, nay là Quảng Nam), chia nước làm 15 bộ là: Giao Chỉ, Chu Diên, Vũ Ninh, Phúc Lộc, Việt Thường, Ninh Hải, Dương Tuyền, Lục Hải, Vũ Định, Hoài Hoan, Cửu Chân, Bình Văn, Tân Hưng, Cửu Đức; đều là đất thần thuộc của Hùng Vương; còn bộ gọi là Văn Lang là nơi vua đóng đô1.  Đặt tướng văn gọi là Lạc Hầu, tướng võ gọi là Lạc Tướng (chữ Lạc Tướng, sau chép sai là Hùng Tướng2).  Con trai vua gọi là Quan Lang, con gái vua gọi là Mị Nương.  Quan coi việc gọi là Bồ Chính, đời đời cha truyền con nối, gọi là phụ đạo.  Vua các đời đều gọi là Hùng Vương.  Bấy giờ dân ở rừng núi thấy ở sông ngòi khe suối đều có tôm cá, nên rủ nhau đi bắt cá để ăn, thường bị thuồng luồng làm hại, [3b] đến thưa với vua.  Vua nói: \"Người man ở núi khác với các loài thủy tộc; các thủy tộc ấy ưa cùng loài mà ghét khác loài, cho nên mới bị chúng làm hại.  Rồi vua bảo mọi người lấy mực vẽ hình thủy quái ở mình.  Từ đấy thuồng luồng trông thấy không cắn hại nữa.  Tục vẽ mình của người Bách Việt có lẽ bắt đầu từ đấy. \n",
      "Đời Hùng Vương thứ 6, ở hương Phù Đổng, bộ Vũ Ninh có người nhà giàu, sinh một con trai, đến năm hơn ba tuổi ăn uống béo lớn nhưng không biết nói cười.  Gặp lúc trong nước có tin nguy cấp, vua sai người đi tìm người có thể đánh lui được giặc.  Ngày hôm ấy, đứa trẻ bỗng nói được, bảo mẹ ra mời thiên sứ vào, nói: \"Xin cho một thanh gươm, một con ngựa, vua không phải lo gì\".  Vua ban cho gươm và ngựa, đứa trẻ liền phi ngựa vung gươm tiến lên trước, quan quân theo sau, đánh tan quân giặc ở chân núi Vũ Ninh3.  Quân giặc tự quay giáo đánh lẫn nhau, chết rất nhiều, bọn sống sót đều rạp lạy, tôn gọi đứa trẻ ấy là thiên tướng, liền đến xin hàng cả.  Đứa trẻ phi ngựa [4a] lên trời mà đi.  Vua sai sửa sang chỗ vường nhà của đứa trẻ để lập đền thờ, tuế thời cúng tế.  Về sau, Lý Thái Tổ phong là Xung Thiên Thần Vương.  (Đền thờ ở cạnh chùa Kiến Sơ, hương Phù Đổng). \n",
      "Thời Thành Vương nhà Chu [1063-1026 TCN], nước Việt ta lần đầu sang thăm nhà Chu (không rõ vào đời Hùng Vương thứ mấy), xưng là Việt Thường thị, hiến chim trĩ trắng.  Chu Công nói: \"Chính lệnh không ban đến thì người quân tử không coi người ta là bề tôi của mình\", rồi sai làm xe chỉ nam đưa sứ giả về nước. \n",
      "Cuối thời Hùng Vương, vua có con gái gọi là Mị Nương, nhan sắc xinh đẹp.  Thục Vương nghe tiếng, đến cầu hôn.  Vua muốn gả, nhưng Hùng hầu can rằng: \"Họ muốn chiếm nước ta, chỉ lấy việc hôn nhân làm cớ mà thôi\".  Thục Vương vì chuyện ấy để bụng oán giận.  Vua muốn tìm người xứng đáng để gả, bảo các bề tôi rằng: \"Đứa con gái này là giống tiên, người nào có đủ tài đức mới cho làm rể\".  Bấy giờ có hai người từ ngoài đến, lạy dưới sân để cầu hôn.  Vua lấy làm lạ, hỏi thì họ thưa rằng một người là [4b] Sơn Tinh, một người là Thủy Tinh, đều ở trong cõi cả, nghe nhà vua có thánh nữ, đánh bạo đến xin lĩnh mệnh.  Vua nói: \"Ta có một người con gái, lẽ nào lại được cả hai rể hiền?\".  Bèn hẹn đến ngày hôm sau, ai đem đủ sính lễ đến trước thì gả cho người ấy.  Hai người vâng lời, lạy tạ ra về.  Hôm sau, Sơn Tinh đem các đồ châu báu vàng bạc, chim núi thú rừng đến dâng.  Vua y hẹn gả con cho.  Sơn Tinh đón vợ về ở ngọn núi cao trên núi Tản Viên.  Thủy Tinh cũng đem sính lễ đến sau, giận tiếc là không kịp, \n",
      ", \n",
      "#####\n",
      "Hùng Vương [3a] Con Lạc Long Quân (không rõ tên húy)5, đóng đô ở Phong Châu (nay là huyện Bạch Hạc)6. \n",
      "Hùng Vương lên ngôi, đặt quốc hiệu là Văn Lang (nước này đông giáp biển Nam Hải, tây đến Ba Thục, bắc đến hồ Động Đình, nam giáp nước Hồ Tôn, tức nước Chiêm Thành, nay là Quảng Nam), chia nước làm 15 bộ là: Giao Chỉ, Chu Diên, Vũ Ninh, Phúc Lộc, Việt Thường, Ninh Hải, Dương Tuyền, Lục Hải, Vũ Định, Hoài Hoan, Cửu Chân, Bình Văn, Tân Hưng, Cửu Đức; đều là đất thần thuộc của Hùng Vương; còn bộ gọi là Văn Lang là nơi vua đóng đô1.  Đặt tướng văn gọi là Lạc Hầu, tướng võ gọi là Lạc Tướng (chữ Lạc Tướng, sau chép sai là Hùng Tướng2).  Con trai vua gọi là Quan Lang, con gái vua gọi là Mị Nương.  Quan coi việc gọi là Bồ Chính, đời đời cha truyền con nối, gọi là phụ đạo.  Vua các đời đều gọi là Hùng Vương.  Bấy giờ dân ở rừng núi thấy ở sông ngòi khe suối đều có tôm cá, nên rủ nhau đi bắt cá để ăn, thường bị thuồng luồng làm hại, [3b] đến thưa với vua.  Vua nói: \"Người man ở núi khác với các loài thủy tộc; các thủy tộc ấy ưa cùng loài mà ghét khác loài, cho nên mới bị chúng làm hại.  Rồi vua bảo mọi người lấy mực vẽ hình thủy quái ở mình.  Từ đấy thuồng luồng trông thấy không cắn hại nữa.  Tục vẽ mình của người Bách Việt có lẽ bắt đầu từ đấy. \n",
      "Đời Hùng Vương thứ 6, ở hương Phù Đổng, bộ Vũ Ninh có người nhà giàu, sinh một con trai, đến năm hơn ba tuổi ăn uống béo lớn nhưng không biết nói cười.  Gặp lúc trong nước có tin nguy cấp, vua sai người đi tìm người có thể đánh lui được giặc.  Ngày hôm ấy, đứa trẻ bỗng nói được, bảo mẹ ra mời thiên sứ vào, nói: \"Xin cho một thanh gươm, một con ngựa, vua không phải lo gì\".  Vua ban cho gươm và ngựa, đứa trẻ liền phi ngựa vung gươm tiến lên trước, quan quân theo sau, đánh tan quân giặc ở chân núi Vũ Ninh3.  Quân giặc tự quay giáo đánh lẫn nhau, chết rất nhiều, bọn sống sót đều rạp lạy, tôn gọi đứa trẻ ấy là thiên tướng, liền đến xin hàng cả.  Đứa trẻ phi ngựa [4a] lên trời mà đi.  Vua sai sửa sang chỗ vường nhà của đứa trẻ để lập đền thờ, tuế thời cúng tế.  Về sau, Lý Thái Tổ phong là Xung Thiên Thần Vương.  (Đền thờ ở cạnh chùa Kiến Sơ, hương Phù Đổng). \n",
      "Thời Thành Vương nhà Chu [1063-1026 TCN], nước Việt ta lần đầu sang thăm nhà Chu (không rõ vào đời Hùng Vương thứ mấy), xưng là Việt Thường thị, hiến chim trĩ trắng.  Chu Công nói: \"Chính lệnh không ban đến thì người quân tử không coi người ta là bề tôi của mình\", rồi sai làm xe chỉ nam đưa sứ giả về nước. \n",
      "Cuối thời Hùng Vương, vua có con gái gọi là Mị Nương, nhan sắc xinh đẹp.  Thục Vương nghe tiếng, đến cầu hôn.  Vua muốn gả, nhưng Hùng hầu can rằng: \"Họ muốn chiếm nước ta, chỉ lấy việc hôn nhân làm cớ mà thôi\".  Thục Vương vì chuyện ấy để bụng oán giận.  Vua muốn tìm người xứng đáng để gả, bảo các bề tôi rằng: \"Đứa con gái này là giống tiên, người nào có đủ tài đức mới cho làm rể\".  Bấy giờ có hai người từ ngoài đến, lạy dưới sân để cầu hôn.  Vua lấy làm lạ, hỏi thì họ thưa rằng một người là [4b] Sơn Tinh, một người là Thủy Tinh, đều ở trong cõi cả, nghe nhà vua có thánh nữ, đánh bạo đến xin lĩnh mệnh.  Vua nói: \"Ta có một người con gái, lẽ nào lại được cả hai rể hiền?\".  Bèn hẹn đến ngày hôm sau, ai đem đủ sính lễ đến trước thì gả cho người ấy.  Hai người vâng lời, lạy tạ ra về.  Hôm sau, Sơn Tinh đem các đồ châu báu vàng bạc, chim núi thú rừng đến dâng.  Vua y hẹn gả con cho.  Sơn Tinh đón vợ về ở ngọn núi cao trên núi Tản Viên.  Thủy Tinh cũng đem sính lễ đến sau, giận tiếc là không kịp, bèn kéo mây làm mưa, dâng nước tràn ngập, đem các loài thủy tộc đuổi theo.  Vua cùng Sơn Tinh lấy \n",
      "y \n",
      "#####\n",
      "Hùng Vương [3a] Con Lạc Long Quân (không rõ tên húy)5, đóng đô ở Phong Châu (nay là huyện Bạch Hạc)6. \n",
      "Hùng Vương lên ngôi, đặt quốc hiệu là Văn Lang (nước này đông giáp biển Nam Hải, tây đến Ba Thục, bắc đến hồ Động Đình, nam giáp nước Hồ Tôn, tức nước Chiêm Thành, nay là Quảng Nam), chia nước làm 15 bộ là: Giao Chỉ, Chu Diên, Vũ Ninh, Phúc Lộc, Việt Thường, Ninh Hải, Dương Tuyền, Lục Hải, Vũ Định, Hoài Hoan, Cửu Chân, Bình Văn, Tân Hưng, Cửu Đức; đều là đất thần thuộc của Hùng Vương; còn bộ gọi là Văn Lang là nơi vua đóng đô1.  Đặt tướng văn gọi là Lạc Hầu, tướng võ gọi là Lạc Tướng (chữ Lạc Tướng, sau chép sai là Hùng Tướng2).  Con trai vua gọi là Quan Lang, con gái vua gọi là Mị Nương.  Quan coi việc gọi là Bồ Chính, đời đời cha truyền con nối, gọi là phụ đạo.  Vua các đời đều gọi là Hùng Vương.  Bấy giờ dân ở rừng núi thấy ở sông ngòi khe suối đều có tôm cá, nên rủ nhau đi bắt cá để ăn, thường bị thuồng luồng làm hại, [3b] đến thưa với vua.  Vua nói: \"Người man ở núi khác với các loài thủy tộc; các thủy tộc ấy ưa cùng loài mà ghét khác loài, cho nên mới bị chúng làm hại.  Rồi vua bảo mọi người lấy mực vẽ hình thủy quái ở mình.  Từ đấy thuồng luồng trông thấy không cắn hại nữa.  Tục vẽ mình của người Bách Việt có lẽ bắt đầu từ đấy. \n",
      "Đời Hùng Vương thứ 6, ở hương Phù Đổng, bộ Vũ Ninh có người nhà giàu, sinh một con trai, đến năm hơn ba tuổi ăn uống béo lớn nhưng không biết nói cười.  Gặp lúc trong nước có tin nguy cấp, vua sai người đi tìm người có thể đánh lui được giặc.  Ngày hôm ấy, đứa trẻ bỗng nói được, bảo mẹ ra mời thiên sứ vào, nói: \"Xin cho một thanh gươm, một con ngựa, vua không phải lo gì\".  Vua ban cho gươm và ngựa, đứa trẻ liền phi ngựa vung gươm tiến lên trước, quan quân theo sau, đánh tan quân giặc ở chân núi Vũ Ninh3.  Quân giặc tự quay giáo đánh lẫn nhau, chết rất nhiều, bọn sống sót đều rạp lạy, tôn gọi đứa trẻ ấy là thiên tướng, liền đến xin hàng cả.  Đứa trẻ phi ngựa [4a] lên trời mà đi.  Vua sai sửa sang chỗ vường nhà của đứa trẻ để lập đền thờ, tuế thời cúng tế.  Về sau, Lý Thái Tổ phong là Xung Thiên Thần Vương.  (Đền thờ ở cạnh chùa Kiến Sơ, hương Phù Đổng). \n",
      "Thời Thành Vương nhà Chu [1063-1026 TCN], nước Việt ta lần đầu sang thăm nhà Chu (không rõ vào đời Hùng Vương thứ mấy), xưng là Việt Thường thị, hiến chim trĩ trắng.  Chu Công nói: \"Chính lệnh không ban đến thì người quân tử không coi người ta là bề tôi của mình\", rồi sai làm xe chỉ nam đưa sứ giả về nước. \n",
      "Cuối thời Hùng Vương, vua có con gái gọi là Mị Nương, nhan sắc xinh đẹp.  Thục Vương nghe tiếng, đến cầu hôn.  Vua muốn gả, nhưng Hùng hầu can rằng: \"Họ muốn chiếm nước ta, chỉ lấy việc hôn nhân làm cớ mà thôi\".  Thục Vương vì chuyện ấy để bụng oán giận.  Vua muốn tìm người xứng đáng để gả, bảo các bề tôi rằng: \"Đứa con gái này là giống tiên, người nào có đủ tài đức mới cho làm rể\".  Bấy giờ có hai người từ ngoài đến, lạy dưới sân để cầu hôn.  Vua lấy làm lạ, hỏi thì họ thưa rằng một người là [4b] Sơn Tinh, một người là Thủy Tinh, đều ở trong cõi cả, nghe nhà vua có thánh nữ, đánh bạo đến xin lĩnh mệnh.  Vua nói: \"Ta có một người con gái, lẽ nào lại được cả hai rể hiền?\".  Bèn hẹn đến ngày hôm sau, ai đem đủ sính lễ đến trước thì gả cho người ấy.  Hai người vâng lời, lạy tạ ra về.  Hôm sau, Sơn Tinh đem các đồ châu báu vàng bạc, chim núi thú rừng đến dâng.  Vua y hẹn gả con cho.  Sơn Tinh đón vợ về ở ngọn núi cao trên núi Tản Viên.  Thủy Tinh cũng đem sính lễ đến sau, giận tiếc là không kịp, bèn kéo mây làm mưa, dâng nước tràn ngập, đem các loài thủy tộc đuổi theo.  Vua cùng Sơn Tinh lấy lưới sắt chăng ngang thượng lưu sông Từ Liêm4 để chặn lại.  Thủy Tinh theo sông khác, từ Ly Nhân vào \n",
      "o \n",
      "#####\n",
      "Hùng Vương [3a] Con Lạc Long Quân (không rõ tên húy)5, đóng đô ở Phong Châu (nay là huyện Bạch Hạc)6. \n",
      "Hùng Vương lên ngôi, đặt quốc hiệu là Văn Lang (nước này đông giáp biển Nam Hải, tây đến Ba Thục, bắc đến hồ Động Đình, nam giáp nước Hồ Tôn, tức nước Chiêm Thành, nay là Quảng Nam), chia nước làm 15 bộ là: Giao Chỉ, Chu Diên, Vũ Ninh, Phúc Lộc, Việt Thường, Ninh Hải, Dương Tuyền, Lục Hải, Vũ Định, Hoài Hoan, Cửu Chân, Bình Văn, Tân Hưng, Cửu Đức; đều là đất thần thuộc của Hùng Vương; còn bộ gọi là Văn Lang là nơi vua đóng đô1.  Đặt tướng văn gọi là Lạc Hầu, tướng võ gọi là Lạc Tướng (chữ Lạc Tướng, sau chép sai là Hùng Tướng2).  Con trai vua gọi là Quan Lang, con gái vua gọi là Mị Nương.  Quan coi việc gọi là Bồ Chính, đời đời cha truyền con nối, gọi là phụ đạo.  Vua các đời đều gọi là Hùng Vương.  Bấy giờ dân ở rừng núi thấy ở sông ngòi khe suối đều có tôm cá, nên rủ nhau đi bắt cá để ăn, thường bị thuồng luồng làm hại, [3b] đến thưa với vua.  Vua nói: \"Người man ở núi khác với các loài thủy tộc; các thủy tộc ấy ưa cùng loài mà ghét khác loài, cho nên mới bị chúng làm hại.  Rồi vua bảo mọi người lấy mực vẽ hình thủy quái ở mình.  Từ đấy thuồng luồng trông thấy không cắn hại nữa.  Tục vẽ mình của người Bách Việt có lẽ bắt đầu từ đấy. \n",
      "Đời Hùng Vương thứ 6, ở hương Phù Đổng, bộ Vũ Ninh có người nhà giàu, sinh một con trai, đến năm hơn ba tuổi ăn uống béo lớn nhưng không biết nói cười.  Gặp lúc trong nước có tin nguy cấp, vua sai người đi tìm người có thể đánh lui được giặc.  Ngày hôm ấy, đứa trẻ bỗng nói được, bảo mẹ ra mời thiên sứ vào, nói: \"Xin cho một thanh gươm, một con ngựa, vua không phải lo gì\".  Vua ban cho gươm và ngựa, đứa trẻ liền phi ngựa vung gươm tiến lên trước, quan quân theo sau, đánh tan quân giặc ở chân núi Vũ Ninh3.  Quân giặc tự quay giáo đánh lẫn nhau, chết rất nhiều, bọn sống sót đều rạp lạy, tôn gọi đứa trẻ ấy là thiên tướng, liền đến xin hàng cả.  Đứa trẻ phi ngựa [4a] lên trời mà đi.  Vua sai sửa sang chỗ vường nhà của đứa trẻ để lập đền thờ, tuế thời cúng tế.  Về sau, Lý Thái Tổ phong là Xung Thiên Thần Vương.  (Đền thờ ở cạnh chùa Kiến Sơ, hương Phù Đổng). \n",
      "Thời Thành Vương nhà Chu [1063-1026 TCN], nước Việt ta lần đầu sang thăm nhà Chu (không rõ vào đời Hùng Vương thứ mấy), xưng là Việt Thường thị, hiến chim trĩ trắng.  Chu Công nói: \"Chính lệnh không ban đến thì người quân tử không coi người ta là bề tôi của mình\", rồi sai làm xe chỉ nam đưa sứ giả về nước. \n",
      "Cuối thời Hùng Vương, vua có con gái gọi là Mị Nương, nhan sắc xinh đẹp.  Thục Vương nghe tiếng, đến cầu hôn.  Vua muốn gả, nhưng Hùng hầu can rằng: \"Họ muốn chiếm nước ta, chỉ lấy việc hôn nhân làm cớ mà thôi\".  Thục Vương vì chuyện ấy để bụng oán giận.  Vua muốn tìm người xứng đáng để gả, bảo các bề tôi rằng: \"Đứa con gái này là giống tiên, người nào có đủ tài đức mới cho làm rể\".  Bấy giờ có hai người từ ngoài đến, lạy dưới sân để cầu hôn.  Vua lấy làm lạ, hỏi thì họ thưa rằng một người là [4b] Sơn Tinh, một người là Thủy Tinh, đều ở trong cõi cả, nghe nhà vua có thánh nữ, đánh bạo đến xin lĩnh mệnh.  Vua nói: \"Ta có một người con gái, lẽ nào lại được cả hai rể hiền?\".  Bèn hẹn đến ngày hôm sau, ai đem đủ sính lễ đến trước thì gả cho người ấy.  Hai người vâng lời, lạy tạ ra về.  Hôm sau, Sơn Tinh đem các đồ châu báu vàng bạc, chim núi thú rừng đến dâng.  Vua y hẹn gả con cho.  Sơn Tinh đón vợ về ở ngọn núi cao trên núi Tản Viên.  Thủy Tinh cũng đem sính lễ đến sau, giận tiếc là không kịp, bèn kéo mây làm mưa, dâng nước tràn ngập, đem các loài thủy tộc đuổi theo.  Vua cùng Sơn Tinh lấy lưới sắt chăng ngang thượng lưu sông Từ Liêm4 để chặn lại.  Thủy Tinh theo sông khác, từ Ly Nhân vào chân núi Quảng Oai5 rồi theo dọc bờ lên cửa sông Hát, ra sông lớn6 mà rẽ vào sông Đà để đánh Tản \n",
      "n \n",
      "#####\n",
      "Hùng Vương [3a] Con Lạc Long Quân (không rõ tên húy)5, đóng đô ở Phong Châu (nay là huyện Bạch Hạc)6. \n",
      "Hùng Vương lên ngôi, đặt quốc hiệu là Văn Lang (nước này đông giáp biển Nam Hải, tây đến Ba Thục, bắc đến hồ Động Đình, nam giáp nước Hồ Tôn, tức nước Chiêm Thành, nay là Quảng Nam), chia nước làm 15 bộ là: Giao Chỉ, Chu Diên, Vũ Ninh, Phúc Lộc, Việt Thường, Ninh Hải, Dương Tuyền, Lục Hải, Vũ Định, Hoài Hoan, Cửu Chân, Bình Văn, Tân Hưng, Cửu Đức; đều là đất thần thuộc của Hùng Vương; còn bộ gọi là Văn Lang là nơi vua đóng đô1.  Đặt tướng văn gọi là Lạc Hầu, tướng võ gọi là Lạc Tướng (chữ Lạc Tướng, sau chép sai là Hùng Tướng2).  Con trai vua gọi là Quan Lang, con gái vua gọi là Mị Nương.  Quan coi việc gọi là Bồ Chính, đời đời cha truyền con nối, gọi là phụ đạo.  Vua các đời đều gọi là Hùng Vương.  Bấy giờ dân ở rừng núi thấy ở sông ngòi khe suối đều có tôm cá, nên rủ nhau đi bắt cá để ăn, thường bị thuồng luồng làm hại, [3b] đến thưa với vua.  Vua nói: \"Người man ở núi khác với các loài thủy tộc; các thủy tộc ấy ưa cùng loài mà ghét khác loài, cho nên mới bị chúng làm hại.  Rồi vua bảo mọi người lấy mực vẽ hình thủy quái ở mình.  Từ đấy thuồng luồng trông thấy không cắn hại nữa.  Tục vẽ mình của người Bách Việt có lẽ bắt đầu từ đấy. \n",
      "Đời Hùng Vương thứ 6, ở hương Phù Đổng, bộ Vũ Ninh có người nhà giàu, sinh một con trai, đến năm hơn ba tuổi ăn uống béo lớn nhưng không biết nói cười.  Gặp lúc trong nước có tin nguy cấp, vua sai người đi tìm người có thể đánh lui được giặc.  Ngày hôm ấy, đứa trẻ bỗng nói được, bảo mẹ ra mời thiên sứ vào, nói: \"Xin cho một thanh gươm, một con ngựa, vua không phải lo gì\".  Vua ban cho gươm và ngựa, đứa trẻ liền phi ngựa vung gươm tiến lên trước, quan quân theo sau, đánh tan quân giặc ở chân núi Vũ Ninh3.  Quân giặc tự quay giáo đánh lẫn nhau, chết rất nhiều, bọn sống sót đều rạp lạy, tôn gọi đứa trẻ ấy là thiên tướng, liền đến xin hàng cả.  Đứa trẻ phi ngựa [4a] lên trời mà đi.  Vua sai sửa sang chỗ vường nhà của đứa trẻ để lập đền thờ, tuế thời cúng tế.  Về sau, Lý Thái Tổ phong là Xung Thiên Thần Vương.  (Đền thờ ở cạnh chùa Kiến Sơ, hương Phù Đổng). \n",
      "Thời Thành Vương nhà Chu [1063-1026 TCN], nước Việt ta lần đầu sang thăm nhà Chu (không rõ vào đời Hùng Vương thứ mấy), xưng là Việt Thường thị, hiến chim trĩ trắng.  Chu Công nói: \"Chính lệnh không ban đến thì người quân tử không coi người ta là bề tôi của mình\", rồi sai làm xe chỉ nam đưa sứ giả về nước. \n",
      "Cuối thời Hùng Vương, vua có con gái gọi là Mị Nương, nhan sắc xinh đẹp.  Thục Vương nghe tiếng, đến cầu hôn.  Vua muốn gả, nhưng Hùng hầu can rằng: \"Họ muốn chiếm nước ta, chỉ lấy việc hôn nhân làm cớ mà thôi\".  Thục Vương vì chuyện ấy để bụng oán giận.  Vua muốn tìm người xứng đáng để gả, bảo các bề tôi rằng: \"Đứa con gái này là giống tiên, người nào có đủ tài đức mới cho làm rể\".  Bấy giờ có hai người từ ngoài đến, lạy dưới sân để cầu hôn.  Vua lấy làm lạ, hỏi thì họ thưa rằng một người là [4b] Sơn Tinh, một người là Thủy Tinh, đều ở trong cõi cả, nghe nhà vua có thánh nữ, đánh bạo đến xin lĩnh mệnh.  Vua nói: \"Ta có một người con gái, lẽ nào lại được cả hai rể hiền?\".  Bèn hẹn đến ngày hôm sau, ai đem đủ sính lễ đến trước thì gả cho người ấy.  Hai người vâng lời, lạy tạ ra về.  Hôm sau, Sơn Tinh đem các đồ châu báu vàng bạc, chim núi thú rừng đến dâng.  Vua y hẹn gả con cho.  Sơn Tinh đón vợ về ở ngọn núi cao trên núi Tản Viên.  Thủy Tinh cũng đem sính lễ đến sau, giận tiếc là không kịp, bèn kéo mây làm mưa, dâng nước tràn ngập, đem các loài thủy tộc đuổi theo.  Vua cùng Sơn Tinh lấy lưới sắt chăng ngang thượng lưu sông Từ Liêm4 để chặn lại.  Thủy Tinh theo sông khác, từ Ly Nhân vào chân núi Quảng Oai5 rồi theo dọc bờ lên cửa sông Hát, ra sông lớn6 mà rẽ vào sông Đà để đánh Tản Viên, nơi nơi đào sâu thành vực thành chằm, chứa nước để mưu đánh úp.  Sơn Tinh có phép thần biến \n",
      "n \n",
      "#####\n",
      "Hùng Vương [3a] Con Lạc Long Quân (không rõ tên húy)5, đóng đô ở Phong Châu (nay là huyện Bạch Hạc)6. \n",
      "Hùng Vương lên ngôi, đặt quốc hiệu là Văn Lang (nước này đông giáp biển Nam Hải, tây đến Ba Thục, bắc đến hồ Động Đình, nam giáp nước Hồ Tôn, tức nước Chiêm Thành, nay là Quảng Nam), chia nước làm 15 bộ là: Giao Chỉ, Chu Diên, Vũ Ninh, Phúc Lộc, Việt Thường, Ninh Hải, Dương Tuyền, Lục Hải, Vũ Định, Hoài Hoan, Cửu Chân, Bình Văn, Tân Hưng, Cửu Đức; đều là đất thần thuộc của Hùng Vương; còn bộ gọi là Văn Lang là nơi vua đóng đô1.  Đặt tướng văn gọi là Lạc Hầu, tướng võ gọi là Lạc Tướng (chữ Lạc Tướng, sau chép sai là Hùng Tướng2).  Con trai vua gọi là Quan Lang, con gái vua gọi là Mị Nương.  Quan coi việc gọi là Bồ Chính, đời đời cha truyền con nối, gọi là phụ đạo.  Vua các đời đều gọi là Hùng Vương.  Bấy giờ dân ở rừng núi thấy ở sông ngòi khe suối đều có tôm cá, nên rủ nhau đi bắt cá để ăn, thường bị thuồng luồng làm hại, [3b] đến thưa với vua.  Vua nói: \"Người man ở núi khác với các loài thủy tộc; các thủy tộc ấy ưa cùng loài mà ghét khác loài, cho nên mới bị chúng làm hại.  Rồi vua bảo mọi người lấy mực vẽ hình thủy quái ở mình.  Từ đấy thuồng luồng trông thấy không cắn hại nữa.  Tục vẽ mình của người Bách Việt có lẽ bắt đầu từ đấy. \n",
      "Đời Hùng Vương thứ 6, ở hương Phù Đổng, bộ Vũ Ninh có người nhà giàu, sinh một con trai, đến năm hơn ba tuổi ăn uống béo lớn nhưng không biết nói cười.  Gặp lúc trong nước có tin nguy cấp, vua sai người đi tìm người có thể đánh lui được giặc.  Ngày hôm ấy, đứa trẻ bỗng nói được, bảo mẹ ra mời thiên sứ vào, nói: \"Xin cho một thanh gươm, một con ngựa, vua không phải lo gì\".  Vua ban cho gươm và ngựa, đứa trẻ liền phi ngựa vung gươm tiến lên trước, quan quân theo sau, đánh tan quân giặc ở chân núi Vũ Ninh3.  Quân giặc tự quay giáo đánh lẫn nhau, chết rất nhiều, bọn sống sót đều rạp lạy, tôn gọi đứa trẻ ấy là thiên tướng, liền đến xin hàng cả.  Đứa trẻ phi ngựa [4a] lên trời mà đi.  Vua sai sửa sang chỗ vường nhà của đứa trẻ để lập đền thờ, tuế thời cúng tế.  Về sau, Lý Thái Tổ phong là Xung Thiên Thần Vương.  (Đền thờ ở cạnh chùa Kiến Sơ, hương Phù Đổng). \n",
      "Thời Thành Vương nhà Chu [1063-1026 TCN], nước Việt ta lần đầu sang thăm nhà Chu (không rõ vào đời Hùng Vương thứ mấy), xưng là Việt Thường thị, hiến chim trĩ trắng.  Chu Công nói: \"Chính lệnh không ban đến thì người quân tử không coi người ta là bề tôi của mình\", rồi sai làm xe chỉ nam đưa sứ giả về nước. \n",
      "Cuối thời Hùng Vương, vua có con gái gọi là Mị Nương, nhan sắc xinh đẹp.  Thục Vương nghe tiếng, đến cầu hôn.  Vua muốn gả, nhưng Hùng hầu can rằng: \"Họ muốn chiếm nước ta, chỉ lấy việc hôn nhân làm cớ mà thôi\".  Thục Vương vì chuyện ấy để bụng oán giận.  Vua muốn tìm người xứng đáng để gả, bảo các bề tôi rằng: \"Đứa con gái này là giống tiên, người nào có đủ tài đức mới cho làm rể\".  Bấy giờ có hai người từ ngoài đến, lạy dưới sân để cầu hôn.  Vua lấy làm lạ, hỏi thì họ thưa rằng một người là [4b] Sơn Tinh, một người là Thủy Tinh, đều ở trong cõi cả, nghe nhà vua có thánh nữ, đánh bạo đến xin lĩnh mệnh.  Vua nói: \"Ta có một người con gái, lẽ nào lại được cả hai rể hiền?\".  Bèn hẹn đến ngày hôm sau, ai đem đủ sính lễ đến trước thì gả cho người ấy.  Hai người vâng lời, lạy tạ ra về.  Hôm sau, Sơn Tinh đem các đồ châu báu vàng bạc, chim núi thú rừng đến dâng.  Vua y hẹn gả con cho.  Sơn Tinh đón vợ về ở ngọn núi cao trên núi Tản Viên.  Thủy Tinh cũng đem sính lễ đến sau, giận tiếc là không kịp, bèn kéo mây làm mưa, dâng nước tràn ngập, đem các loài thủy tộc đuổi theo.  Vua cùng Sơn Tinh lấy lưới sắt chăng ngang thượng lưu sông Từ Liêm4 để chặn lại.  Thủy Tinh theo sông khác, từ Ly Nhân vào chân núi Quảng Oai5 rồi theo dọc bờ lên cửa sông Hát, ra sông lớn6 mà rẽ vào sông Đà để đánh Tản Viên, nơi nơi đào sâu thành vực thành chằm, chứa nước để mưu đánh úp.  Sơn Tinh có phép thần biến hóa, gọi [5a]7 người man đan tre làm rào chắn nước, lấy nỏ bắn xuống, các loài có vẩy và có vỏ trúng \n",
      "g \n",
      "#####\n",
      "Hùng Vương [3a] Con Lạc Long Quân (không rõ tên húy)5, đóng đô ở Phong Châu (nay là huyện Bạch Hạc)6. \n",
      "Hùng Vương lên ngôi, đặt quốc hiệu là Văn Lang (nước này đông giáp biển Nam Hải, tây đến Ba Thục, bắc đến hồ Động Đình, nam giáp nước Hồ Tôn, tức nước Chiêm Thành, nay là Quảng Nam), chia nước làm 15 bộ là: Giao Chỉ, Chu Diên, Vũ Ninh, Phúc Lộc, Việt Thường, Ninh Hải, Dương Tuyền, Lục Hải, Vũ Định, Hoài Hoan, Cửu Chân, Bình Văn, Tân Hưng, Cửu Đức; đều là đất thần thuộc của Hùng Vương; còn bộ gọi là Văn Lang là nơi vua đóng đô1.  Đặt tướng văn gọi là Lạc Hầu, tướng võ gọi là Lạc Tướng (chữ Lạc Tướng, sau chép sai là Hùng Tướng2).  Con trai vua gọi là Quan Lang, con gái vua gọi là Mị Nương.  Quan coi việc gọi là Bồ Chính, đời đời cha truyền con nối, gọi là phụ đạo.  Vua các đời đều gọi là Hùng Vương.  Bấy giờ dân ở rừng núi thấy ở sông ngòi khe suối đều có tôm cá, nên rủ nhau đi bắt cá để ăn, thường bị thuồng luồng làm hại, [3b] đến thưa với vua.  Vua nói: \"Người man ở núi khác với các loài thủy tộc; các thủy tộc ấy ưa cùng loài mà ghét khác loài, cho nên mới bị chúng làm hại.  Rồi vua bảo mọi người lấy mực vẽ hình thủy quái ở mình.  Từ đấy thuồng luồng trông thấy không cắn hại nữa.  Tục vẽ mình của người Bách Việt có lẽ bắt đầu từ đấy. \n",
      "Đời Hùng Vương thứ 6, ở hương Phù Đổng, bộ Vũ Ninh có người nhà giàu, sinh một con trai, đến năm hơn ba tuổi ăn uống béo lớn nhưng không biết nói cười.  Gặp lúc trong nước có tin nguy cấp, vua sai người đi tìm người có thể đánh lui được giặc.  Ngày hôm ấy, đứa trẻ bỗng nói được, bảo mẹ ra mời thiên sứ vào, nói: \"Xin cho một thanh gươm, một con ngựa, vua không phải lo gì\".  Vua ban cho gươm và ngựa, đứa trẻ liền phi ngựa vung gươm tiến lên trước, quan quân theo sau, đánh tan quân giặc ở chân núi Vũ Ninh3.  Quân giặc tự quay giáo đánh lẫn nhau, chết rất nhiều, bọn sống sót đều rạp lạy, tôn gọi đứa trẻ ấy là thiên tướng, liền đến xin hàng cả.  Đứa trẻ phi ngựa [4a] lên trời mà đi.  Vua sai sửa sang chỗ vường nhà của đứa trẻ để lập đền thờ, tuế thời cúng tế.  Về sau, Lý Thái Tổ phong là Xung Thiên Thần Vương.  (Đền thờ ở cạnh chùa Kiến Sơ, hương Phù Đổng). \n",
      "Thời Thành Vương nhà Chu [1063-1026 TCN], nước Việt ta lần đầu sang thăm nhà Chu (không rõ vào đời Hùng Vương thứ mấy), xưng là Việt Thường thị, hiến chim trĩ trắng.  Chu Công nói: \"Chính lệnh không ban đến thì người quân tử không coi người ta là bề tôi của mình\", rồi sai làm xe chỉ nam đưa sứ giả về nước. \n",
      "Cuối thời Hùng Vương, vua có con gái gọi là Mị Nương, nhan sắc xinh đẹp.  Thục Vương nghe tiếng, đến cầu hôn.  Vua muốn gả, nhưng Hùng hầu can rằng: \"Họ muốn chiếm nước ta, chỉ lấy việc hôn nhân làm cớ mà thôi\".  Thục Vương vì chuyện ấy để bụng oán giận.  Vua muốn tìm người xứng đáng để gả, bảo các bề tôi rằng: \"Đứa con gái này là giống tiên, người nào có đủ tài đức mới cho làm rể\".  Bấy giờ có hai người từ ngoài đến, lạy dưới sân để cầu hôn.  Vua lấy làm lạ, hỏi thì họ thưa rằng một người là [4b] Sơn Tinh, một người là Thủy Tinh, đều ở trong cõi cả, nghe nhà vua có thánh nữ, đánh bạo đến xin lĩnh mệnh.  Vua nói: \"Ta có một người con gái, lẽ nào lại được cả hai rể hiền?\".  Bèn hẹn đến ngày hôm sau, ai đem đủ sính lễ đến trước thì gả cho người ấy.  Hai người vâng lời, lạy tạ ra về.  Hôm sau, Sơn Tinh đem các đồ châu báu vàng bạc, chim núi thú rừng đến dâng.  Vua y hẹn gả con cho.  Sơn Tinh đón vợ về ở ngọn núi cao trên núi Tản Viên.  Thủy Tinh cũng đem sính lễ đến sau, giận tiếc là không kịp, bèn kéo mây làm mưa, dâng nước tràn ngập, đem các loài thủy tộc đuổi theo.  Vua cùng Sơn Tinh lấy lưới sắt chăng ngang thượng lưu sông Từ Liêm4 để chặn lại.  Thủy Tinh theo sông khác, từ Ly Nhân vào chân núi Quảng Oai5 rồi theo dọc bờ lên cửa sông Hát, ra sông lớn6 mà rẽ vào sông Đà để đánh Tản Viên, nơi nơi đào sâu thành vực thành chằm, chứa nước để mưu đánh úp.  Sơn Tinh có phép thần biến hóa, gọi [5a]7 người man đan tre làm rào chắn nước, lấy nỏ bắn xuống, các loài có vẩy và có vỏ trúng tên đều chạy trốn cả.  Rốt cuộc Thủy Tinh không thể xâm phạm được núi Tản Viên.  (Tục truyền Sơn \n",
      "n \n",
      "#####\n",
      "Hùng Vương [3a] Con Lạc Long Quân (không rõ tên húy)5, đóng đô ở Phong Châu (nay là huyện Bạch Hạc)6. \n",
      "Hùng Vương lên ngôi, đặt quốc hiệu là Văn Lang (nước này đông giáp biển Nam Hải, tây đến Ba Thục, bắc đến hồ Động Đình, nam giáp nước Hồ Tôn, tức nước Chiêm Thành, nay là Quảng Nam), chia nước làm 15 bộ là: Giao Chỉ, Chu Diên, Vũ Ninh, Phúc Lộc, Việt Thường, Ninh Hải, Dương Tuyền, Lục Hải, Vũ Định, Hoài Hoan, Cửu Chân, Bình Văn, Tân Hưng, Cửu Đức; đều là đất thần thuộc của Hùng Vương; còn bộ gọi là Văn Lang là nơi vua đóng đô1.  Đặt tướng văn gọi là Lạc Hầu, tướng võ gọi là Lạc Tướng (chữ Lạc Tướng, sau chép sai là Hùng Tướng2).  Con trai vua gọi là Quan Lang, con gái vua gọi là Mị Nương.  Quan coi việc gọi là Bồ Chính, đời đời cha truyền con nối, gọi là phụ đạo.  Vua các đời đều gọi là Hùng Vương.  Bấy giờ dân ở rừng núi thấy ở sông ngòi khe suối đều có tôm cá, nên rủ nhau đi bắt cá để ăn, thường bị thuồng luồng làm hại, [3b] đến thưa với vua.  Vua nói: \"Người man ở núi khác với các loài thủy tộc; các thủy tộc ấy ưa cùng loài mà ghét khác loài, cho nên mới bị chúng làm hại.  Rồi vua bảo mọi người lấy mực vẽ hình thủy quái ở mình.  Từ đấy thuồng luồng trông thấy không cắn hại nữa.  Tục vẽ mình của người Bách Việt có lẽ bắt đầu từ đấy. \n",
      "Đời Hùng Vương thứ 6, ở hương Phù Đổng, bộ Vũ Ninh có người nhà giàu, sinh một con trai, đến năm hơn ba tuổi ăn uống béo lớn nhưng không biết nói cười.  Gặp lúc trong nước có tin nguy cấp, vua sai người đi tìm người có thể đánh lui được giặc.  Ngày hôm ấy, đứa trẻ bỗng nói được, bảo mẹ ra mời thiên sứ vào, nói: \"Xin cho một thanh gươm, một con ngựa, vua không phải lo gì\".  Vua ban cho gươm và ngựa, đứa trẻ liền phi ngựa vung gươm tiến lên trước, quan quân theo sau, đánh tan quân giặc ở chân núi Vũ Ninh3.  Quân giặc tự quay giáo đánh lẫn nhau, chết rất nhiều, bọn sống sót đều rạp lạy, tôn gọi đứa trẻ ấy là thiên tướng, liền đến xin hàng cả.  Đứa trẻ phi ngựa [4a] lên trời mà đi.  Vua sai sửa sang chỗ vường nhà của đứa trẻ để lập đền thờ, tuế thời cúng tế.  Về sau, Lý Thái Tổ phong là Xung Thiên Thần Vương.  (Đền thờ ở cạnh chùa Kiến Sơ, hương Phù Đổng). \n",
      "Thời Thành Vương nhà Chu [1063-1026 TCN], nước Việt ta lần đầu sang thăm nhà Chu (không rõ vào đời Hùng Vương thứ mấy), xưng là Việt Thường thị, hiến chim trĩ trắng.  Chu Công nói: \"Chính lệnh không ban đến thì người quân tử không coi người ta là bề tôi của mình\", rồi sai làm xe chỉ nam đưa sứ giả về nước. \n",
      "Cuối thời Hùng Vương, vua có con gái gọi là Mị Nương, nhan sắc xinh đẹp.  Thục Vương nghe tiếng, đến cầu hôn.  Vua muốn gả, nhưng Hùng hầu can rằng: \"Họ muốn chiếm nước ta, chỉ lấy việc hôn nhân làm cớ mà thôi\".  Thục Vương vì chuyện ấy để bụng oán giận.  Vua muốn tìm người xứng đáng để gả, bảo các bề tôi rằng: \"Đứa con gái này là giống tiên, người nào có đủ tài đức mới cho làm rể\".  Bấy giờ có hai người từ ngoài đến, lạy dưới sân để cầu hôn.  Vua lấy làm lạ, hỏi thì họ thưa rằng một người là [4b] Sơn Tinh, một người là Thủy Tinh, đều ở trong cõi cả, nghe nhà vua có thánh nữ, đánh bạo đến xin lĩnh mệnh.  Vua nói: \"Ta có một người con gái, lẽ nào lại được cả hai rể hiền?\".  Bèn hẹn đến ngày hôm sau, ai đem đủ sính lễ đến trước thì gả cho người ấy.  Hai người vâng lời, lạy tạ ra về.  Hôm sau, Sơn Tinh đem các đồ châu báu vàng bạc, chim núi thú rừng đến dâng.  Vua y hẹn gả con cho.  Sơn Tinh đón vợ về ở ngọn núi cao trên núi Tản Viên.  Thủy Tinh cũng đem sính lễ đến sau, giận tiếc là không kịp, bèn kéo mây làm mưa, dâng nước tràn ngập, đem các loài thủy tộc đuổi theo.  Vua cùng Sơn Tinh lấy lưới sắt chăng ngang thượng lưu sông Từ Liêm4 để chặn lại.  Thủy Tinh theo sông khác, từ Ly Nhân vào chân núi Quảng Oai5 rồi theo dọc bờ lên cửa sông Hát, ra sông lớn6 mà rẽ vào sông Đà để đánh Tản Viên, nơi nơi đào sâu thành vực thành chằm, chứa nước để mưu đánh úp.  Sơn Tinh có phép thần biến hóa, gọi [5a]7 người man đan tre làm rào chắn nước, lấy nỏ bắn xuống, các loài có vẩy và có vỏ trúng tên đều chạy trốn cả.  Rốt cuộc Thủy Tinh không thể xâm phạm được núi Tản Viên.  (Tục truyền Sơn Tinh và Thủy Tinh từ đấy về sau đời đời thù oán, mỗi năm mùa nước to thường vẫn đánh nhau). \n",
      "Núi Tản Viên là dãy núi cao của nước Việt ta, sự linh thiêng rất ứng nghiệm.  Mị Nương đã lấy \n",
      "y \n",
      "#####\n",
      "Hùng Vương [3a] Con Lạc Long Quân (không rõ tên húy)5, đóng đô ở Phong Châu (nay là huyện Bạch Hạc)6. \n",
      "Hùng Vương lên ngôi, đặt quốc hiệu là Văn Lang (nước này đông giáp biển Nam Hải, tây đến Ba Thục, bắc đến hồ Động Đình, nam giáp nước Hồ Tôn, tức nước Chiêm Thành, nay là Quảng Nam), chia nước làm 15 bộ là: Giao Chỉ, Chu Diên, Vũ Ninh, Phúc Lộc, Việt Thường, Ninh Hải, Dương Tuyền, Lục Hải, Vũ Định, Hoài Hoan, Cửu Chân, Bình Văn, Tân Hưng, Cửu Đức; đều là đất thần thuộc của Hùng Vương; còn bộ gọi là Văn Lang là nơi vua đóng đô1.  Đặt tướng văn gọi là Lạc Hầu, tướng võ gọi là Lạc Tướng (chữ Lạc Tướng, sau chép sai là Hùng Tướng2).  Con trai vua gọi là Quan Lang, con gái vua gọi là Mị Nương.  Quan coi việc gọi là Bồ Chính, đời đời cha truyền con nối, gọi là phụ đạo.  Vua các đời đều gọi là Hùng Vương.  Bấy giờ dân ở rừng núi thấy ở sông ngòi khe suối đều có tôm cá, nên rủ nhau đi bắt cá để ăn, thường bị thuồng luồng làm hại, [3b] đến thưa với vua.  Vua nói: \"Người man ở núi khác với các loài thủy tộc; các thủy tộc ấy ưa cùng loài mà ghét khác loài, cho nên mới bị chúng làm hại.  Rồi vua bảo mọi người lấy mực vẽ hình thủy quái ở mình.  Từ đấy thuồng luồng trông thấy không cắn hại nữa.  Tục vẽ mình của người Bách Việt có lẽ bắt đầu từ đấy. \n",
      "Đời Hùng Vương thứ 6, ở hương Phù Đổng, bộ Vũ Ninh có người nhà giàu, sinh một con trai, đến năm hơn ba tuổi ăn uống béo lớn nhưng không biết nói cười.  Gặp lúc trong nước có tin nguy cấp, vua sai người đi tìm người có thể đánh lui được giặc.  Ngày hôm ấy, đứa trẻ bỗng nói được, bảo mẹ ra mời thiên sứ vào, nói: \"Xin cho một thanh gươm, một con ngựa, vua không phải lo gì\".  Vua ban cho gươm và ngựa, đứa trẻ liền phi ngựa vung gươm tiến lên trước, quan quân theo sau, đánh tan quân giặc ở chân núi Vũ Ninh3.  Quân giặc tự quay giáo đánh lẫn nhau, chết rất nhiều, bọn sống sót đều rạp lạy, tôn gọi đứa trẻ ấy là thiên tướng, liền đến xin hàng cả.  Đứa trẻ phi ngựa [4a] lên trời mà đi.  Vua sai sửa sang chỗ vường nhà của đứa trẻ để lập đền thờ, tuế thời cúng tế.  Về sau, Lý Thái Tổ phong là Xung Thiên Thần Vương.  (Đền thờ ở cạnh chùa Kiến Sơ, hương Phù Đổng). \n",
      "Thời Thành Vương nhà Chu [1063-1026 TCN], nước Việt ta lần đầu sang thăm nhà Chu (không rõ vào đời Hùng Vương thứ mấy), xưng là Việt Thường thị, hiến chim trĩ trắng.  Chu Công nói: \"Chính lệnh không ban đến thì người quân tử không coi người ta là bề tôi của mình\", rồi sai làm xe chỉ nam đưa sứ giả về nước. \n",
      "Cuối thời Hùng Vương, vua có con gái gọi là Mị Nương, nhan sắc xinh đẹp.  Thục Vương nghe tiếng, đến cầu hôn.  Vua muốn gả, nhưng Hùng hầu can rằng: \"Họ muốn chiếm nước ta, chỉ lấy việc hôn nhân làm cớ mà thôi\".  Thục Vương vì chuyện ấy để bụng oán giận.  Vua muốn tìm người xứng đáng để gả, bảo các bề tôi rằng: \"Đứa con gái này là giống tiên, người nào có đủ tài đức mới cho làm rể\".  Bấy giờ có hai người từ ngoài đến, lạy dưới sân để cầu hôn.  Vua lấy làm lạ, hỏi thì họ thưa rằng một người là [4b] Sơn Tinh, một người là Thủy Tinh, đều ở trong cõi cả, nghe nhà vua có thánh nữ, đánh bạo đến xin lĩnh mệnh.  Vua nói: \"Ta có một người con gái, lẽ nào lại được cả hai rể hiền?\".  Bèn hẹn đến ngày hôm sau, ai đem đủ sính lễ đến trước thì gả cho người ấy.  Hai người vâng lời, lạy tạ ra về.  Hôm sau, Sơn Tinh đem các đồ châu báu vàng bạc, chim núi thú rừng đến dâng.  Vua y hẹn gả con cho.  Sơn Tinh đón vợ về ở ngọn núi cao trên núi Tản Viên.  Thủy Tinh cũng đem sính lễ đến sau, giận tiếc là không kịp, bèn kéo mây làm mưa, dâng nước tràn ngập, đem các loài thủy tộc đuổi theo.  Vua cùng Sơn Tinh lấy lưới sắt chăng ngang thượng lưu sông Từ Liêm4 để chặn lại.  Thủy Tinh theo sông khác, từ Ly Nhân vào chân núi Quảng Oai5 rồi theo dọc bờ lên cửa sông Hát, ra sông lớn6 mà rẽ vào sông Đà để đánh Tản Viên, nơi nơi đào sâu thành vực thành chằm, chứa nước để mưu đánh úp.  Sơn Tinh có phép thần biến hóa, gọi [5a]7 người man đan tre làm rào chắn nước, lấy nỏ bắn xuống, các loài có vẩy và có vỏ trúng tên đều chạy trốn cả.  Rốt cuộc Thủy Tinh không thể xâm phạm được núi Tản Viên.  (Tục truyền Sơn Tinh và Thủy Tinh từ đấy về sau đời đời thù oán, mỗi năm mùa nước to thường vẫn đánh nhau). \n",
      "Núi Tản Viên là dãy núi cao của nước Việt ta, sự linh thiêng rất ứng nghiệm.  Mị Nương đã lấy Sơn Tinh, Thục Vương tức giận, dặn lại con cháu phải diệt Văn Lang mà chiếm lấy nước.  Đến đời cháu là \n",
      "à \n",
      "#####\n",
      "Hùng Vương [3a] Con Lạc Long Quân (không rõ tên húy)5, đóng đô ở Phong Châu (nay là huyện Bạch Hạc)6. \n",
      "Hùng Vương lên ngôi, đặt quốc hiệu là Văn Lang (nước này đông giáp biển Nam Hải, tây đến Ba Thục, bắc đến hồ Động Đình, nam giáp nước Hồ Tôn, tức nước Chiêm Thành, nay là Quảng Nam), chia nước làm 15 bộ là: Giao Chỉ, Chu Diên, Vũ Ninh, Phúc Lộc, Việt Thường, Ninh Hải, Dương Tuyền, Lục Hải, Vũ Định, Hoài Hoan, Cửu Chân, Bình Văn, Tân Hưng, Cửu Đức; đều là đất thần thuộc của Hùng Vương; còn bộ gọi là Văn Lang là nơi vua đóng đô1.  Đặt tướng văn gọi là Lạc Hầu, tướng võ gọi là Lạc Tướng (chữ Lạc Tướng, sau chép sai là Hùng Tướng2).  Con trai vua gọi là Quan Lang, con gái vua gọi là Mị Nương.  Quan coi việc gọi là Bồ Chính, đời đời cha truyền con nối, gọi là phụ đạo.  Vua các đời đều gọi là Hùng Vương.  Bấy giờ dân ở rừng núi thấy ở sông ngòi khe suối đều có tôm cá, nên rủ nhau đi bắt cá để ăn, thường bị thuồng luồng làm hại, [3b] đến thưa với vua.  Vua nói: \"Người man ở núi khác với các loài thủy tộc; các thủy tộc ấy ưa cùng loài mà ghét khác loài, cho nên mới bị chúng làm hại.  Rồi vua bảo mọi người lấy mực vẽ hình thủy quái ở mình.  Từ đấy thuồng luồng trông thấy không cắn hại nữa.  Tục vẽ mình của người Bách Việt có lẽ bắt đầu từ đấy. \n",
      "Đời Hùng Vương thứ 6, ở hương Phù Đổng, bộ Vũ Ninh có người nhà giàu, sinh một con trai, đến năm hơn ba tuổi ăn uống béo lớn nhưng không biết nói cười.  Gặp lúc trong nước có tin nguy cấp, vua sai người đi tìm người có thể đánh lui được giặc.  Ngày hôm ấy, đứa trẻ bỗng nói được, bảo mẹ ra mời thiên sứ vào, nói: \"Xin cho một thanh gươm, một con ngựa, vua không phải lo gì\".  Vua ban cho gươm và ngựa, đứa trẻ liền phi ngựa vung gươm tiến lên trước, quan quân theo sau, đánh tan quân giặc ở chân núi Vũ Ninh3.  Quân giặc tự quay giáo đánh lẫn nhau, chết rất nhiều, bọn sống sót đều rạp lạy, tôn gọi đứa trẻ ấy là thiên tướng, liền đến xin hàng cả.  Đứa trẻ phi ngựa [4a] lên trời mà đi.  Vua sai sửa sang chỗ vường nhà của đứa trẻ để lập đền thờ, tuế thời cúng tế.  Về sau, Lý Thái Tổ phong là Xung Thiên Thần Vương.  (Đền thờ ở cạnh chùa Kiến Sơ, hương Phù Đổng). \n",
      "Thời Thành Vương nhà Chu [1063-1026 TCN], nước Việt ta lần đầu sang thăm nhà Chu (không rõ vào đời Hùng Vương thứ mấy), xưng là Việt Thường thị, hiến chim trĩ trắng.  Chu Công nói: \"Chính lệnh không ban đến thì người quân tử không coi người ta là bề tôi của mình\", rồi sai làm xe chỉ nam đưa sứ giả về nước. \n",
      "Cuối thời Hùng Vương, vua có con gái gọi là Mị Nương, nhan sắc xinh đẹp.  Thục Vương nghe tiếng, đến cầu hôn.  Vua muốn gả, nhưng Hùng hầu can rằng: \"Họ muốn chiếm nước ta, chỉ lấy việc hôn nhân làm cớ mà thôi\".  Thục Vương vì chuyện ấy để bụng oán giận.  Vua muốn tìm người xứng đáng để gả, bảo các bề tôi rằng: \"Đứa con gái này là giống tiên, người nào có đủ tài đức mới cho làm rể\".  Bấy giờ có hai người từ ngoài đến, lạy dưới sân để cầu hôn.  Vua lấy làm lạ, hỏi thì họ thưa rằng một người là [4b] Sơn Tinh, một người là Thủy Tinh, đều ở trong cõi cả, nghe nhà vua có thánh nữ, đánh bạo đến xin lĩnh mệnh.  Vua nói: \"Ta có một người con gái, lẽ nào lại được cả hai rể hiền?\".  Bèn hẹn đến ngày hôm sau, ai đem đủ sính lễ đến trước thì gả cho người ấy.  Hai người vâng lời, lạy tạ ra về.  Hôm sau, Sơn Tinh đem các đồ châu báu vàng bạc, chim núi thú rừng đến dâng.  Vua y hẹn gả con cho.  Sơn Tinh đón vợ về ở ngọn núi cao trên núi Tản Viên.  Thủy Tinh cũng đem sính lễ đến sau, giận tiếc là không kịp, bèn kéo mây làm mưa, dâng nước tràn ngập, đem các loài thủy tộc đuổi theo.  Vua cùng Sơn Tinh lấy lưới sắt chăng ngang thượng lưu sông Từ Liêm4 để chặn lại.  Thủy Tinh theo sông khác, từ Ly Nhân vào chân núi Quảng Oai5 rồi theo dọc bờ lên cửa sông Hát, ra sông lớn6 mà rẽ vào sông Đà để đánh Tản Viên, nơi nơi đào sâu thành vực thành chằm, chứa nước để mưu đánh úp.  Sơn Tinh có phép thần biến hóa, gọi [5a]7 người man đan tre làm rào chắn nước, lấy nỏ bắn xuống, các loài có vẩy và có vỏ trúng tên đều chạy trốn cả.  Rốt cuộc Thủy Tinh không thể xâm phạm được núi Tản Viên.  (Tục truyền Sơn Tinh và Thủy Tinh từ đấy về sau đời đời thù oán, mỗi năm mùa nước to thường vẫn đánh nhau). \n",
      "Núi Tản Viên là dãy núi cao của nước Việt ta, sự linh thiêng rất ứng nghiệm.  Mị Nương đã lấy Sơn Tinh, Thục Vương tức giận, dặn lại con cháu phải diệt Văn Lang mà chiếm lấy nước.  Đến đời cháu là Thục Phán có dũng lược, bèn đánh lấy nước. \n",
      "Sử thần Ngô Sĩ Liên nói:  Thời Hùng Vương đặt chư hầu để làm phên giậu, chia \n",
      "a \n",
      "#####\n",
      "Hùng Vương [3a] Con Lạc Long Quân (không rõ tên húy)5, đóng đô ở Phong Châu (nay là huyện Bạch Hạc)6. \n",
      "Hùng Vương lên ngôi, đặt quốc hiệu là Văn Lang (nước này đông giáp biển Nam Hải, tây đến Ba Thục, bắc đến hồ Động Đình, nam giáp nước Hồ Tôn, tức nước Chiêm Thành, nay là Quảng Nam), chia nước làm 15 bộ là: Giao Chỉ, Chu Diên, Vũ Ninh, Phúc Lộc, Việt Thường, Ninh Hải, Dương Tuyền, Lục Hải, Vũ Định, Hoài Hoan, Cửu Chân, Bình Văn, Tân Hưng, Cửu Đức; đều là đất thần thuộc của Hùng Vương; còn bộ gọi là Văn Lang là nơi vua đóng đô1.  Đặt tướng văn gọi là Lạc Hầu, tướng võ gọi là Lạc Tướng (chữ Lạc Tướng, sau chép sai là Hùng Tướng2).  Con trai vua gọi là Quan Lang, con gái vua gọi là Mị Nương.  Quan coi việc gọi là Bồ Chính, đời đời cha truyền con nối, gọi là phụ đạo.  Vua các đời đều gọi là Hùng Vương.  Bấy giờ dân ở rừng núi thấy ở sông ngòi khe suối đều có tôm cá, nên rủ nhau đi bắt cá để ăn, thường bị thuồng luồng làm hại, [3b] đến thưa với vua.  Vua nói: \"Người man ở núi khác với các loài thủy tộc; các thủy tộc ấy ưa cùng loài mà ghét khác loài, cho nên mới bị chúng làm hại.  Rồi vua bảo mọi người lấy mực vẽ hình thủy quái ở mình.  Từ đấy thuồng luồng trông thấy không cắn hại nữa.  Tục vẽ mình của người Bách Việt có lẽ bắt đầu từ đấy. \n",
      "Đời Hùng Vương thứ 6, ở hương Phù Đổng, bộ Vũ Ninh có người nhà giàu, sinh một con trai, đến năm hơn ba tuổi ăn uống béo lớn nhưng không biết nói cười.  Gặp lúc trong nước có tin nguy cấp, vua sai người đi tìm người có thể đánh lui được giặc.  Ngày hôm ấy, đứa trẻ bỗng nói được, bảo mẹ ra mời thiên sứ vào, nói: \"Xin cho một thanh gươm, một con ngựa, vua không phải lo gì\".  Vua ban cho gươm và ngựa, đứa trẻ liền phi ngựa vung gươm tiến lên trước, quan quân theo sau, đánh tan quân giặc ở chân núi Vũ Ninh3.  Quân giặc tự quay giáo đánh lẫn nhau, chết rất nhiều, bọn sống sót đều rạp lạy, tôn gọi đứa trẻ ấy là thiên tướng, liền đến xin hàng cả.  Đứa trẻ phi ngựa [4a] lên trời mà đi.  Vua sai sửa sang chỗ vường nhà của đứa trẻ để lập đền thờ, tuế thời cúng tế.  Về sau, Lý Thái Tổ phong là Xung Thiên Thần Vương.  (Đền thờ ở cạnh chùa Kiến Sơ, hương Phù Đổng). \n",
      "Thời Thành Vương nhà Chu [1063-1026 TCN], nước Việt ta lần đầu sang thăm nhà Chu (không rõ vào đời Hùng Vương thứ mấy), xưng là Việt Thường thị, hiến chim trĩ trắng.  Chu Công nói: \"Chính lệnh không ban đến thì người quân tử không coi người ta là bề tôi của mình\", rồi sai làm xe chỉ nam đưa sứ giả về nước. \n",
      "Cuối thời Hùng Vương, vua có con gái gọi là Mị Nương, nhan sắc xinh đẹp.  Thục Vương nghe tiếng, đến cầu hôn.  Vua muốn gả, nhưng Hùng hầu can rằng: \"Họ muốn chiếm nước ta, chỉ lấy việc hôn nhân làm cớ mà thôi\".  Thục Vương vì chuyện ấy để bụng oán giận.  Vua muốn tìm người xứng đáng để gả, bảo các bề tôi rằng: \"Đứa con gái này là giống tiên, người nào có đủ tài đức mới cho làm rể\".  Bấy giờ có hai người từ ngoài đến, lạy dưới sân để cầu hôn.  Vua lấy làm lạ, hỏi thì họ thưa rằng một người là [4b] Sơn Tinh, một người là Thủy Tinh, đều ở trong cõi cả, nghe nhà vua có thánh nữ, đánh bạo đến xin lĩnh mệnh.  Vua nói: \"Ta có một người con gái, lẽ nào lại được cả hai rể hiền?\".  Bèn hẹn đến ngày hôm sau, ai đem đủ sính lễ đến trước thì gả cho người ấy.  Hai người vâng lời, lạy tạ ra về.  Hôm sau, Sơn Tinh đem các đồ châu báu vàng bạc, chim núi thú rừng đến dâng.  Vua y hẹn gả con cho.  Sơn Tinh đón vợ về ở ngọn núi cao trên núi Tản Viên.  Thủy Tinh cũng đem sính lễ đến sau, giận tiếc là không kịp, bèn kéo mây làm mưa, dâng nước tràn ngập, đem các loài thủy tộc đuổi theo.  Vua cùng Sơn Tinh lấy lưới sắt chăng ngang thượng lưu sông Từ Liêm4 để chặn lại.  Thủy Tinh theo sông khác, từ Ly Nhân vào chân núi Quảng Oai5 rồi theo dọc bờ lên cửa sông Hát, ra sông lớn6 mà rẽ vào sông Đà để đánh Tản Viên, nơi nơi đào sâu thành vực thành chằm, chứa nước để mưu đánh úp.  Sơn Tinh có phép thần biến hóa, gọi [5a]7 người man đan tre làm rào chắn nước, lấy nỏ bắn xuống, các loài có vẩy và có vỏ trúng tên đều chạy trốn cả.  Rốt cuộc Thủy Tinh không thể xâm phạm được núi Tản Viên.  (Tục truyền Sơn Tinh và Thủy Tinh từ đấy về sau đời đời thù oán, mỗi năm mùa nước to thường vẫn đánh nhau). \n",
      "Núi Tản Viên là dãy núi cao của nước Việt ta, sự linh thiêng rất ứng nghiệm.  Mị Nương đã lấy Sơn Tinh, Thục Vương tức giận, dặn lại con cháu phải diệt Văn Lang mà chiếm lấy nước.  Đến đời cháu là Thục Phán có dũng lược, bèn đánh lấy nước. \n",
      "Sử thần Ngô Sĩ Liên nói:  Thời Hùng Vương đặt chư hầu để làm phên giậu, chia nước làm 15 bộ.  Ở 15 bộ ấy đều có trưởng và tá.  Vua theo thứ bậc cắt đặt các con thứ \n",
      "ứ \n",
      "#####\n",
      "Hùng Vương [3a] Con Lạc Long Quân (không rõ tên húy)5, đóng đô ở Phong Châu (nay là huyện Bạch Hạc)6. \n",
      "Hùng Vương lên ngôi, đặt quốc hiệu là Văn Lang (nước này đông giáp biển Nam Hải, tây đến Ba Thục, bắc đến hồ Động Đình, nam giáp nước Hồ Tôn, tức nước Chiêm Thành, nay là Quảng Nam), chia nước làm 15 bộ là: Giao Chỉ, Chu Diên, Vũ Ninh, Phúc Lộc, Việt Thường, Ninh Hải, Dương Tuyền, Lục Hải, Vũ Định, Hoài Hoan, Cửu Chân, Bình Văn, Tân Hưng, Cửu Đức; đều là đất thần thuộc của Hùng Vương; còn bộ gọi là Văn Lang là nơi vua đóng đô1.  Đặt tướng văn gọi là Lạc Hầu, tướng võ gọi là Lạc Tướng (chữ Lạc Tướng, sau chép sai là Hùng Tướng2).  Con trai vua gọi là Quan Lang, con gái vua gọi là Mị Nương.  Quan coi việc gọi là Bồ Chính, đời đời cha truyền con nối, gọi là phụ đạo.  Vua các đời đều gọi là Hùng Vương.  Bấy giờ dân ở rừng núi thấy ở sông ngòi khe suối đều có tôm cá, nên rủ nhau đi bắt cá để ăn, thường bị thuồng luồng làm hại, [3b] đến thưa với vua.  Vua nói: \"Người man ở núi khác với các loài thủy tộc; các thủy tộc ấy ưa cùng loài mà ghét khác loài, cho nên mới bị chúng làm hại.  Rồi vua bảo mọi người lấy mực vẽ hình thủy quái ở mình.  Từ đấy thuồng luồng trông thấy không cắn hại nữa.  Tục vẽ mình của người Bách Việt có lẽ bắt đầu từ đấy. \n",
      "Đời Hùng Vương thứ 6, ở hương Phù Đổng, bộ Vũ Ninh có người nhà giàu, sinh một con trai, đến năm hơn ba tuổi ăn uống béo lớn nhưng không biết nói cười.  Gặp lúc trong nước có tin nguy cấp, vua sai người đi tìm người có thể đánh lui được giặc.  Ngày hôm ấy, đứa trẻ bỗng nói được, bảo mẹ ra mời thiên sứ vào, nói: \"Xin cho một thanh gươm, một con ngựa, vua không phải lo gì\".  Vua ban cho gươm và ngựa, đứa trẻ liền phi ngựa vung gươm tiến lên trước, quan quân theo sau, đánh tan quân giặc ở chân núi Vũ Ninh3.  Quân giặc tự quay giáo đánh lẫn nhau, chết rất nhiều, bọn sống sót đều rạp lạy, tôn gọi đứa trẻ ấy là thiên tướng, liền đến xin hàng cả.  Đứa trẻ phi ngựa [4a] lên trời mà đi.  Vua sai sửa sang chỗ vường nhà của đứa trẻ để lập đền thờ, tuế thời cúng tế.  Về sau, Lý Thái Tổ phong là Xung Thiên Thần Vương.  (Đền thờ ở cạnh chùa Kiến Sơ, hương Phù Đổng). \n",
      "Thời Thành Vương nhà Chu [1063-1026 TCN], nước Việt ta lần đầu sang thăm nhà Chu (không rõ vào đời Hùng Vương thứ mấy), xưng là Việt Thường thị, hiến chim trĩ trắng.  Chu Công nói: \"Chính lệnh không ban đến thì người quân tử không coi người ta là bề tôi của mình\", rồi sai làm xe chỉ nam đưa sứ giả về nước. \n",
      "Cuối thời Hùng Vương, vua có con gái gọi là Mị Nương, nhan sắc xinh đẹp.  Thục Vương nghe tiếng, đến cầu hôn.  Vua muốn gả, nhưng Hùng hầu can rằng: \"Họ muốn chiếm nước ta, chỉ lấy việc hôn nhân làm cớ mà thôi\".  Thục Vương vì chuyện ấy để bụng oán giận.  Vua muốn tìm người xứng đáng để gả, bảo các bề tôi rằng: \"Đứa con gái này là giống tiên, người nào có đủ tài đức mới cho làm rể\".  Bấy giờ có hai người từ ngoài đến, lạy dưới sân để cầu hôn.  Vua lấy làm lạ, hỏi thì họ thưa rằng một người là [4b] Sơn Tinh, một người là Thủy Tinh, đều ở trong cõi cả, nghe nhà vua có thánh nữ, đánh bạo đến xin lĩnh mệnh.  Vua nói: \"Ta có một người con gái, lẽ nào lại được cả hai rể hiền?\".  Bèn hẹn đến ngày hôm sau, ai đem đủ sính lễ đến trước thì gả cho người ấy.  Hai người vâng lời, lạy tạ ra về.  Hôm sau, Sơn Tinh đem các đồ châu báu vàng bạc, chim núi thú rừng đến dâng.  Vua y hẹn gả con cho.  Sơn Tinh đón vợ về ở ngọn núi cao trên núi Tản Viên.  Thủy Tinh cũng đem sính lễ đến sau, giận tiếc là không kịp, bèn kéo mây làm mưa, dâng nước tràn ngập, đem các loài thủy tộc đuổi theo.  Vua cùng Sơn Tinh lấy lưới sắt chăng ngang thượng lưu sông Từ Liêm4 để chặn lại.  Thủy Tinh theo sông khác, từ Ly Nhân vào chân núi Quảng Oai5 rồi theo dọc bờ lên cửa sông Hát, ra sông lớn6 mà rẽ vào sông Đà để đánh Tản Viên, nơi nơi đào sâu thành vực thành chằm, chứa nước để mưu đánh úp.  Sơn Tinh có phép thần biến hóa, gọi [5a]7 người man đan tre làm rào chắn nước, lấy nỏ bắn xuống, các loài có vẩy và có vỏ trúng tên đều chạy trốn cả.  Rốt cuộc Thủy Tinh không thể xâm phạm được núi Tản Viên.  (Tục truyền Sơn Tinh và Thủy Tinh từ đấy về sau đời đời thù oán, mỗi năm mùa nước to thường vẫn đánh nhau). \n",
      "Núi Tản Viên là dãy núi cao của nước Việt ta, sự linh thiêng rất ứng nghiệm.  Mị Nương đã lấy Sơn Tinh, Thục Vương tức giận, dặn lại con cháu phải diệt Văn Lang mà chiếm lấy nước.  Đến đời cháu là Thục Phán có dũng lược, bèn đánh lấy nước. \n",
      "Sử thần Ngô Sĩ Liên nói:  Thời Hùng Vương đặt chư hầu để làm phên giậu, chia nước làm 15 bộ.  Ở 15 bộ ấy đều có trưởng và tá.  Vua theo thứ bậc cắt đặt các con thứ để cai trị.  Nói 50 con theo mẹ về núi, làm sao biết không phải là như thế?  Vì mẹ làm \n",
      "m \n",
      "#####\n",
      "Hùng Vương [3a] Con Lạc Long Quân (không rõ tên húy)5, đóng đô ở Phong Châu (nay là huyện Bạch Hạc)6. \n",
      "Hùng Vương lên ngôi, đặt quốc hiệu là Văn Lang (nước này đông giáp biển Nam Hải, tây đến Ba Thục, bắc đến hồ Động Đình, nam giáp nước Hồ Tôn, tức nước Chiêm Thành, nay là Quảng Nam), chia nước làm 15 bộ là: Giao Chỉ, Chu Diên, Vũ Ninh, Phúc Lộc, Việt Thường, Ninh Hải, Dương Tuyền, Lục Hải, Vũ Định, Hoài Hoan, Cửu Chân, Bình Văn, Tân Hưng, Cửu Đức; đều là đất thần thuộc của Hùng Vương; còn bộ gọi là Văn Lang là nơi vua đóng đô1.  Đặt tướng văn gọi là Lạc Hầu, tướng võ gọi là Lạc Tướng (chữ Lạc Tướng, sau chép sai là Hùng Tướng2).  Con trai vua gọi là Quan Lang, con gái vua gọi là Mị Nương.  Quan coi việc gọi là Bồ Chính, đời đời cha truyền con nối, gọi là phụ đạo.  Vua các đời đều gọi là Hùng Vương.  Bấy giờ dân ở rừng núi thấy ở sông ngòi khe suối đều có tôm cá, nên rủ nhau đi bắt cá để ăn, thường bị thuồng luồng làm hại, [3b] đến thưa với vua.  Vua nói: \"Người man ở núi khác với các loài thủy tộc; các thủy tộc ấy ưa cùng loài mà ghét khác loài, cho nên mới bị chúng làm hại.  Rồi vua bảo mọi người lấy mực vẽ hình thủy quái ở mình.  Từ đấy thuồng luồng trông thấy không cắn hại nữa.  Tục vẽ mình của người Bách Việt có lẽ bắt đầu từ đấy. \n",
      "Đời Hùng Vương thứ 6, ở hương Phù Đổng, bộ Vũ Ninh có người nhà giàu, sinh một con trai, đến năm hơn ba tuổi ăn uống béo lớn nhưng không biết nói cười.  Gặp lúc trong nước có tin nguy cấp, vua sai người đi tìm người có thể đánh lui được giặc.  Ngày hôm ấy, đứa trẻ bỗng nói được, bảo mẹ ra mời thiên sứ vào, nói: \"Xin cho một thanh gươm, một con ngựa, vua không phải lo gì\".  Vua ban cho gươm và ngựa, đứa trẻ liền phi ngựa vung gươm tiến lên trước, quan quân theo sau, đánh tan quân giặc ở chân núi Vũ Ninh3.  Quân giặc tự quay giáo đánh lẫn nhau, chết rất nhiều, bọn sống sót đều rạp lạy, tôn gọi đứa trẻ ấy là thiên tướng, liền đến xin hàng cả.  Đứa trẻ phi ngựa [4a] lên trời mà đi.  Vua sai sửa sang chỗ vường nhà của đứa trẻ để lập đền thờ, tuế thời cúng tế.  Về sau, Lý Thái Tổ phong là Xung Thiên Thần Vương.  (Đền thờ ở cạnh chùa Kiến Sơ, hương Phù Đổng). \n",
      "Thời Thành Vương nhà Chu [1063-1026 TCN], nước Việt ta lần đầu sang thăm nhà Chu (không rõ vào đời Hùng Vương thứ mấy), xưng là Việt Thường thị, hiến chim trĩ trắng.  Chu Công nói: \"Chính lệnh không ban đến thì người quân tử không coi người ta là bề tôi của mình\", rồi sai làm xe chỉ nam đưa sứ giả về nước. \n",
      "Cuối thời Hùng Vương, vua có con gái gọi là Mị Nương, nhan sắc xinh đẹp.  Thục Vương nghe tiếng, đến cầu hôn.  Vua muốn gả, nhưng Hùng hầu can rằng: \"Họ muốn chiếm nước ta, chỉ lấy việc hôn nhân làm cớ mà thôi\".  Thục Vương vì chuyện ấy để bụng oán giận.  Vua muốn tìm người xứng đáng để gả, bảo các bề tôi rằng: \"Đứa con gái này là giống tiên, người nào có đủ tài đức mới cho làm rể\".  Bấy giờ có hai người từ ngoài đến, lạy dưới sân để cầu hôn.  Vua lấy làm lạ, hỏi thì họ thưa rằng một người là [4b] Sơn Tinh, một người là Thủy Tinh, đều ở trong cõi cả, nghe nhà vua có thánh nữ, đánh bạo đến xin lĩnh mệnh.  Vua nói: \"Ta có một người con gái, lẽ nào lại được cả hai rể hiền?\".  Bèn hẹn đến ngày hôm sau, ai đem đủ sính lễ đến trước thì gả cho người ấy.  Hai người vâng lời, lạy tạ ra về.  Hôm sau, Sơn Tinh đem các đồ châu báu vàng bạc, chim núi thú rừng đến dâng.  Vua y hẹn gả con cho.  Sơn Tinh đón vợ về ở ngọn núi cao trên núi Tản Viên.  Thủy Tinh cũng đem sính lễ đến sau, giận tiếc là không kịp, bèn kéo mây làm mưa, dâng nước tràn ngập, đem các loài thủy tộc đuổi theo.  Vua cùng Sơn Tinh lấy lưới sắt chăng ngang thượng lưu sông Từ Liêm4 để chặn lại.  Thủy Tinh theo sông khác, từ Ly Nhân vào chân núi Quảng Oai5 rồi theo dọc bờ lên cửa sông Hát, ra sông lớn6 mà rẽ vào sông Đà để đánh Tản Viên, nơi nơi đào sâu thành vực thành chằm, chứa nước để mưu đánh úp.  Sơn Tinh có phép thần biến hóa, gọi [5a]7 người man đan tre làm rào chắn nước, lấy nỏ bắn xuống, các loài có vẩy và có vỏ trúng tên đều chạy trốn cả.  Rốt cuộc Thủy Tinh không thể xâm phạm được núi Tản Viên.  (Tục truyền Sơn Tinh và Thủy Tinh từ đấy về sau đời đời thù oán, mỗi năm mùa nước to thường vẫn đánh nhau). \n",
      "Núi Tản Viên là dãy núi cao của nước Việt ta, sự linh thiêng rất ứng nghiệm.  Mị Nương đã lấy Sơn Tinh, Thục Vương tức giận, dặn lại con cháu phải diệt Văn Lang mà chiếm lấy nước.  Đến đời cháu là Thục Phán có dũng lược, bèn đánh lấy nước. \n",
      "Sử thần Ngô Sĩ Liên nói:  Thời Hùng Vương đặt chư hầu để làm phên giậu, chia nước làm 15 bộ.  Ở 15 bộ ấy đều có trưởng và tá.  Vua theo thứ bậc cắt đặt các con thứ để cai trị.  Nói 50 con theo mẹ về núi, làm sao biết không phải là như thế?  Vì mẹ làm quân trưởng, các con đều làm chúa một phương.  Cứ xem như tù trưởng người man \n",
      "n \n",
      "#####\n",
      "Hùng Vương [3a] Con Lạc Long Quân (không rõ tên húy)5, đóng đô ở Phong Châu (nay là huyện Bạch Hạc)6. \n",
      "Hùng Vương lên ngôi, đặt quốc hiệu là Văn Lang (nước này đông giáp biển Nam Hải, tây đến Ba Thục, bắc đến hồ Động Đình, nam giáp nước Hồ Tôn, tức nước Chiêm Thành, nay là Quảng Nam), chia nước làm 15 bộ là: Giao Chỉ, Chu Diên, Vũ Ninh, Phúc Lộc, Việt Thường, Ninh Hải, Dương Tuyền, Lục Hải, Vũ Định, Hoài Hoan, Cửu Chân, Bình Văn, Tân Hưng, Cửu Đức; đều là đất thần thuộc của Hùng Vương; còn bộ gọi là Văn Lang là nơi vua đóng đô1.  Đặt tướng văn gọi là Lạc Hầu, tướng võ gọi là Lạc Tướng (chữ Lạc Tướng, sau chép sai là Hùng Tướng2).  Con trai vua gọi là Quan Lang, con gái vua gọi là Mị Nương.  Quan coi việc gọi là Bồ Chính, đời đời cha truyền con nối, gọi là phụ đạo.  Vua các đời đều gọi là Hùng Vương.  Bấy giờ dân ở rừng núi thấy ở sông ngòi khe suối đều có tôm cá, nên rủ nhau đi bắt cá để ăn, thường bị thuồng luồng làm hại, [3b] đến thưa với vua.  Vua nói: \"Người man ở núi khác với các loài thủy tộc; các thủy tộc ấy ưa cùng loài mà ghét khác loài, cho nên mới bị chúng làm hại.  Rồi vua bảo mọi người lấy mực vẽ hình thủy quái ở mình.  Từ đấy thuồng luồng trông thấy không cắn hại nữa.  Tục vẽ mình của người Bách Việt có lẽ bắt đầu từ đấy. \n",
      "Đời Hùng Vương thứ 6, ở hương Phù Đổng, bộ Vũ Ninh có người nhà giàu, sinh một con trai, đến năm hơn ba tuổi ăn uống béo lớn nhưng không biết nói cười.  Gặp lúc trong nước có tin nguy cấp, vua sai người đi tìm người có thể đánh lui được giặc.  Ngày hôm ấy, đứa trẻ bỗng nói được, bảo mẹ ra mời thiên sứ vào, nói: \"Xin cho một thanh gươm, một con ngựa, vua không phải lo gì\".  Vua ban cho gươm và ngựa, đứa trẻ liền phi ngựa vung gươm tiến lên trước, quan quân theo sau, đánh tan quân giặc ở chân núi Vũ Ninh3.  Quân giặc tự quay giáo đánh lẫn nhau, chết rất nhiều, bọn sống sót đều rạp lạy, tôn gọi đứa trẻ ấy là thiên tướng, liền đến xin hàng cả.  Đứa trẻ phi ngựa [4a] lên trời mà đi.  Vua sai sửa sang chỗ vường nhà của đứa trẻ để lập đền thờ, tuế thời cúng tế.  Về sau, Lý Thái Tổ phong là Xung Thiên Thần Vương.  (Đền thờ ở cạnh chùa Kiến Sơ, hương Phù Đổng). \n",
      "Thời Thành Vương nhà Chu [1063-1026 TCN], nước Việt ta lần đầu sang thăm nhà Chu (không rõ vào đời Hùng Vương thứ mấy), xưng là Việt Thường thị, hiến chim trĩ trắng.  Chu Công nói: \"Chính lệnh không ban đến thì người quân tử không coi người ta là bề tôi của mình\", rồi sai làm xe chỉ nam đưa sứ giả về nước. \n",
      "Cuối thời Hùng Vương, vua có con gái gọi là Mị Nương, nhan sắc xinh đẹp.  Thục Vương nghe tiếng, đến cầu hôn.  Vua muốn gả, nhưng Hùng hầu can rằng: \"Họ muốn chiếm nước ta, chỉ lấy việc hôn nhân làm cớ mà thôi\".  Thục Vương vì chuyện ấy để bụng oán giận.  Vua muốn tìm người xứng đáng để gả, bảo các bề tôi rằng: \"Đứa con gái này là giống tiên, người nào có đủ tài đức mới cho làm rể\".  Bấy giờ có hai người từ ngoài đến, lạy dưới sân để cầu hôn.  Vua lấy làm lạ, hỏi thì họ thưa rằng một người là [4b] Sơn Tinh, một người là Thủy Tinh, đều ở trong cõi cả, nghe nhà vua có thánh nữ, đánh bạo đến xin lĩnh mệnh.  Vua nói: \"Ta có một người con gái, lẽ nào lại được cả hai rể hiền?\".  Bèn hẹn đến ngày hôm sau, ai đem đủ sính lễ đến trước thì gả cho người ấy.  Hai người vâng lời, lạy tạ ra về.  Hôm sau, Sơn Tinh đem các đồ châu báu vàng bạc, chim núi thú rừng đến dâng.  Vua y hẹn gả con cho.  Sơn Tinh đón vợ về ở ngọn núi cao trên núi Tản Viên.  Thủy Tinh cũng đem sính lễ đến sau, giận tiếc là không kịp, bèn kéo mây làm mưa, dâng nước tràn ngập, đem các loài thủy tộc đuổi theo.  Vua cùng Sơn Tinh lấy lưới sắt chăng ngang thượng lưu sông Từ Liêm4 để chặn lại.  Thủy Tinh theo sông khác, từ Ly Nhân vào chân núi Quảng Oai5 rồi theo dọc bờ lên cửa sông Hát, ra sông lớn6 mà rẽ vào sông Đà để đánh Tản Viên, nơi nơi đào sâu thành vực thành chằm, chứa nước để mưu đánh úp.  Sơn Tinh có phép thần biến hóa, gọi [5a]7 người man đan tre làm rào chắn nước, lấy nỏ bắn xuống, các loài có vẩy và có vỏ trúng tên đều chạy trốn cả.  Rốt cuộc Thủy Tinh không thể xâm phạm được núi Tản Viên.  (Tục truyền Sơn Tinh và Thủy Tinh từ đấy về sau đời đời thù oán, mỗi năm mùa nước to thường vẫn đánh nhau). \n",
      "Núi Tản Viên là dãy núi cao của nước Việt ta, sự linh thiêng rất ứng nghiệm.  Mị Nương đã lấy Sơn Tinh, Thục Vương tức giận, dặn lại con cháu phải diệt Văn Lang mà chiếm lấy nước.  Đến đời cháu là Thục Phán có dũng lược, bèn đánh lấy nước. \n",
      "Sử thần Ngô Sĩ Liên nói:  Thời Hùng Vương đặt chư hầu để làm phên giậu, chia nước làm 15 bộ.  Ở 15 bộ ấy đều có trưởng và tá.  Vua theo thứ bậc cắt đặt các con thứ để cai trị.  Nói 50 con theo mẹ về núi, làm sao biết không phải là như thế?  Vì mẹ làm quân trưởng, các con đều làm chúa một phương.  Cứ xem như tù trưởng người man ngày nay xưng là nam phụ đạo, [5b] nữ phụ đạo (nay bản triều đổi chữ phụ đạo ___ \n",
      "_ \n",
      "#####\n",
      "Hùng Vương [3a] Con Lạc Long Quân (không rõ tên húy)5, đóng đô ở Phong Châu (nay là huyện Bạch Hạc)6. \n",
      "Hùng Vương lên ngôi, đặt quốc hiệu là Văn Lang (nước này đông giáp biển Nam Hải, tây đến Ba Thục, bắc đến hồ Động Đình, nam giáp nước Hồ Tôn, tức nước Chiêm Thành, nay là Quảng Nam), chia nước làm 15 bộ là: Giao Chỉ, Chu Diên, Vũ Ninh, Phúc Lộc, Việt Thường, Ninh Hải, Dương Tuyền, Lục Hải, Vũ Định, Hoài Hoan, Cửu Chân, Bình Văn, Tân Hưng, Cửu Đức; đều là đất thần thuộc của Hùng Vương; còn bộ gọi là Văn Lang là nơi vua đóng đô1.  Đặt tướng văn gọi là Lạc Hầu, tướng võ gọi là Lạc Tướng (chữ Lạc Tướng, sau chép sai là Hùng Tướng2).  Con trai vua gọi là Quan Lang, con gái vua gọi là Mị Nương.  Quan coi việc gọi là Bồ Chính, đời đời cha truyền con nối, gọi là phụ đạo.  Vua các đời đều gọi là Hùng Vương.  Bấy giờ dân ở rừng núi thấy ở sông ngòi khe suối đều có tôm cá, nên rủ nhau đi bắt cá để ăn, thường bị thuồng luồng làm hại, [3b] đến thưa với vua.  Vua nói: \"Người man ở núi khác với các loài thủy tộc; các thủy tộc ấy ưa cùng loài mà ghét khác loài, cho nên mới bị chúng làm hại.  Rồi vua bảo mọi người lấy mực vẽ hình thủy quái ở mình.  Từ đấy thuồng luồng trông thấy không cắn hại nữa.  Tục vẽ mình của người Bách Việt có lẽ bắt đầu từ đấy. \n",
      "Đời Hùng Vương thứ 6, ở hương Phù Đổng, bộ Vũ Ninh có người nhà giàu, sinh một con trai, đến năm hơn ba tuổi ăn uống béo lớn nhưng không biết nói cười.  Gặp lúc trong nước có tin nguy cấp, vua sai người đi tìm người có thể đánh lui được giặc.  Ngày hôm ấy, đứa trẻ bỗng nói được, bảo mẹ ra mời thiên sứ vào, nói: \"Xin cho một thanh gươm, một con ngựa, vua không phải lo gì\".  Vua ban cho gươm và ngựa, đứa trẻ liền phi ngựa vung gươm tiến lên trước, quan quân theo sau, đánh tan quân giặc ở chân núi Vũ Ninh3.  Quân giặc tự quay giáo đánh lẫn nhau, chết rất nhiều, bọn sống sót đều rạp lạy, tôn gọi đứa trẻ ấy là thiên tướng, liền đến xin hàng cả.  Đứa trẻ phi ngựa [4a] lên trời mà đi.  Vua sai sửa sang chỗ vường nhà của đứa trẻ để lập đền thờ, tuế thời cúng tế.  Về sau, Lý Thái Tổ phong là Xung Thiên Thần Vương.  (Đền thờ ở cạnh chùa Kiến Sơ, hương Phù Đổng). \n",
      "Thời Thành Vương nhà Chu [1063-1026 TCN], nước Việt ta lần đầu sang thăm nhà Chu (không rõ vào đời Hùng Vương thứ mấy), xưng là Việt Thường thị, hiến chim trĩ trắng.  Chu Công nói: \"Chính lệnh không ban đến thì người quân tử không coi người ta là bề tôi của mình\", rồi sai làm xe chỉ nam đưa sứ giả về nước. \n",
      "Cuối thời Hùng Vương, vua có con gái gọi là Mị Nương, nhan sắc xinh đẹp.  Thục Vương nghe tiếng, đến cầu hôn.  Vua muốn gả, nhưng Hùng hầu can rằng: \"Họ muốn chiếm nước ta, chỉ lấy việc hôn nhân làm cớ mà thôi\".  Thục Vương vì chuyện ấy để bụng oán giận.  Vua muốn tìm người xứng đáng để gả, bảo các bề tôi rằng: \"Đứa con gái này là giống tiên, người nào có đủ tài đức mới cho làm rể\".  Bấy giờ có hai người từ ngoài đến, lạy dưới sân để cầu hôn.  Vua lấy làm lạ, hỏi thì họ thưa rằng một người là [4b] Sơn Tinh, một người là Thủy Tinh, đều ở trong cõi cả, nghe nhà vua có thánh nữ, đánh bạo đến xin lĩnh mệnh.  Vua nói: \"Ta có một người con gái, lẽ nào lại được cả hai rể hiền?\".  Bèn hẹn đến ngày hôm sau, ai đem đủ sính lễ đến trước thì gả cho người ấy.  Hai người vâng lời, lạy tạ ra về.  Hôm sau, Sơn Tinh đem các đồ châu báu vàng bạc, chim núi thú rừng đến dâng.  Vua y hẹn gả con cho.  Sơn Tinh đón vợ về ở ngọn núi cao trên núi Tản Viên.  Thủy Tinh cũng đem sính lễ đến sau, giận tiếc là không kịp, bèn kéo mây làm mưa, dâng nước tràn ngập, đem các loài thủy tộc đuổi theo.  Vua cùng Sơn Tinh lấy lưới sắt chăng ngang thượng lưu sông Từ Liêm4 để chặn lại.  Thủy Tinh theo sông khác, từ Ly Nhân vào chân núi Quảng Oai5 rồi theo dọc bờ lên cửa sông Hát, ra sông lớn6 mà rẽ vào sông Đà để đánh Tản Viên, nơi nơi đào sâu thành vực thành chằm, chứa nước để mưu đánh úp.  Sơn Tinh có phép thần biến hóa, gọi [5a]7 người man đan tre làm rào chắn nước, lấy nỏ bắn xuống, các loài có vẩy và có vỏ trúng tên đều chạy trốn cả.  Rốt cuộc Thủy Tinh không thể xâm phạm được núi Tản Viên.  (Tục truyền Sơn Tinh và Thủy Tinh từ đấy về sau đời đời thù oán, mỗi năm mùa nước to thường vẫn đánh nhau). \n",
      "Núi Tản Viên là dãy núi cao của nước Việt ta, sự linh thiêng rất ứng nghiệm.  Mị Nương đã lấy Sơn Tinh, Thục Vương tức giận, dặn lại con cháu phải diệt Văn Lang mà chiếm lấy nước.  Đến đời cháu là Thục Phán có dũng lược, bèn đánh lấy nước. \n",
      "Sử thần Ngô Sĩ Liên nói:  Thời Hùng Vương đặt chư hầu để làm phên giậu, chia nước làm 15 bộ.  Ở 15 bộ ấy đều có trưởng và tá.  Vua theo thứ bậc cắt đặt các con thứ để cai trị.  Nói 50 con theo mẹ về núi, làm sao biết không phải là như thế?  Vì mẹ làm quân trưởng, các con đều làm chúa một phương.  Cứ xem như tù trưởng người man ngày nay xưng là nam phụ đạo, [5b] nữ phụ đạo (nay bản triều đổi chữ phụ đạo ___ ___ thành chữ phụ đạo ___ ___ thì có lẽ đúng như thế).  Còn như việc Sơn Tinh, Thủy \n",
      "y \n",
      "#####\n",
      "Hùng Vương [3a] Con Lạc Long Quân (không rõ tên húy)5, đóng đô ở Phong Châu (nay là huyện Bạch Hạc)6. \n",
      "Hùng Vương lên ngôi, đặt quốc hiệu là Văn Lang (nước này đông giáp biển Nam Hải, tây đến Ba Thục, bắc đến hồ Động Đình, nam giáp nước Hồ Tôn, tức nước Chiêm Thành, nay là Quảng Nam), chia nước làm 15 bộ là: Giao Chỉ, Chu Diên, Vũ Ninh, Phúc Lộc, Việt Thường, Ninh Hải, Dương Tuyền, Lục Hải, Vũ Định, Hoài Hoan, Cửu Chân, Bình Văn, Tân Hưng, Cửu Đức; đều là đất thần thuộc của Hùng Vương; còn bộ gọi là Văn Lang là nơi vua đóng đô1.  Đặt tướng văn gọi là Lạc Hầu, tướng võ gọi là Lạc Tướng (chữ Lạc Tướng, sau chép sai là Hùng Tướng2).  Con trai vua gọi là Quan Lang, con gái vua gọi là Mị Nương.  Quan coi việc gọi là Bồ Chính, đời đời cha truyền con nối, gọi là phụ đạo.  Vua các đời đều gọi là Hùng Vương.  Bấy giờ dân ở rừng núi thấy ở sông ngòi khe suối đều có tôm cá, nên rủ nhau đi bắt cá để ăn, thường bị thuồng luồng làm hại, [3b] đến thưa với vua.  Vua nói: \"Người man ở núi khác với các loài thủy tộc; các thủy tộc ấy ưa cùng loài mà ghét khác loài, cho nên mới bị chúng làm hại.  Rồi vua bảo mọi người lấy mực vẽ hình thủy quái ở mình.  Từ đấy thuồng luồng trông thấy không cắn hại nữa.  Tục vẽ mình của người Bách Việt có lẽ bắt đầu từ đấy. \n",
      "Đời Hùng Vương thứ 6, ở hương Phù Đổng, bộ Vũ Ninh có người nhà giàu, sinh một con trai, đến năm hơn ba tuổi ăn uống béo lớn nhưng không biết nói cười.  Gặp lúc trong nước có tin nguy cấp, vua sai người đi tìm người có thể đánh lui được giặc.  Ngày hôm ấy, đứa trẻ bỗng nói được, bảo mẹ ra mời thiên sứ vào, nói: \"Xin cho một thanh gươm, một con ngựa, vua không phải lo gì\".  Vua ban cho gươm và ngựa, đứa trẻ liền phi ngựa vung gươm tiến lên trước, quan quân theo sau, đánh tan quân giặc ở chân núi Vũ Ninh3.  Quân giặc tự quay giáo đánh lẫn nhau, chết rất nhiều, bọn sống sót đều rạp lạy, tôn gọi đứa trẻ ấy là thiên tướng, liền đến xin hàng cả.  Đứa trẻ phi ngựa [4a] lên trời mà đi.  Vua sai sửa sang chỗ vường nhà của đứa trẻ để lập đền thờ, tuế thời cúng tế.  Về sau, Lý Thái Tổ phong là Xung Thiên Thần Vương.  (Đền thờ ở cạnh chùa Kiến Sơ, hương Phù Đổng). \n",
      "Thời Thành Vương nhà Chu [1063-1026 TCN], nước Việt ta lần đầu sang thăm nhà Chu (không rõ vào đời Hùng Vương thứ mấy), xưng là Việt Thường thị, hiến chim trĩ trắng.  Chu Công nói: \"Chính lệnh không ban đến thì người quân tử không coi người ta là bề tôi của mình\", rồi sai làm xe chỉ nam đưa sứ giả về nước. \n",
      "Cuối thời Hùng Vương, vua có con gái gọi là Mị Nương, nhan sắc xinh đẹp.  Thục Vương nghe tiếng, đến cầu hôn.  Vua muốn gả, nhưng Hùng hầu can rằng: \"Họ muốn chiếm nước ta, chỉ lấy việc hôn nhân làm cớ mà thôi\".  Thục Vương vì chuyện ấy để bụng oán giận.  Vua muốn tìm người xứng đáng để gả, bảo các bề tôi rằng: \"Đứa con gái này là giống tiên, người nào có đủ tài đức mới cho làm rể\".  Bấy giờ có hai người từ ngoài đến, lạy dưới sân để cầu hôn.  Vua lấy làm lạ, hỏi thì họ thưa rằng một người là [4b] Sơn Tinh, một người là Thủy Tinh, đều ở trong cõi cả, nghe nhà vua có thánh nữ, đánh bạo đến xin lĩnh mệnh.  Vua nói: \"Ta có một người con gái, lẽ nào lại được cả hai rể hiền?\".  Bèn hẹn đến ngày hôm sau, ai đem đủ sính lễ đến trước thì gả cho người ấy.  Hai người vâng lời, lạy tạ ra về.  Hôm sau, Sơn Tinh đem các đồ châu báu vàng bạc, chim núi thú rừng đến dâng.  Vua y hẹn gả con cho.  Sơn Tinh đón vợ về ở ngọn núi cao trên núi Tản Viên.  Thủy Tinh cũng đem sính lễ đến sau, giận tiếc là không kịp, bèn kéo mây làm mưa, dâng nước tràn ngập, đem các loài thủy tộc đuổi theo.  Vua cùng Sơn Tinh lấy lưới sắt chăng ngang thượng lưu sông Từ Liêm4 để chặn lại.  Thủy Tinh theo sông khác, từ Ly Nhân vào chân núi Quảng Oai5 rồi theo dọc bờ lên cửa sông Hát, ra sông lớn6 mà rẽ vào sông Đà để đánh Tản Viên, nơi nơi đào sâu thành vực thành chằm, chứa nước để mưu đánh úp.  Sơn Tinh có phép thần biến hóa, gọi [5a]7 người man đan tre làm rào chắn nước, lấy nỏ bắn xuống, các loài có vẩy và có vỏ trúng tên đều chạy trốn cả.  Rốt cuộc Thủy Tinh không thể xâm phạm được núi Tản Viên.  (Tục truyền Sơn Tinh và Thủy Tinh từ đấy về sau đời đời thù oán, mỗi năm mùa nước to thường vẫn đánh nhau). \n",
      "Núi Tản Viên là dãy núi cao của nước Việt ta, sự linh thiêng rất ứng nghiệm.  Mị Nương đã lấy Sơn Tinh, Thục Vương tức giận, dặn lại con cháu phải diệt Văn Lang mà chiếm lấy nước.  Đến đời cháu là Thục Phán có dũng lược, bèn đánh lấy nước. \n",
      "Sử thần Ngô Sĩ Liên nói:  Thời Hùng Vương đặt chư hầu để làm phên giậu, chia nước làm 15 bộ.  Ở 15 bộ ấy đều có trưởng và tá.  Vua theo thứ bậc cắt đặt các con thứ để cai trị.  Nói 50 con theo mẹ về núi, làm sao biết không phải là như thế?  Vì mẹ làm quân trưởng, các con đều làm chúa một phương.  Cứ xem như tù trưởng người man ngày nay xưng là nam phụ đạo, [5b] nữ phụ đạo (nay bản triều đổi chữ phụ đạo ___ ___ thành chữ phụ đạo ___ ___ thì có lẽ đúng như thế).  Còn như việc Sơn Tinh, Thủy Tinh thì rất là quái đản, tin sách chẳng bằng không có sách, hãy tạm thuật lại chuyện cũ \n",
      "ũ \n",
      "#####\n",
      "Hùng Vương [3a] Con Lạc Long Quân (không rõ tên húy)5, đóng đô ở Phong Châu (nay là huyện Bạch Hạc)6. \n",
      "Hùng Vương lên ngôi, đặt quốc hiệu là Văn Lang (nước này đông giáp biển Nam Hải, tây đến Ba Thục, bắc đến hồ Động Đình, nam giáp nước Hồ Tôn, tức nước Chiêm Thành, nay là Quảng Nam), chia nước làm 15 bộ là: Giao Chỉ, Chu Diên, Vũ Ninh, Phúc Lộc, Việt Thường, Ninh Hải, Dương Tuyền, Lục Hải, Vũ Định, Hoài Hoan, Cửu Chân, Bình Văn, Tân Hưng, Cửu Đức; đều là đất thần thuộc của Hùng Vương; còn bộ gọi là Văn Lang là nơi vua đóng đô1.  Đặt tướng văn gọi là Lạc Hầu, tướng võ gọi là Lạc Tướng (chữ Lạc Tướng, sau chép sai là Hùng Tướng2).  Con trai vua gọi là Quan Lang, con gái vua gọi là Mị Nương.  Quan coi việc gọi là Bồ Chính, đời đời cha truyền con nối, gọi là phụ đạo.  Vua các đời đều gọi là Hùng Vương.  Bấy giờ dân ở rừng núi thấy ở sông ngòi khe suối đều có tôm cá, nên rủ nhau đi bắt cá để ăn, thường bị thuồng luồng làm hại, [3b] đến thưa với vua.  Vua nói: \"Người man ở núi khác với các loài thủy tộc; các thủy tộc ấy ưa cùng loài mà ghét khác loài, cho nên mới bị chúng làm hại.  Rồi vua bảo mọi người lấy mực vẽ hình thủy quái ở mình.  Từ đấy thuồng luồng trông thấy không cắn hại nữa.  Tục vẽ mình của người Bách Việt có lẽ bắt đầu từ đấy. \n",
      "Đời Hùng Vương thứ 6, ở hương Phù Đổng, bộ Vũ Ninh có người nhà giàu, sinh một con trai, đến năm hơn ba tuổi ăn uống béo lớn nhưng không biết nói cười.  Gặp lúc trong nước có tin nguy cấp, vua sai người đi tìm người có thể đánh lui được giặc.  Ngày hôm ấy, đứa trẻ bỗng nói được, bảo mẹ ra mời thiên sứ vào, nói: \"Xin cho một thanh gươm, một con ngựa, vua không phải lo gì\".  Vua ban cho gươm và ngựa, đứa trẻ liền phi ngựa vung gươm tiến lên trước, quan quân theo sau, đánh tan quân giặc ở chân núi Vũ Ninh3.  Quân giặc tự quay giáo đánh lẫn nhau, chết rất nhiều, bọn sống sót đều rạp lạy, tôn gọi đứa trẻ ấy là thiên tướng, liền đến xin hàng cả.  Đứa trẻ phi ngựa [4a] lên trời mà đi.  Vua sai sửa sang chỗ vường nhà của đứa trẻ để lập đền thờ, tuế thời cúng tế.  Về sau, Lý Thái Tổ phong là Xung Thiên Thần Vương.  (Đền thờ ở cạnh chùa Kiến Sơ, hương Phù Đổng). \n",
      "Thời Thành Vương nhà Chu [1063-1026 TCN], nước Việt ta lần đầu sang thăm nhà Chu (không rõ vào đời Hùng Vương thứ mấy), xưng là Việt Thường thị, hiến chim trĩ trắng.  Chu Công nói: \"Chính lệnh không ban đến thì người quân tử không coi người ta là bề tôi của mình\", rồi sai làm xe chỉ nam đưa sứ giả về nước. \n",
      "Cuối thời Hùng Vương, vua có con gái gọi là Mị Nương, nhan sắc xinh đẹp.  Thục Vương nghe tiếng, đến cầu hôn.  Vua muốn gả, nhưng Hùng hầu can rằng: \"Họ muốn chiếm nước ta, chỉ lấy việc hôn nhân làm cớ mà thôi\".  Thục Vương vì chuyện ấy để bụng oán giận.  Vua muốn tìm người xứng đáng để gả, bảo các bề tôi rằng: \"Đứa con gái này là giống tiên, người nào có đủ tài đức mới cho làm rể\".  Bấy giờ có hai người từ ngoài đến, lạy dưới sân để cầu hôn.  Vua lấy làm lạ, hỏi thì họ thưa rằng một người là [4b] Sơn Tinh, một người là Thủy Tinh, đều ở trong cõi cả, nghe nhà vua có thánh nữ, đánh bạo đến xin lĩnh mệnh.  Vua nói: \"Ta có một người con gái, lẽ nào lại được cả hai rể hiền?\".  Bèn hẹn đến ngày hôm sau, ai đem đủ sính lễ đến trước thì gả cho người ấy.  Hai người vâng lời, lạy tạ ra về.  Hôm sau, Sơn Tinh đem các đồ châu báu vàng bạc, chim núi thú rừng đến dâng.  Vua y hẹn gả con cho.  Sơn Tinh đón vợ về ở ngọn núi cao trên núi Tản Viên.  Thủy Tinh cũng đem sính lễ đến sau, giận tiếc là không kịp, bèn kéo mây làm mưa, dâng nước tràn ngập, đem các loài thủy tộc đuổi theo.  Vua cùng Sơn Tinh lấy lưới sắt chăng ngang thượng lưu sông Từ Liêm4 để chặn lại.  Thủy Tinh theo sông khác, từ Ly Nhân vào chân núi Quảng Oai5 rồi theo dọc bờ lên cửa sông Hát, ra sông lớn6 mà rẽ vào sông Đà để đánh Tản Viên, nơi nơi đào sâu thành vực thành chằm, chứa nước để mưu đánh úp.  Sơn Tinh có phép thần biến hóa, gọi [5a]7 người man đan tre làm rào chắn nước, lấy nỏ bắn xuống, các loài có vẩy và có vỏ trúng tên đều chạy trốn cả.  Rốt cuộc Thủy Tinh không thể xâm phạm được núi Tản Viên.  (Tục truyền Sơn Tinh và Thủy Tinh từ đấy về sau đời đời thù oán, mỗi năm mùa nước to thường vẫn đánh nhau). \n",
      "Núi Tản Viên là dãy núi cao của nước Việt ta, sự linh thiêng rất ứng nghiệm.  Mị Nương đã lấy Sơn Tinh, Thục Vương tức giận, dặn lại con cháu phải diệt Văn Lang mà chiếm lấy nước.  Đến đời cháu là Thục Phán có dũng lược, bèn đánh lấy nước. \n",
      "Sử thần Ngô Sĩ Liên nói:  Thời Hùng Vương đặt chư hầu để làm phên giậu, chia nước làm 15 bộ.  Ở 15 bộ ấy đều có trưởng và tá.  Vua theo thứ bậc cắt đặt các con thứ để cai trị.  Nói 50 con theo mẹ về núi, làm sao biết không phải là như thế?  Vì mẹ làm quân trưởng, các con đều làm chúa một phương.  Cứ xem như tù trưởng người man ngày nay xưng là nam phụ đạo, [5b] nữ phụ đạo (nay bản triều đổi chữ phụ đạo ___ ___ thành chữ phụ đạo ___ ___ thì có lẽ đúng như thế).  Còn như việc Sơn Tinh, Thủy Tinh thì rất là quái đản, tin sách chẳng bằng không có sách, hãy tạm thuật lại chuyện cũ để truyền lại sự nghi ngờ thôi). \n",
      "Trở lên là [kỷ] Hồng Bàng thị, từ Kinh Dương Vương được phong năm Nhâm Tuất, cùng thời với \n",
      "i \n",
      "#####\n",
      "Hùng Vương [3a] Con Lạc Long Quân (không rõ tên húy)5, đóng đô ở Phong Châu (nay là huyện Bạch Hạc)6. \n",
      "Hùng Vương lên ngôi, đặt quốc hiệu là Văn Lang (nước này đông giáp biển Nam Hải, tây đến Ba Thục, bắc đến hồ Động Đình, nam giáp nước Hồ Tôn, tức nước Chiêm Thành, nay là Quảng Nam), chia nước làm 15 bộ là: Giao Chỉ, Chu Diên, Vũ Ninh, Phúc Lộc, Việt Thường, Ninh Hải, Dương Tuyền, Lục Hải, Vũ Định, Hoài Hoan, Cửu Chân, Bình Văn, Tân Hưng, Cửu Đức; đều là đất thần thuộc của Hùng Vương; còn bộ gọi là Văn Lang là nơi vua đóng đô1.  Đặt tướng văn gọi là Lạc Hầu, tướng võ gọi là Lạc Tướng (chữ Lạc Tướng, sau chép sai là Hùng Tướng2).  Con trai vua gọi là Quan Lang, con gái vua gọi là Mị Nương.  Quan coi việc gọi là Bồ Chính, đời đời cha truyền con nối, gọi là phụ đạo.  Vua các đời đều gọi là Hùng Vương.  Bấy giờ dân ở rừng núi thấy ở sông ngòi khe suối đều có tôm cá, nên rủ nhau đi bắt cá để ăn, thường bị thuồng luồng làm hại, [3b] đến thưa với vua.  Vua nói: \"Người man ở núi khác với các loài thủy tộc; các thủy tộc ấy ưa cùng loài mà ghét khác loài, cho nên mới bị chúng làm hại.  Rồi vua bảo mọi người lấy mực vẽ hình thủy quái ở mình.  Từ đấy thuồng luồng trông thấy không cắn hại nữa.  Tục vẽ mình của người Bách Việt có lẽ bắt đầu từ đấy. \n",
      "Đời Hùng Vương thứ 6, ở hương Phù Đổng, bộ Vũ Ninh có người nhà giàu, sinh một con trai, đến năm hơn ba tuổi ăn uống béo lớn nhưng không biết nói cười.  Gặp lúc trong nước có tin nguy cấp, vua sai người đi tìm người có thể đánh lui được giặc.  Ngày hôm ấy, đứa trẻ bỗng nói được, bảo mẹ ra mời thiên sứ vào, nói: \"Xin cho một thanh gươm, một con ngựa, vua không phải lo gì\".  Vua ban cho gươm và ngựa, đứa trẻ liền phi ngựa vung gươm tiến lên trước, quan quân theo sau, đánh tan quân giặc ở chân núi Vũ Ninh3.  Quân giặc tự quay giáo đánh lẫn nhau, chết rất nhiều, bọn sống sót đều rạp lạy, tôn gọi đứa trẻ ấy là thiên tướng, liền đến xin hàng cả.  Đứa trẻ phi ngựa [4a] lên trời mà đi.  Vua sai sửa sang chỗ vường nhà của đứa trẻ để lập đền thờ, tuế thời cúng tế.  Về sau, Lý Thái Tổ phong là Xung Thiên Thần Vương.  (Đền thờ ở cạnh chùa Kiến Sơ, hương Phù Đổng). \n",
      "Thời Thành Vương nhà Chu [1063-1026 TCN], nước Việt ta lần đầu sang thăm nhà Chu (không rõ vào đời Hùng Vương thứ mấy), xưng là Việt Thường thị, hiến chim trĩ trắng.  Chu Công nói: \"Chính lệnh không ban đến thì người quân tử không coi người ta là bề tôi của mình\", rồi sai làm xe chỉ nam đưa sứ giả về nước. \n",
      "Cuối thời Hùng Vương, vua có con gái gọi là Mị Nương, nhan sắc xinh đẹp.  Thục Vương nghe tiếng, đến cầu hôn.  Vua muốn gả, nhưng Hùng hầu can rằng: \"Họ muốn chiếm nước ta, chỉ lấy việc hôn nhân làm cớ mà thôi\".  Thục Vương vì chuyện ấy để bụng oán giận.  Vua muốn tìm người xứng đáng để gả, bảo các bề tôi rằng: \"Đứa con gái này là giống tiên, người nào có đủ tài đức mới cho làm rể\".  Bấy giờ có hai người từ ngoài đến, lạy dưới sân để cầu hôn.  Vua lấy làm lạ, hỏi thì họ thưa rằng một người là [4b] Sơn Tinh, một người là Thủy Tinh, đều ở trong cõi cả, nghe nhà vua có thánh nữ, đánh bạo đến xin lĩnh mệnh.  Vua nói: \"Ta có một người con gái, lẽ nào lại được cả hai rể hiền?\".  Bèn hẹn đến ngày hôm sau, ai đem đủ sính lễ đến trước thì gả cho người ấy.  Hai người vâng lời, lạy tạ ra về.  Hôm sau, Sơn Tinh đem các đồ châu báu vàng bạc, chim núi thú rừng đến dâng.  Vua y hẹn gả con cho.  Sơn Tinh đón vợ về ở ngọn núi cao trên núi Tản Viên.  Thủy Tinh cũng đem sính lễ đến sau, giận tiếc là không kịp, bèn kéo mây làm mưa, dâng nước tràn ngập, đem các loài thủy tộc đuổi theo.  Vua cùng Sơn Tinh lấy lưới sắt chăng ngang thượng lưu sông Từ Liêm4 để chặn lại.  Thủy Tinh theo sông khác, từ Ly Nhân vào chân núi Quảng Oai5 rồi theo dọc bờ lên cửa sông Hát, ra sông lớn6 mà rẽ vào sông Đà để đánh Tản Viên, nơi nơi đào sâu thành vực thành chằm, chứa nước để mưu đánh úp.  Sơn Tinh có phép thần biến hóa, gọi [5a]7 người man đan tre làm rào chắn nước, lấy nỏ bắn xuống, các loài có vẩy và có vỏ trúng tên đều chạy trốn cả.  Rốt cuộc Thủy Tinh không thể xâm phạm được núi Tản Viên.  (Tục truyền Sơn Tinh và Thủy Tinh từ đấy về sau đời đời thù oán, mỗi năm mùa nước to thường vẫn đánh nhau). \n",
      "Núi Tản Viên là dãy núi cao của nước Việt ta, sự linh thiêng rất ứng nghiệm.  Mị Nương đã lấy Sơn Tinh, Thục Vương tức giận, dặn lại con cháu phải diệt Văn Lang mà chiếm lấy nước.  Đến đời cháu là Thục Phán có dũng lược, bèn đánh lấy nước. \n",
      "Sử thần Ngô Sĩ Liên nói:  Thời Hùng Vương đặt chư hầu để làm phên giậu, chia nước làm 15 bộ.  Ở 15 bộ ấy đều có trưởng và tá.  Vua theo thứ bậc cắt đặt các con thứ để cai trị.  Nói 50 con theo mẹ về núi, làm sao biết không phải là như thế?  Vì mẹ làm quân trưởng, các con đều làm chúa một phương.  Cứ xem như tù trưởng người man ngày nay xưng là nam phụ đạo, [5b] nữ phụ đạo (nay bản triều đổi chữ phụ đạo ___ ___ thành chữ phụ đạo ___ ___ thì có lẽ đúng như thế).  Còn như việc Sơn Tinh, Thủy Tinh thì rất là quái đản, tin sách chẳng bằng không có sách, hãy tạm thuật lại chuyện cũ để truyền lại sự nghi ngờ thôi). \n",
      "Trở lên là [kỷ] Hồng Bàng thị, từ Kinh Dương Vương được phong năm Nhâm Tuất, cùng thời với Đế Nghi, truyền đến cuối thời vua Hùng Vương, ngang với đời Noãn Vương nhà Chu năm thứ 57 [258 \n",
      "8 \n",
      "#####\n"
     ]
    }
   ],
   "source": [
    "def clean_text(text):\n",
    "    lines = text.split('\\n')\n",
    "    content = lines[0]\n",
    "    for line in lines[1:]:\n",
    "        if content[-2:] =='. ':\n",
    "            content =content + '\\n' +line\n",
    "        else: \n",
    "            content += line\n",
    "    return content\n",
    "\n",
    "\n",
    "z = clean_text(events[3])"
   ]
  },
  {
   "cell_type": "markdown",
   "id": "b6a6894b",
   "metadata": {},
   "source": [
    "## 3. Text analysis"
   ]
  },
  {
   "cell_type": "code",
   "execution_count": 888,
   "id": "7cfb9077",
   "metadata": {},
   "outputs": [
    {
     "data": {
      "text/html": [
       "<div>\n",
       "<style scoped>\n",
       "    .dataframe tbody tr th:only-of-type {\n",
       "        vertical-align: middle;\n",
       "    }\n",
       "\n",
       "    .dataframe tbody tr th {\n",
       "        vertical-align: top;\n",
       "    }\n",
       "\n",
       "    .dataframe thead th {\n",
       "        text-align: right;\n",
       "    }\n",
       "</style>\n",
       "<table border=\"1\" class=\"dataframe\">\n",
       "  <thead>\n",
       "    <tr style=\"text-align: right;\">\n",
       "      <th></th>\n",
       "      <th>events</th>\n",
       "    </tr>\n",
       "  </thead>\n",
       "  <tbody>\n",
       "    <tr>\n",
       "      <th>0</th>\n",
       "      <td>\\n[1a] Triều Liệt Đại Phu, Quốc Tử Giám Tư Ngh...</td>\n",
       "    </tr>\n",
       "    <tr>\n",
       "      <th>1</th>\n",
       "      <td>Kỷ Hồng Bàng\\n Thị Kinh Dương Vương [1b] Tên h...</td>\n",
       "    </tr>\n",
       "    <tr>\n",
       "      <th>2</th>\n",
       "      <td>Lạc Long Quân [2a]\\n Tên húy là Sùng Lãm, con ...</td>\n",
       "    </tr>\n",
       "    <tr>\n",
       "      <th>3</th>\n",
       "      <td>Sử thần Ngô Sĩ Liên nói: Khi trời đất mới mở m...</td>\n",
       "    </tr>\n",
       "    <tr>\n",
       "      <th>4</th>\n",
       "      <td>Hùng Vương [3a] \\nCon Lạc Long Quân (không rõ ...</td>\n",
       "    </tr>\n",
       "    <tr>\n",
       "      <th>...</th>\n",
       "      <td>...</td>\n",
       "    </tr>\n",
       "    <tr>\n",
       "      <th>2209</th>\n",
       "      <td>Mùa xuân, xuống chiếu đi kinh lược Thuận Hoá, ...</td>\n",
       "    </tr>\n",
       "    <tr>\n",
       "      <th>2210</th>\n",
       "      <td>Mùa đông, tháng 10, ngày 13 là ngày Quý Dậu, [...</td>\n",
       "    </tr>\n",
       "    <tr>\n",
       "      <th>2211</th>\n",
       "      <td>[Ất Dậu, Thịnh Đức năm thứ 3 [1655], (Minh Lịc...</td>\n",
       "    </tr>\n",
       "    <tr>\n",
       "      <th>2212</th>\n",
       "      <td>Bính Thân, [Thịnh Đức] năm thứ 4 [1656], (Minh...</td>\n",
       "    </tr>\n",
       "    <tr>\n",
       "      <th>2213</th>\n",
       "      <td>Mùa xuân, tháng giêng, quân Thuận Hóa đánh úp ...</td>\n",
       "    </tr>\n",
       "  </tbody>\n",
       "</table>\n",
       "<p>2214 rows × 1 columns</p>\n",
       "</div>"
      ],
      "text/plain": [
       "                                                 events\n",
       "0     \\n[1a] Triều Liệt Đại Phu, Quốc Tử Giám Tư Ngh...\n",
       "1     Kỷ Hồng Bàng\\n Thị Kinh Dương Vương [1b] Tên h...\n",
       "2     Lạc Long Quân [2a]\\n Tên húy là Sùng Lãm, con ...\n",
       "3     Sử thần Ngô Sĩ Liên nói: Khi trời đất mới mở m...\n",
       "4     Hùng Vương [3a] \\nCon Lạc Long Quân (không rõ ...\n",
       "...                                                 ...\n",
       "2209  Mùa xuân, xuống chiếu đi kinh lược Thuận Hoá, ...\n",
       "2210  Mùa đông, tháng 10, ngày 13 là ngày Quý Dậu, [...\n",
       "2211  [Ất Dậu, Thịnh Đức năm thứ 3 [1655], (Minh Lịc...\n",
       "2212  Bính Thân, [Thịnh Đức] năm thứ 4 [1656], (Minh...\n",
       "2213  Mùa xuân, tháng giêng, quân Thuận Hóa đánh úp ...\n",
       "\n",
       "[2214 rows x 1 columns]"
      ]
     },
     "execution_count": 888,
     "metadata": {},
     "output_type": "execute_result"
    }
   ],
   "source": [
    "data_df = pd.read_csv('process2.csv', delimiter=\"\\t\")\n",
    "data_df"
   ]
  },
  {
   "cell_type": "code",
   "execution_count": 870,
   "id": "3ca5173c",
   "metadata": {},
   "outputs": [],
   "source": [
    "sample = data_df['events'].values[:100]\n",
    "event = data_df['events'].values"
   ]
  },
  {
   "cell_type": "markdown",
   "id": "0f2717cf",
   "metadata": {},
   "source": [
    "### 3.1 Phân tích từ khóa"
   ]
  },
  {
   "cell_type": "markdown",
   "id": "486901a9",
   "metadata": {},
   "source": [
    "Phân tích từ khóa, xác định trong 1 sự kiện thường xuất hiện các từ khóa nào, để tạo tags cho sự kiện"
   ]
  },
  {
   "cell_type": "code",
   "execution_count": 922,
   "id": "a2d29090",
   "metadata": {
    "scrolled": false
   },
   "outputs": [
    {
     "name": "stdout",
     "output_type": "stream",
     "text": [
      "           Từ khóa  Trọng số TF-IDF\n",
      "882    xuống chiếu        52.417602\n",
      "561      quận công        51.043781\n",
      "879     xuân giêng        48.568760\n",
      "702   thượng hoàng        42.805805\n",
      "61     chiêm thành        41.361528\n",
      "29         bấy giờ        40.276545\n",
      "894       đem quân        37.060444\n",
      "454       nhà minh        34.477430\n",
      "903        đi đánh        34.280970\n",
      "162     hoàng thái        30.951951\n",
      "689        thái tử        30.849371\n",
      "680       thái hậu        30.547939\n",
      "168       hoàng đế        30.141339\n",
      "480      niên hiệu        29.973415\n",
      "708       thần nói        28.655274\n",
      "630        sử thần        28.650671\n",
      "631    sử thần nói        28.029889\n",
      "459       nhà tống        26.134155\n",
      "476      nhật thực        25.979482\n",
      "442         ngự sử        25.874579\n",
      "321       lên ngôi        24.987718\n",
      "844        vua sai        24.530679\n",
      "782         trở về        24.236051\n",
      "95         con gái        24.129198\n",
      "703     thượng thư        24.113508\n",
      "665       thiên hạ        24.003052\n",
      "396        nghệ an        23.538407\n",
      "840        vua ngự        23.212074\n",
      "103      công chúa        22.824355\n",
      "140      giao châu        22.402075\n",
      "161      hoàng hậu        22.311665\n",
      "557         quý ly        21.935705\n",
      "260        kinh sư        21.392545\n",
      "399     nguyên chí        21.021444\n",
      "643        tcn hán        20.633158\n",
      "251     không phải        20.518075\n",
      "304       làm thái        20.498744\n",
      "428      người nào        20.114284\n",
      "881      xuất thân        19.984049\n",
      "255      không thể        19.833501\n",
      "803     tướng quân        19.690830\n",
      "873         về sau        19.473395\n",
      "568      quốc công        19.444149\n",
      "869        về kinh        19.399155\n",
      "112     công trịnh        19.361912\n",
      "984       đổi niên        19.292733\n",
      "718       thị lang        19.183174\n",
      "985  đổi niên hiệu        19.182225\n",
      "479    những người        19.013331\n",
      "815     tống thiệu        18.974944\n"
     ]
    }
   ],
   "source": [
    "from sklearn.feature_extraction.text import TfidfVectorizer\n",
    "import pandas as pd\n",
    "\n",
    "# Danh sách từ dừng tiếng Việt (có thể mở rộng)\n",
    "stopwords_vn = [\n",
    "    \"là\", \"của\", \"và\", \"với\", \"được\", \"cho\", \"có\", \"đến\", \"từ\", \"trong\", \"việc\",\"bọn\",\n",
    "     \"năm\", \"tháng\", \"ngày\", \"việc\", \"đã\", \"bị\", \"cũng\", \"khi\", \"mà\", \"thì\",\"đều\", \"các\", \"thứ\", \"liên\", \"ngô\", \"sĩ\",\n",
    "    \"hưu\", \"mùa\", \"biết\", \"như\", \"10\", \"11\"\n",
    "]\n",
    "\n",
    "# Dữ liệu văn bản\n",
    "data = event\n",
    "\n",
    "# Khởi tạo TfidfVectorizer với bigram và loại bỏ từ dừng\n",
    "vectorizer = TfidfVectorizer(\n",
    "    stop_words=stopwords_vn,  # Loại bỏ từ dừng\n",
    "    ngram_range=(2, 4),       # Trích xuất bigram (cụm từ 2 từ)\n",
    "    max_features=1000           # Lấy 10 cụm phổ biến nhất\n",
    ")\n",
    "\n",
    "X = vectorizer.fit_transform(data)\n",
    "\n",
    "# Lấy danh sách từ khóa (bigrams) và trọng số TF-IDF\n",
    "feature_names = vectorizer.get_feature_names_out()\n",
    "frequencies = X.toarray().sum(axis=0)\n",
    "\n",
    "# Tạo DataFrame để hiển thị kết quả\n",
    "df_freq = pd.DataFrame({'Từ khóa': feature_names, 'Trọng số TF-IDF': frequencies})\n",
    "print(df_freq.sort_values(by='Trọng số TF-IDF', ascending=False)[:50])\n"
   ]
  },
  {
   "cell_type": "markdown",
   "id": "5ca9c377",
   "metadata": {},
   "source": [
    "### 3.2 Phân tích chủ đề"
   ]
  },
  {
   "cell_type": "markdown",
   "id": "252e555e",
   "metadata": {},
   "source": [
    "Phân tích chủ đề, xác định các chủ đề thường gặp, để tạo bộ phân loại chủ đề cho sự kiện"
   ]
  },
  {
   "cell_type": "code",
   "execution_count": 940,
   "id": "8d539ece",
   "metadata": {},
   "outputs": [
    {
     "name": "stdout",
     "output_type": "stream",
     "text": [
      "Chủ đề 0:\n",
      "['quan quân', 'đuổi theo', 'rất nhiều', 'an phủ', 'đánh giặc', 'quân minh', 'quân giặc', 'quân đánh', 'cửa biển', 'đem quân']\n",
      "Chủ đề 1:\n",
      "['tâu lên', 'quan viên', 'phủ huyện', 'chỉ rằng', 'đô đốc', 'ra sắc chỉ', 'ra sắc', 'người nào', 'nha môn', 'sắc chỉ']\n",
      "Chủ đề 2:\n",
      "['sai quan', 'minh vĩnh', 'an vương', 'bình an vương', 'bình an', 'thuận thiên', 'không rõ', 'rõ tên', 'không rõ tên', 'xuống chiếu']\n",
      "Chủ đề 3:\n",
      "['chính sự', 'an phủ sứ', 'an phủ', 'vua tống', 'chuyển vận', 'người họ', 'nội mật', 'mật viện', 'thánh nhân', 'nhữ hài']\n",
      "Chủ đề 4:\n",
      "['sứ sang nhà', 'sang cống', 'sang nhà', 'nước chiêm', 'thu vua', 'sai sứ sang', 'sứ sang', 'chiêm thành', 'nhà tống', 'sai sứ']\n",
      "Chủ đề 5:\n",
      "['xuống chiếu', 'ban tước', 'vương hầu', 'một lần', 'làm sử', 'định lệ', 'đại phu', 'công chúa', 'việt vương', 'anh vũ']\n",
      "Chủ đề 6:\n",
      "['đinh mùi', 'chẳng phải', 'chiêm thành', 'phía tây', 'hành cung', 'đông 12', 'động đất', 'nước to', 'tcn hán', 'nhật thực']\n",
      "Chủ đề 7:\n",
      "['làm hoàng', 'tên húy', 'hoàng thái hậu', 'hoàng thái tử', 'lên ngôi', 'hoàng hậu', 'thái hậu', 'thái tử', 'hoàng đế', 'hoàng thái']\n",
      "Chủ đề 8:\n",
      "['thân đi', 'thân đi đánh', 'tống thuần', 'vua thân', 'viên ngoại', 'viên ngoại lang', 'kinh sư', 'ngoại lang', 'đi đánh', 'vua ngự']\n",
      "Chủ đề 9:\n",
      "['lâm viện', 'quận công trịnh', 'hàn lâm', 'ngự sử', 'thị lang', 'công trịnh', 'bộ thượng thư', 'bộ thượng', 'thượng thư', 'quận công']\n",
      "Chủ đề 10:\n",
      "['người nước', 'về sau', 'xuân giêng mồng', 'giêng mồng', 'đại xá', 'xuân giêng', 'đổi niên hiệu', 'đổi niên', 'sao chổi', 'niên hiệu']\n",
      "Chủ đề 11:\n",
      "['thái sư', 'quốc công', 'thi hội', 'đỗ tiến', 'họ mạc', 'người đỗ', 'tiến xuất thân', 'tiến xuất', 'xuất thân', 'quận công']\n",
      "Chủ đề 12:\n",
      "['đem quân', 'không thể', 'không phải', 'vua sai', 'chiêm thành', 'xuống chiếu', 'tướng quân', 'bấy giờ', 'quý ly', 'thượng hoàng']\n",
      "Chủ đề 13:\n",
      "['phó sứ', 'ra lệnh', 'nhà minh sai', 'lệnh chỉ', 'chánh sứ', 'hạ mồng', 'nhà minh', 'quan văn võ', 'văn võ', 'quan văn']\n",
      "Chủ đề 14:\n",
      "['việt vương', 'khánh dư', 'tcn hán', 'làm thái', 'lâm ấp', 'vua hán', 'cửu chân', 'thái thú', 'giao châu', 'nhà hán']\n",
      "Chủ đề 15:\n",
      "['trung quốc', 'đi tuần', 'sét đánh', 'nam chiếu', 'nối ngôi', 'mặt trời', 'phương đông', 'sử thần nói', 'thần nói', 'sử thần']\n",
      "Chủ đề 16:\n",
      "['lệ cũ', 'thái úy', 'hành khiển', 'đại vương', 'lấy sinh', 'khắc chung', 'hạn hán', 'nguyên chí nguyên', 'chí nguyên', 'nguyên chí']\n",
      "Chủ đề 17:\n",
      "['theo bậc khác', 'theo bậc khác nhau', 'bậc khác', 'bậc khác nhau', 'khác nhau', 'cấp sự trung', 'sự trung', 'cấp sự', 'đại định', 'tống thiệu']\n",
      "Chủ đề 18:\n",
      "['thái tổ', 'thăng long', 'thanh hóa', 'hựu xuân', 'tất cả', 'trở lên', 'hoằng định', 'minh vạn lịch', 'minh vạn', 'vạn lịch']\n",
      "Chủ đề 19:\n",
      "['thành đông', 'rằng những', 'ai lao', 'xa giá', 'nhâm tuất', 'xuống chiếu', 'học sinh', 'thái học', 'chiếu rằng', 'xuống chiếu rằng']\n"
     ]
    }
   ],
   "source": [
    "from sklearn.decomposition import LatentDirichletAllocation\n",
    "from sklearn.feature_extraction.text import TfidfVectorizer\n",
    "\n",
    "# Khởi tạo LDA\n",
    "lda = LatentDirichletAllocation(n_components=20)  # Giả sử có 3 chủ đề\n",
    "lda.fit(X)\n",
    "\n",
    "# Hiển thị các từ khóa quan trọng cho mỗi chủ đề\n",
    "for i, topic in enumerate(lda.components_):\n",
    "    print(f\"Chủ đề {i}:\")\n",
    "    print([vectorizer.get_feature_names_out()[index] for index in topic.argsort()[-10:]])"
   ]
  },
  {
   "cell_type": "code",
   "execution_count": null,
   "id": "79010db2",
   "metadata": {},
   "outputs": [],
   "source": []
  },
  {
   "cell_type": "markdown",
   "id": "cd6bf470",
   "metadata": {},
   "source": [
    "### 3.3 Phân tích độ dài"
   ]
  },
  {
   "cell_type": "markdown",
   "id": "4c843e4b",
   "metadata": {},
   "source": [
    "Phân tích độ dài của mỗi sự kiện, để xác định được độ dài cho việc chunking"
   ]
  },
  {
   "cell_type": "code",
   "execution_count": 932,
   "id": "fee9477f",
   "metadata": {},
   "outputs": [
    {
     "data": {
      "image/png": "[encoded data removed]",
      "text/plain": [
       "<Figure size 1000x500 with 1 Axes>"
      ]
     },
     "metadata": {},
     "output_type": "display_data"
    }
   ],
   "source": [
    "import matplotlib.pyplot as plt\n",
    "import seaborn as sns\n",
    "import numpy as np\n",
    "\n",
    "# Tính độ dài của mỗi đoạn text (số từ)\n",
    "lengths = [len(text.split()) for text in data]\n",
    "\n",
    "# Tính trung bình, min, max\n",
    "average_length = np.mean(lengths)\n",
    "min_length = np.min(lengths)\n",
    "max_length = np.max(lengths)\n",
    "\n",
    "# ✅ Vẽ histogram phân bố độ dài đoạn văn bản\n",
    "plt.figure(figsize=(10, 5))\n",
    "sns.histplot(lengths, bins=10, kde=True, color='skyblue')\n",
    "plt.axvline(average_length, color='red', linestyle='dashed', label=f'Trung bình: {average_length:.2f}')\n",
    "plt.axvline(min_length, color='green', linestyle='dashed', label=f'Thấp nhất: {min_length}')\n",
    "plt.axvline(max_length, color='purple', linestyle='dashed', label=f'Cao nhất: {max_length}')\n",
    "plt.xlabel(\"Số từ trong đoạn văn\")\n",
    "plt.ylabel(\"Tần suất\")\n",
    "plt.title(\"Phân bố độ dài đoạn văn bản\")\n",
    "plt.legend()\n",
    "plt.show()\n",
    "\n"
   ]
  },
  {
   "cell_type": "code",
   "execution_count": 939,
   "id": "7a910013",
   "metadata": {},
   "outputs": [
    {
     "name": "stdout",
     "output_type": "stream",
     "text": [
      "1614\n",
      "1856\n",
      "1949\n",
      "2019\n"
     ]
    }
   ],
   "source": [
    "np_len = np.array(lengths)\n",
    "print((np_len < 200).sum())\n",
    "print((np_len < 300).sum())\n",
    "print((np_len < 400).sum())\n",
    "print((np_len < 500).sum())\n"
   ]
  },
  {
   "cell_type": "markdown",
   "id": "0bea2c03",
   "metadata": {},
   "source": [
    "## 4. Create dataset and embeddings\n"
   ]
  },
  {
   "cell_type": "markdown",
   "id": "706c093d",
   "metadata": {},
   "source": [
    "### 4.1 Xác định thời gian sự kiện"
   ]
  },
  {
   "cell_type": "code",
   "execution_count": 891,
   "id": "98fb13e5",
   "metadata": {},
   "outputs": [],
   "source": [
    "import re\n",
    "\n",
    "def extract_years(text):\n",
    "    pattern = r'\\[(-?\\d{2,4})\\s*TCN?\\]|\\[(-?\\d{2,4})\\]|/(-?\\d{2,4})/'\n",
    "    matches = re.findall(pattern, text)\n",
    "    \n",
    "    years = []\n",
    "    for match in matches:\n",
    "        if match[0]:  # Năm có \"TCN\", lưu với dấu âm\n",
    "            years.append(f\"-{match[0]}\")\n",
    "        elif match[1]:  # Năm bình thường trong []\n",
    "            years.append(match[1])\n",
    "        elif match[2]:  # Năm trong //\n",
    "            years.append(match[2])\n",
    "    if years: return years[0]\n",
    "    else: return pd.NA\n",
    "\n",
    "data_df['year'] = data_df['events'].apply(extract_years)"
   ]
  },
  {
   "cell_type": "code",
   "execution_count": 1072,
   "id": "9c8fd4c3",
   "metadata": {},
   "outputs": [
    {
     "data": {
      "text/plain": [
       "'-2012'"
      ]
     },
     "execution_count": 1072,
     "metadata": {},
     "output_type": "execute_result"
    }
   ],
   "source": [
    "extract_years('[2012 TCN]')"
   ]
  },
  {
   "cell_type": "code",
   "execution_count": 1170,
   "id": "1eaef81a",
   "metadata": {},
   "outputs": [
    {
     "data": {
      "text/html": [
       "<div>\n",
       "<style scoped>\n",
       "    .dataframe tbody tr th:only-of-type {\n",
       "        vertical-align: middle;\n",
       "    }\n",
       "\n",
       "    .dataframe tbody tr th {\n",
       "        vertical-align: top;\n",
       "    }\n",
       "\n",
       "    .dataframe thead th {\n",
       "        text-align: right;\n",
       "    }\n",
       "</style>\n",
       "<table border=\"1\" class=\"dataframe\">\n",
       "  <thead>\n",
       "    <tr style=\"text-align: right;\">\n",
       "      <th></th>\n",
       "      <th>events</th>\n",
       "      <th>year</th>\n",
       "    </tr>\n",
       "  </thead>\n",
       "  <tbody>\n",
       "    <tr>\n",
       "      <th>0</th>\n",
       "      <td>\\n[1a] Triều Liệt Đại Phu, Quốc Tử Giám Tư Ngh...</td>\n",
       "      <td>NaN</td>\n",
       "    </tr>\n",
       "    <tr>\n",
       "      <th>1</th>\n",
       "      <td>Kỷ Hồng Bàng\\n Thị Kinh Dương Vương [1b] Tên h...</td>\n",
       "      <td>NaN</td>\n",
       "    </tr>\n",
       "    <tr>\n",
       "      <th>2</th>\n",
       "      <td>Lạc Long Quân [2a]\\n Tên húy là Sùng Lãm, con ...</td>\n",
       "      <td>NaN</td>\n",
       "    </tr>\n",
       "    <tr>\n",
       "      <th>3</th>\n",
       "      <td>Sử thần Ngô Sĩ Liên nói: Khi trời đất mới mở m...</td>\n",
       "      <td>NaN</td>\n",
       "    </tr>\n",
       "    <tr>\n",
       "      <th>4</th>\n",
       "      <td>Hùng Vương [3a] \\nCon Lạc Long Quân (không rõ ...</td>\n",
       "      <td>NaN</td>\n",
       "    </tr>\n",
       "    <tr>\n",
       "      <th>...</th>\n",
       "      <td>...</td>\n",
       "      <td>...</td>\n",
       "    </tr>\n",
       "    <tr>\n",
       "      <th>2209</th>\n",
       "      <td>Mùa xuân, xuống chiếu đi kinh lược Thuận Hoá, ...</td>\n",
       "      <td>&lt;NA&gt;</td>\n",
       "    </tr>\n",
       "    <tr>\n",
       "      <th>2210</th>\n",
       "      <td>Mùa đông, tháng 10, ngày 13 là ngày Quý Dậu, [...</td>\n",
       "      <td>&lt;NA&gt;</td>\n",
       "    </tr>\n",
       "    <tr>\n",
       "      <th>2211</th>\n",
       "      <td>[Ất Dậu, Thịnh Đức năm thứ 3 [1655], (Minh Lịc...</td>\n",
       "      <td>1655</td>\n",
       "    </tr>\n",
       "    <tr>\n",
       "      <th>2212</th>\n",
       "      <td>Bính Thân, [Thịnh Đức] năm thứ 4 [1656], (Minh...</td>\n",
       "      <td>1656</td>\n",
       "    </tr>\n",
       "    <tr>\n",
       "      <th>2213</th>\n",
       "      <td>Mùa xuân, tháng giêng, quân Thuận Hóa đánh úp ...</td>\n",
       "      <td>&lt;NA&gt;</td>\n",
       "    </tr>\n",
       "  </tbody>\n",
       "</table>\n",
       "<p>2214 rows × 2 columns</p>\n",
       "</div>"
      ],
      "text/plain": [
       "                                                 events  year\n",
       "0     \\n[1a] Triều Liệt Đại Phu, Quốc Tử Giám Tư Ngh...   NaN\n",
       "1     Kỷ Hồng Bàng\\n Thị Kinh Dương Vương [1b] Tên h...   NaN\n",
       "2     Lạc Long Quân [2a]\\n Tên húy là Sùng Lãm, con ...   NaN\n",
       "3     Sử thần Ngô Sĩ Liên nói: Khi trời đất mới mở m...   NaN\n",
       "4     Hùng Vương [3a] \\nCon Lạc Long Quân (không rõ ...   NaN\n",
       "...                                                 ...   ...\n",
       "2209  Mùa xuân, xuống chiếu đi kinh lược Thuận Hoá, ...  <NA>\n",
       "2210  Mùa đông, tháng 10, ngày 13 là ngày Quý Dậu, [...  <NA>\n",
       "2211  [Ất Dậu, Thịnh Đức năm thứ 3 [1655], (Minh Lịc...  1655\n",
       "2212  Bính Thân, [Thịnh Đức] năm thứ 4 [1656], (Minh...  1656\n",
       "2213  Mùa xuân, tháng giêng, quân Thuận Hóa đánh úp ...  <NA>\n",
       "\n",
       "[2214 rows x 2 columns]"
      ]
     },
     "execution_count": 1170,
     "metadata": {},
     "output_type": "execute_result"
    }
   ],
   "source": [
    "data_df"
   ]
  },
  {
   "cell_type": "code",
   "execution_count": 1075,
   "id": "9efb1b05",
   "metadata": {},
   "outputs": [
    {
     "data": {
      "text/plain": [
       "0     <NA>\n",
       "1     <NA>\n",
       "2     <NA>\n",
       "3     <NA>\n",
       "4     <NA>\n",
       "5     <NA>\n",
       "6     <NA>\n",
       "7     <NA>\n",
       "8     <NA>\n",
       "9     -258\n",
       "10    <NA>\n",
       "11    -257\n",
       "12    <NA>\n",
       "13    -255\n",
       "14    <NA>\n",
       "15    -249\n",
       "16    -221\n",
       "17    -214\n",
       "18    -210\n",
       "19    -208\n",
       "Name: year, dtype: object"
      ]
     },
     "execution_count": 1075,
     "metadata": {},
     "output_type": "execute_result"
    }
   ],
   "source": [
    "data_df['year'][:20]"
   ]
  },
  {
   "cell_type": "markdown",
   "id": "28b6e36a",
   "metadata": {},
   "source": [
    "### 4.2 Phân loại sự kiện (topic)"
   ]
  },
  {
   "cell_type": "code",
   "execution_count": 991,
   "id": "3e4b26e3",
   "metadata": {},
   "outputs": [
    {
     "name": "stdout",
     "output_type": "stream",
     "text": [
      "['Ngoại giao', 'Chính trị', 'Văn hóa']\n"
     ]
    }
   ],
   "source": [
    "from collections import defaultdict\n",
    "\n",
    "def classify_event(text):\n",
    "    \"\"\"\n",
    "    Phân loại sự kiện trong văn bản dựa trên các từ khóa.\n",
    "    \n",
    "    Args:\n",
    "        text (str): Văn bản đầu vào.\n",
    "    \n",
    "    Returns:\n",
    "        list: Danh sách các loại sự kiện tìm thấy trong văn bản.\n",
    "    \"\"\"\n",
    "    categories = {\n",
    "    \"Ngoại giao\": [\"sai sứ\", \"sang cống\", \"đáp lễ\", \"sang phong\", \"sang chầu\", \"biếu nhà\", \"liên minh\", \"giao hảo\", \"nghị hòa\", \"hòa ước\", \"triều cống\", \"giao thương\", \"tiếp sứ\", \"hội kiến\", \"sứ thần\", \"kết thông gia\"],\n",
    "    \"Chính trị\": [\"đổi niên hiệu\", \"hạ lệnh\", \"xuống chiếu\", \"sắc chỉ\", \"phong\", \"niên hiệu\", \"ra lệnh\", \"luật\", \"lên ngôi\", \"phong vua\", \"tấu lên\", \"sai quan\", \"bãi nhiệm\", \"cải cách\", \"sắc lệnh\",\"phong tước\",\"thái tử\", \"công chúa\",\"hoàng hậu\", \"thái hậu\"],\n",
    "    \"Văn hóa\": [\"thi hội\", \"đua thuyền\", \"chùa\", \"đạo\", \"đền\", \"miếu\", \"lễ\", \"học\", \"trụ trì\", \"diễn\", \"mở hội\", \"hát tuồng\", \"múa rối\", \"thư pháp\", \"văn bia\"],\n",
    "    \"Giáo dục\": [ \"kinh sử\",\"lấy đỗ\", \"lấy sinh\", \"học sinh\", \"người đỗ\", \"tuyển chọn nhân tài\", \"khoa cử\", \"mở trường\", \"dạy học\", \"tiến sĩ\", \"trạng nguyên\", \"bảng vàng\",\"sách\", \"in sách\", \"dịch sách\"],\n",
    "    \"Quân sự\": [\"đi đánh\", \"làm phản\", \"làm loạn\", \"đánh chiếm\", \"tướng quân\", \"đem quân\", \"giặc\", \"trận\", \"chiến thắng\", \"thua\", \"tấn công\", \"quân giặc\", \"quân đánh\", \"bắt sống\", \"chiếm đóng\", \"vây thành\", \"phục kích\", \"bố trận\", \"đạo quân\", \"đóng giữ\"],\n",
    "    \"Thời tiết\": [\"hạn\", \"lụt\", \"bão\", \"động đất\", \"sao chổi\", \"sấm\", \"mưa\", \"dịch\", \"nhật thực\", \"nguyệt thực\", \"nước to\", \"mất mùa\", \"nắng gắt\", \"tuyết\", \"băng giá\"],\n",
    "    \"Đối thoại\": [\"nói\", \"rằng\", \"làm thơ\", \"nghị luận\", \"tranh biện\"],\n",
    "    \"Giới thiệu nhân vật\": [\"tên huý là\", \"ở ngôi\", \"cha là\", \"xuất thân\", \"tôn xưng\", \"danh hiệu\"],\n",
    "    \"Kinh tế - Tài chính\": [\"bạc\", \"vàng\", \"tiền đồng\", \"phát hành\", \"thuế\", \"miễn thuế\", \"định giá\", \"giá cả\", \"buôn bán\", \"thương mại\" ,],\n",
    "    \"Xã hội - Đời sống\": [\"cứu tế\", \"phát chẩn\", \"y tế\", \"bệnh dịch\", \"thuốc\", \"chữa bệnh\", \"cứu đói\", \"trợ cấp\", \"giảm tô\", \"giảm thuế\",\"cày\",\"ruộng đất\", \"kho lúa\"],\n",
    "    \"Kiến trúc - Xây dựng\": [\"xây thành\", \"đắp đê\", \"làm cầu\", \"sửa chùa\", \"xây cung\", \"làm đường\", \"dựng bia\", \"khắc chữ\",\"xây chùa\"],\n",
    "    \"Khoa học - Kỹ thuật\": [\"sao trời\", \"thiên văn\", \"tính lịch\", \"đo đạc\", \"y thuật\", \"phát minh\"]\n",
    "}\n",
    "    \n",
    "    event_types = []\n",
    "    text = text.lower()  \n",
    "    \n",
    "    for category, keywords in categories.items():\n",
    "        for keyword in keywords:\n",
    "            if keyword in text:\n",
    "                event_types.append(category)\n",
    "                break  # Chỉ cần tìm thấy 1 từ khóa là đủ để phân loại vào nhóm đó\n",
    "\n",
    "    return event_types\n",
    "\n",
    "# 📌 Ví dụ sử dụng\n",
    "text ='''\n",
    "Giáp Ngọ, /Ứng Thiên/ năm thứ 1 /994/, (Tống Thuần Hoá năm thứ 5). Mùa xuân, tháng giêng, đổi niên hiệu. \n",
    "Phong hoàng tử thừ mười là Mang làm Nam Quốc Vương, đóng ở châu Vũ Lung3. \n",
    "Sai nha hiệu là Phí Sùng Đức sang nhà Tống [21a] sang thăm đáp lễ. \n",
    "Cháu vua nước Chiêm Thành là Chế Cai vào chầu. Trước đây, nước Chiêm Thành sai Chế Đông dâng sản vật địa phương, vua trách là trái lễ, không nhận. Vua nước đó sợ, mới sai Chế Cai vào chầu.\n",
    "\n",
    "'''\n",
    "print(classify_event(text))  # Output: ['chính trị', 'văn hóa']\n"
   ]
  },
  {
   "cell_type": "markdown",
   "id": "cc91e49a",
   "metadata": {},
   "source": [
    "### 4.3 Xác định keywords (tags)"
   ]
  },
  {
   "cell_type": "markdown",
   "id": "55722da8",
   "metadata": {},
   "source": [
    "**Xác định tên riêng (Địa danh, nhân vật):**"
   ]
  },
  {
   "cell_type": "code",
   "execution_count": 999,
   "id": "8a016e7b",
   "metadata": {},
   "outputs": [],
   "source": [
    "import re\n",
    "\n",
    "def extract_name(text):   \n",
    "    regex = r'[A-ZÀÁẢÃẠĂẮẰẲẴẶÂẤẦẨẪẬĐÈÉẺẼẸÊẾỀỂỄỆÌÍỈĨỊÒÓỎÕỌÔỐỒỔỖỘƠỚỜỞỠỢÙÚỦŨỤƯỨỪỬỮỰỲÝỶỸỴ][a-zàáảãạăắằẳẵặâấầẩẫậđèéẻẽẹêếềểễệìíỉĩịòóỏõọôốồổỗộơớờởỡợùúủũụưứừửữựỳýỷỹỵ]+(?:\\s+[A-ZÀÁẢÃẠĂẮẰẲẴẶÂẤẦẨẪẬĐÈÉẺẼẸÊẾỀỂỄỆÌÍỈĨỊÒÓỎÕỌÔỐỒỔỖỘƠỚỜỞỠỢÙÚỦŨỤƯỨỪỬỮỰỲÝỶỸỴ][a-zàáảãạăắằẳẵặâấầẩẫậđèéẻẽẹêếềểễệìíỉĩịòóỏõọôốồổỗộơớờởỡợùúủũụưứừửữựỳýỷỹỵ]+)+'\n",
    "    \n",
    "    name_raw = re.findall(regex, text)\n",
    "    \n",
    "    name_result = []\n",
    "    for name in name_raw:\n",
    "        # Loại bỏ dấu câu ở cuối nếu có\n",
    "        name_final = re.sub(r'[\\.,!?;:]$', '', name)\n",
    "        name_result.append(name_final)\n",
    "    \n",
    "    return set(name_result)"
   ]
  },
  {
   "cell_type": "code",
   "execution_count": 1000,
   "id": "e4ee17e2",
   "metadata": {},
   "outputs": [
    {
     "name": "stdout",
     "output_type": "stream",
     "text": [
      "{'Ái Châu', 'Nhà Lý'}\n"
     ]
    }
   ],
   "source": [
    "# Ví dụ\n",
    "text = \"Mùa xuân, tháng giêng, vua Nhà Lý sai sứ sang phong. Tháng hai, đánh giặc ở Ái Châu, chiến thắng vang dội.\"\n",
    "result = extract_name(text)\n",
    "print(result)"
   ]
  },
  {
   "cell_type": "markdown",
   "id": "164b039a",
   "metadata": {},
   "source": [
    "**Triều đại:**"
   ]
  },
  {
   "cell_type": "code",
   "execution_count": null,
   "id": "f317af6c",
   "metadata": {},
   "outputs": [],
   "source": [
    "trieudai_vn = [\n",
    "    \"Nhà Đinh\", \"nhà Đinh\", \"Vua Đinh\", \"vua Đinh\", \n",
    "    \"Nhà Tiền Lê\", \"nhà Tiền Lê\", \"Vua Lê\", \"vua Lê\",  \n",
    "    \"Nhà Lê\", \"nhà Lê\", \n",
    "    \"Nhà Lý\", \"nhà Lý\", \"Vua Lý\", \"vua Lý\",  \n",
    "    \"Nhà Trần\", \"nhà Trần\", \"Vua Trần\", \"vua Trần\",  \n",
    "    \"Nhà Hồ\", \"nhà Hồ\", \"Vua Hồ\", \"vua Hồ\",  \n",
    "    \"Nhà Hậu Lê\", \"nhà Hậu Lê\",\n",
    "    \"Nhà Nguyễn\", \"nhà Nguyễn\", \"Vua Nguyễn\", \"vua Nguyễn\"\n",
    "]\n",
    "\n",
    "# Triều đại Trung Quốc (có thể gọi bằng \"Nhà\", \"quân\", \"giặc\")\n",
    "trieudai_tq = [\n",
    "    \"Nhà Tần\", \"nhà Tần\", \"quân Tần\", \"giặc Tần\",  \n",
    "    \"Nhà Hán\", \"nhà Hán\", \"quân Hán\", \"giặc Hán\",  \n",
    "    \"Nhà Đường\", \"nhà Đường\", \"quân Đường\", \"giặc Đường\", 'vua Đường',  \n",
    "    \"Nhà Tống\", \"nhà Tống\", \"quân Tống\", \"giặc Tống\", 'vua Tống',\n",
    "    \"Nhà Nguyên\", \"nhà Nguyên\", \"quân Nguyên\", \"giặc Nguyên\",  'vua Nguyên', \n",
    "    \"Nhà Minh\", \"nhà Minh\", \"quân Minh\", \"giặc Minh\", 'vua Minh',\n",
    "    \"Nhà Thanh\", \"nhà Thanh\", \"quân Thanh\", \"giặc Thanh\"\n",
    "]\n",
    "\n",
    "trieudai = set(trieudai_vn + trieudai_tq)"
   ]
  },
  {
   "cell_type": "code",
   "execution_count": 986,
   "id": "b98a3794",
   "metadata": {},
   "outputs": [
    {
     "data": {
      "text/plain": [
       "{'Nhà Lý', 'quân Nguyên'}"
      ]
     },
     "execution_count": 986,
     "metadata": {},
     "output_type": "execute_result"
    }
   ],
   "source": [
    "text = \"Mùa xuân, tháng giêng, vua Nhà Lý sai sứ sang phong. Tháng hai, đánh giặc quân Nguyên ở Ái Châu, chiến thắng vang dội.\"\n",
    "\n",
    "found_dynasties = {dyn for dyn in trieudai if dyn in text}\n",
    "found_dynasties"
   ]
  },
  {
   "cell_type": "markdown",
   "id": "25ff76cf",
   "metadata": {},
   "source": [
    "**Sự kiện:**"
   ]
  },
  {
   "cell_type": "code",
   "execution_count": 987,
   "id": "24753a4c",
   "metadata": {},
   "outputs": [],
   "source": [
    "keywords = set([\n",
    "    \"sai sứ\", \"sang cống\", \"đáp lễ\", \"sang phong\", \"sang chầu\", \"biếu nhà\", \"liên minh\", \"giao hảo\", \"nghị hòa\", \"hòa ước\", \"triều cống\", \"giao thương\", \"tiếp sứ\", \"hội kiến\", \"sứ thần\", \"kết thông gia\",  # Ngoại giao\n",
    "    \"đổi niên hiệu\", \"hạ lệnh\", \"xuống chiếu\", \"sắc chỉ\", \"phong\", \"niên hiệu\", \"ra lệnh\", \"luật\", \"lên ngôi\", \"phong vua\", \"tấu lên\", \"sai quan\", \"bãi nhiệm\", \"cải cách\", \"sắc lệnh\",\"phong tước\",\"thái tử\", \"công chúa\",\"hoàng hậu\", \"thái hậu\",  # Chính trị\n",
    "    \"thi hội\", \"đua thuyền\", \"chùa\", \"đạo\", \"đền\", \"miếu\", \"lễ\", \"học\", \"trụ trì\", \"diễn\", \"mở hội\", \"hát tuồng\", \"múa rối\", \"thư pháp\", \"văn bia\",  # Văn hóa\n",
    "    \"kinh sử\",\"lấy đỗ\", \"lấy sinh\", \"học sinh\", \"người đỗ\", \"tuyển chọn nhân tài\", \"khoa cử\", \"mở trường\", \"dạy học\", \"tiến sĩ\", \"trạng nguyên\", \"bảng vàng\",\"sách\", \"in sách\", \"dịch sách\",  # Giáo dục\n",
    "    \"đi đánh\", \"làm phản\", \"làm loạn\", \"đánh chiếm\", \"tướng quân\", \"đem quân\", \"giặc\", \"trận\", \"chiến thắng\", \"thua\", \"tấn công\", \"quân giặc\", \"quân đánh\", \"bắt sống\", \"chiếm đóng\", \"vây thành\", \"phục kích\", \"bố trận\", \"đạo quân\", \"đóng giữ\",  # Chiến tranh\n",
    "    \"hạn\", \"lụt\", \"bão\", \"động đất\", \"sao chổi\", \"sấm\", \"mưa\", \"dịch\", \"nhật thực\", \"nguyệt thực\", \"nước to\", \"mất mùa\", \"nắng gắt\", \"tuyết\", \"băng giá\",  # Thời tiết\n",
    "    \"nói\", \"rằng\", \"làm thơ\", \"nghị luận\", \"tranh biện\",  # Đối thoại\n",
    "    \"tên huý là\", \"ở ngôi\", \"cha là\", \"xuất thân\", \"tôn xưng\", \"danh hiệu\",\n",
    "    \"bạc\", \"vàng\", \"tiền đồng\", \"phát hành\", \"thuế\", \"miễn thuế\", \"định giá\", \"giá cả\", \"buôn bán\", \"thương mại\" ,\n",
    "    \"cứu tế\", \"phát chẩn\", \"y tế\", \"bệnh dịch\", \"thuốc\", \"chữa bệnh\", \"cứu đói\", \"trợ cấp\", \"giảm tô\", \"giảm thuế\",\"cày\",\"ruộng đất\", \"kho lúa\",\n",
    "    \"xây thành\", \"đắp đê\", \"làm cầu\", \"sửa chùa\", \"xây cung\", \"làm đường\", \"dựng bia\", \"khắc chữ\",\"xây chùa\",\n",
    "    \"sao trời\", \"thiên văn\", \"tính lịch\", \"đo đạc\", \"y thuật\", \"phát minh\"\n",
    "])"
   ]
  },
  {
   "cell_type": "code",
   "execution_count": 990,
   "id": "ada52d75",
   "metadata": {},
   "outputs": [
    {
     "data": {
      "text/plain": [
       "{'chiến thắng', 'giặc', 'phong', 'sai sứ', 'sang phong'}"
      ]
     },
     "execution_count": 990,
     "metadata": {},
     "output_type": "execute_result"
    }
   ],
   "source": [
    "text = \"Mùa xuân, tháng giêng, vua Nhà Lý sai sứ sang phong. Tháng hai, đánh giặc quân Nguyên ở Ái Châu, chiến thắng vang dội.\"\n",
    "text_lower = text.lower()\n",
    "found_keywords = {kw for kw in keywords if kw in text_lower}\n",
    "found_keywords"
   ]
  },
  {
   "cell_type": "markdown",
   "id": "cc3bd181",
   "metadata": {},
   "source": [
    "**Tạo tags:**"
   ]
  },
  {
   "cell_type": "code",
   "execution_count": 1001,
   "id": "223c6d49",
   "metadata": {},
   "outputs": [],
   "source": [
    "def extract_tags(text):\n",
    "    text_lower = text.lower()\n",
    "    named_entities = extract_name(text)\n",
    "    found_dynasties = {dyn for dyn in trieudai if dyn in text}\n",
    "    event_keywords = {kw for kw in keywords if kw in text_lower}\n",
    "    \n",
    "    return event_keywords | named_entities | found_dynasties\n",
    "    "
   ]
  },
  {
   "cell_type": "code",
   "execution_count": 1100,
   "id": "53d9bf45",
   "metadata": {},
   "outputs": [
    {
     "name": "stdout",
     "output_type": "stream",
     "text": [
      "['Ngoại giao', 'Chính trị', 'Quân sự']\n"
     ]
    },
    {
     "data": {
      "text/plain": [
       "{'Nhà Lý',\n",
       " 'chiến thắng',\n",
       " 'giặc',\n",
       " 'phong',\n",
       " 'quân Nguyên',\n",
       " 'sai sứ',\n",
       " 'sang phong',\n",
       " 'Ái Châu'}"
      ]
     },
     "execution_count": 1100,
     "metadata": {},
     "output_type": "execute_result"
    }
   ],
   "source": [
    "text = \"Mùa xuân, tháng giêng, vua Nhà Lý sai sứ sang phong. Tháng hai, đánh giặc quân Nguyên ở Ái Châu, chiến thắng vang dội.\"\n",
    "print(classify_event(text))\n",
    "extract_tags(text)"
   ]
  },
  {
   "cell_type": "markdown",
   "id": "8d88ccc4",
   "metadata": {},
   "source": [
    "### 4.4 Chunk"
   ]
  },
  {
   "cell_type": "code",
   "execution_count": 1057,
   "id": "c493ad3f",
   "metadata": {},
   "outputs": [],
   "source": [
    "import re\n",
    "import nltk\n",
    "from nltk.tokenize import sent_tokenize\n",
    "\n",
    "# Tải resource cần thiết cho NLTK\n",
    "def setup_nltk():\n",
    "    try:\n",
    "        nltk.data.find('tokenizers/punkt')\n",
    "    except LookupError:\n",
    "        nltk.download('punkt')\n",
    "\n",
    "# Hàm tạo chunk thông minh dựa trên các câu hoàn chỉnh\n",
    "def create_chunks(text, max_chunk_size=200, min_chunk_size=50):\n",
    "    \"\"\"\n",
    "    Tạo các chunk thông minh dựa trên ranh giới câu và đoạn.\n",
    "    \n",
    "    Args:\n",
    "        text (str): Văn bản đầu vào.\n",
    "        max_chunk_size (int): Số từ tối đa trong một chunk.\n",
    "        min_chunk_size (int): Số từ tối thiểu để tạo thành một chunk độc lập.\n",
    "    \n",
    "    Returns:\n",
    "        list: Danh sách các chunk có nội dung ngữ nghĩa hợp lý.\n",
    "    \"\"\"\n",
    "    setup_nltk()\n",
    "    \n",
    "    # Tách đoạn văn (paragraph)\n",
    "    paragraphs = re.split(r'\\n\\s*\\n', text)\n",
    "    chunks = []\n",
    "    current_chunk = []\n",
    "    current_chunk_size = 0\n",
    "    \n",
    "    for paragraph in paragraphs:\n",
    "        # Bỏ qua đoạn trống\n",
    "        if not paragraph.strip():\n",
    "            continue\n",
    "            \n",
    "        # Tách câu trong đoạn\n",
    "        sentences = sent_tokenize(paragraph)\n",
    "        \n",
    "        paragraph_added = False\n",
    "        \n",
    "        for sentence in sentences:\n",
    "            sentence_words = sentence.split()\n",
    "            sentence_length = len(sentence_words)\n",
    "            \n",
    "            # Trường hợp 1: Câu quá dài, buộc phải tách ra thành chunk riêng\n",
    "            if sentence_length > max_chunk_size:\n",
    "                # Xử lý chunk hiện tại nếu có\n",
    "                if current_chunk:\n",
    "                    chunks.append(' '.join(current_chunk))\n",
    "                    current_chunk = []\n",
    "                    current_chunk_size = 0\n",
    "                \n",
    "                # Tách câu dài thành nhiều chunk\n",
    "                for i in range(0, sentence_length, max_chunk_size):\n",
    "                    if i + max_chunk_size >= sentence_length:\n",
    "                        # Phần cuối của câu dài\n",
    "                        if current_chunk_size == 0:\n",
    "                            # Thêm trực tiếp vào chunks nếu chưa có gì trong current_chunk\n",
    "                            chunks.append(' '.join(sentence_words[i:]))\n",
    "                        else:\n",
    "                            # Thêm vào chunk hiện tại\n",
    "                            current_chunk.extend(sentence_words[i:])\n",
    "                            current_chunk_size += len(sentence_words[i:])\n",
    "                    else:\n",
    "                        # Phần giữa của câu dài\n",
    "                        chunks.append(' '.join(sentence_words[i:i+max_chunk_size]))\n",
    "                        \n",
    "            # Trường hợp 2: Câu vừa + chunk hiện tại sẽ vượt quá max_chunk_size\n",
    "            elif current_chunk_size + sentence_length > max_chunk_size:\n",
    "                # Hoàn thành chunk hiện tại\n",
    "                chunks.append(' '.join(current_chunk))\n",
    "                \n",
    "                # Bắt đầu chunk mới với câu hiện tại\n",
    "                current_chunk = sentence_words\n",
    "                current_chunk_size = sentence_length\n",
    "                paragraph_added = True\n",
    "                \n",
    "            # Trường hợp 3: Thêm câu vào chunk hiện tại\n",
    "            else:\n",
    "                current_chunk.extend(sentence_words)\n",
    "                current_chunk_size += sentence_length\n",
    "                paragraph_added = True\n",
    "        \n",
    "        # Kết thúc đoạn, thêm dấu xuống dòng nếu không phải là đoạn cuối\n",
    "        if paragraph_added and current_chunk:\n",
    "            current_chunk[-1] = current_chunk[-1] + '.'\n",
    "            \n",
    "    # Xử lý chunk cuối cùng nếu có\n",
    "    if current_chunk:\n",
    "        # Nếu chunk cuối quá nhỏ và có chunk trước đó, gộp với chunk cuối\n",
    "        if current_chunk_size < min_chunk_size and len(chunks) > 0:\n",
    "            last_chunk = chunks[-1].split()\n",
    "            combined_size = len(last_chunk) + current_chunk_size\n",
    "            \n",
    "            if combined_size <= max_chunk_size * 1.2:  # Cho phép vượt một chút\n",
    "                chunks[-1] = ' '.join(last_chunk + current_chunk)\n",
    "            else:\n",
    "                chunks.append(' '.join(current_chunk))\n",
    "        else:\n",
    "            chunks.append(' '.join(current_chunk))\n",
    "    \n",
    "    return chunks\n"
   ]
  },
  {
   "cell_type": "code",
   "execution_count": 1060,
   "id": "d8cb3516",
   "metadata": {},
   "outputs": [],
   "source": [
    "chunk = create_chunks('''Tân Sửu, [Hồng Đức] năm thứ 2 [1481], (Minh Thành Hóa năm thứ 17). Mùa xuân, tháng giêng, ngày 19, Đô cấp sự trung Vũ Mộng Khang dâng thư nói các việc, đại khái có 4 điều: 1- Kẻ nào xâm chiếm ruộng đất của người khác và chặt nêu, nhổ mốc, tự tiện lập giới hạn thì phải phạt trượng và biếm truất: nếu phá bỏ bờ ruộng thì chỉ phạt tiền thôi. \n",
    "2- Kẻ nào chặt phá cây cối, tre pheo ở vườn mộ người khác thì phải phạt trượng và biếm truất, nếu cày phá mộ của người xưa thì đều xử tội lưu.  3- Lấy vợ phải lấy người ngoài, không được lấy [30a] kẻ giàu sang, thân thích phi loại, kẻ nào vi phạm, thì xử tội đồ. \n",
    "4- Các quan ty sở tại khi khám xét án kiện trong ngoài và loại tạp phạm, phải theo đúng hạn định trong luật mà xử đoán phải trái, không được đùn đẩy cho nhau để kéo dài; kẻ nào làm trái thì phải phạt tiền như lệnh. \n",
    "Mùa hạ, tháng 4, thi hội cho các cử nhân trong nước, lấy đỗ bọn Phạm Đôn Lễ 40 người. \n",
    "Ngày 27, vua ngự điện Kính Thiên, thân hành ra đầu bài văn sách hỏi về lý số. \n",
    "Cho bọn Phạm Đôn Lễ, Lưu Hưng Hiếu, Nguyễn Doãn Định ba người đổ tiến sĩ cập đệ; bọn Ngô Văn Cảnh 8 người đỗ tiến sĩ xuất thân; bọn Nguyễn Minh Đạo 29 người đỗ đồng tiến sĩ xuất thân. \n",
    "(Phạm Đôn Lễ, tên tự là Lư Khanh, người huyện Ngự Thiên, phủ Tân Hưng ngụ ở làng Thanh Nhàn, huyện Kim Hoa2, khi đỗ 27 tuổi, thi hương, hội, đình đều đỗ đầu, người đời gọi là Tam nguyên Đôn Lễ). \n",
    "Tháng 5, ngày 21, triệu bọn tiến sĩ Phạm Đôn Lễ vào trong Đan Trì. Vua [30b] ngự điện Kính Thiên. Các quan Hồng lô truyền lệnh gọi tên. Lại bộ ban ấn mệnh. Lễ bộ bưng bảng vàng, nổi trống nhạc, rước ra ngoài cửa Đông Hoa treo lên. Xong rồi ty Mã cứu đem ngựa tốt đưa trạng nguyên về nhà. \n",
    "Xuống lệnh rằng: Quan các vệ, ty, sở Tráng sĩ, Thần vũ, Hiệu lực, Điện tiền, Ngũ phủ, Mã nhàn, Thuần tượng trong kinh, các quan vệ sở, phủ, châu, huyện bên ngoài, nếu có người đẽo khoét quân lính, mọt hại nhân dân, chỉ chăm làm lợi cho mình, không nghĩ đến phép nước, ở trong thì đường quan là các Chỉ huy, đề đốc Kiểm điểm, Đô đốc  và các quan Đoán sự, Kinh lịch; bên ngoài thì hay ty Thừa, Hiến, đều phải công bằng xét xử, tham khảo dư luận của mọi người, người nào trước kia có nhũng loạn, tuy không có chứng thực, nhưng mọi người đều biết; cùng là người nào liêm khiết, không mắc [31a] thói tham ô, kê ra từng loại tâu lên cả, trao cho Giám sát ngự sử ở đạo đó thẩm tra lại, làm bản tâu lên, sẽ khu xử để tỏ rõ khuyến khích và trừng phạt. \n",
    "Lập sở Đồn điền. Xuống chiếu rằng: Mở đồn điền là để dùng hết tiềm lực của nghề nông, mở rộng nguồn trích trữ cho nhà nước. Nay lệnh cho các xứ định đồn điền thành ba bậc thượng, trung, hạ. \n",
    "Tháng 6, ngày 20, chọn thải bớt quan viên và bổng lộc. \n",
    "Quan viên quá nhiều, tiêu phí lộc kho, lục khoa phải tra xét xem từ năm Quang Thuận thứ 2 đến nay, quan viên nào đã từng phạm các tội hối lộ, đã bị xử các tội biếm, giáng, cùng các tướng hiệu, quản áp, để thiếu ván thuyền, gỗ lạt, củi, gạch... vụng trộm bắt quân nộp tiền, đến nỗi thiếu nhiều thứ phải nộp, trị giá từ 10 quan trở lên mà người ấy hãy còn tại chức thì bắt phải thôi việc, để triệt những quan tham nhũng [31b] cho bớt lộc. \n",
    "Ngày 21, xuống chiếu rằng: Các quan trong ngoài đua nhau kiếm lợi là bởi quan có trách nhiệm ăn nói chưa được người giỏi. \n",
    "Kẻ thì nhu nhơ không có tài cán gì, người thì đả kích quá để rước gièm pha. Quan lại tham nhũng, dân chúng oán thán, đem khí dữ làm trái khí hòa, mối tệ này phải nên trừ bỏ. Từ nay trở đi, các chức khoa đài, hiến sát, triều thần phải công bằng mà bàn chọn, ai nên thả ra, ai nên bổ thay, làm bản tâu lên thi hành, để trừ bỏ tệ cũ. \n",
    "Mùa thu, tháng 7, ngày mồng 4, Phó đô ngự sử kiêm Tả xuân phường tá trung doãn Quách Đình Bảo tâu về việc tự tiện đuổi dân trú ngụ như sau: \"Thần trộm nghĩ rằng: Kinh sư là gốc của bốn phương; tiền của trao đổi mua bán tất phải cho lưu thông đủ dùng, không nên để thiếu thốn. Trước đây, dân cư phủ Phụng Thiên, trừ những người quê quán ở phủ đó, gián hoặc có người tuy không phải quê ở đó, nhưng có [32a] cửa hiệu, thuế ngạch và nộp thuế, chịu sai dịch với bản phường. Nay quan phủ Phụng Thiên lại không hỏi xem dân tạp cư ở đó có cửa hiệu, thuế ngạch hay không, đuổi hết cả về nguyên quán, e rằng như thế thì nơi kinh sư sẽ buôn bán thưa thớt, không còn sầm uất phồn thịnh nữa, không những người làm nghề buôn bán sẽ thất nghiệp nhiều, mà chợ búa e sẽ trống rỗng, ngạch thuế sẽ có thể thiếu hụt, có phần không tiện. Vì thế tâu xin: Ngoài những kẻ vô loài tạp cư thì nên đuổi đi, còn những người chuyê có hàng chợ, cửa hiệu, trước đây đã biên vào thuế ngạch thì hãy cho được cư trú để buôn bán sinh nhai, cho vào bản phường nộp thuế theo lệ cũ\". \n",
    "Tháng 9, ngày 27, ra sắc chỉ rằng: Từ nay, các phi tần và quan viên thì làm sổ riêng. \n",
    "Mùa đông, tháng 10, ra sắc chỉ rằng: Quan các vệ, sở, người nào dám hạch [32b] sách tiền của như trước, tính từ 5 tiền trở lên thì pháp ty sẽ trị tội theo luật pháp, ngoài ra, từ 4 tiền trở xuống thì nhất luật bãi chức sung quân, như lệ quan viên tham nhũng. \n",
    "Xuống chỉ dụ gồm 56 điều: Tuyển người bổ sung quân ngũ. \n",
    "Khảo thi con cháu các quan viên, hỏi về làm văn, viết chữ, làm toán. \n",
    "Đào hồ Hải Trì. Hồ này quanh co đến 100 dặm. Giữa hồ có điện Thúy Ngọc, bên hồ xây điện Giảng Võ để tập luyện binh tượng. \n",
    "Lấy Nguyễn Bá Ký làm Lại bộ thượng thư. (Nguyễn Bá Ký người Chí Linh).\n",
    "''')"
   ]
  },
  {
   "cell_type": "code",
   "execution_count": 1061,
   "id": "2836ed98",
   "metadata": {},
   "outputs": [
    {
     "name": "stdout",
     "output_type": "stream",
     "text": [
      "Tân Sửu, [Hồng Đức] năm thứ 2 [1481], (Minh Thành Hóa năm thứ 17). Mùa xuân, tháng giêng, ngày 19, Đô cấp sự trung Vũ Mộng Khang dâng thư nói các việc, đại khái có 4 điều: 1- Kẻ nào xâm chiếm ruộng đất của người khác và chặt nêu, nhổ mốc, tự tiện lập giới hạn thì phải phạt trượng và biếm truất: nếu phá bỏ bờ ruộng thì chỉ phạt tiền thôi. 2- Kẻ nào chặt phá cây cối, tre pheo ở vườn mộ người khác thì phải phạt trượng và biếm truất, nếu cày phá mộ của người xưa thì đều xử tội lưu. 3- Lấy vợ phải lấy người ngoài, không được lấy [30a] kẻ giàu sang, thân thích phi loại, kẻ nào vi phạm, thì xử tội đồ. 4- Các quan ty sở tại khi khám xét án kiện trong ngoài và loại tạp phạm, phải theo đúng hạn định trong luật mà xử đoán phải trái, không được đùn đẩy cho nhau để kéo dài; kẻ nào làm trái thì phải phạt tiền như lệnh.\n",
      "########\n",
      "Mùa hạ, tháng 4, thi hội cho các cử nhân trong nước, lấy đỗ bọn Phạm Đôn Lễ 40 người. Ngày 27, vua ngự điện Kính Thiên, thân hành ra đầu bài văn sách hỏi về lý số. Cho bọn Phạm Đôn Lễ, Lưu Hưng Hiếu, Nguyễn Doãn Định ba người đổ tiến sĩ cập đệ; bọn Ngô Văn Cảnh 8 người đỗ tiến sĩ xuất thân; bọn Nguyễn Minh Đạo 29 người đỗ đồng tiến sĩ xuất thân. (Phạm Đôn Lễ, tên tự là Lư Khanh, người huyện Ngự Thiên, phủ Tân Hưng ngụ ở làng Thanh Nhàn, huyện Kim Hoa2, khi đỗ 27 tuổi, thi hương, hội, đình đều đỗ đầu, người đời gọi là Tam nguyên Đôn Lễ). Tháng 5, ngày 21, triệu bọn tiến sĩ Phạm Đôn Lễ vào trong Đan Trì. Vua [30b] ngự điện Kính Thiên. Các quan Hồng lô truyền lệnh gọi tên. Lại bộ ban ấn mệnh. Lễ bộ bưng bảng vàng, nổi trống nhạc, rước ra ngoài cửa Đông Hoa treo lên. Xong rồi ty Mã cứu đem ngựa tốt đưa trạng nguyên về nhà.\n",
      "########\n",
      "Xuống lệnh rằng: Quan các vệ, ty, sở Tráng sĩ, Thần vũ, Hiệu lực, Điện tiền, Ngũ phủ, Mã nhàn, Thuần tượng trong kinh, các quan vệ sở, phủ, châu, huyện bên ngoài, nếu có người đẽo khoét quân lính, mọt hại nhân dân, chỉ chăm làm lợi cho mình, không nghĩ đến phép nước, ở trong thì đường quan là các Chỉ huy, đề đốc Kiểm điểm, Đô đốc và các quan Đoán sự, Kinh lịch; bên ngoài thì hay ty Thừa, Hiến, đều phải công bằng xét xử, tham khảo dư luận của mọi người, người nào trước kia có nhũng loạn, tuy không có chứng thực, nhưng mọi người đều biết; cùng là người nào liêm khiết, không mắc [31a] thói tham ô, kê ra từng loại tâu lên cả, trao cho Giám sát ngự sử ở đạo đó thẩm tra lại, làm bản tâu lên, sẽ khu xử để tỏ rõ khuyến khích và trừng phạt. Lập sở Đồn điền. Xuống chiếu rằng: Mở đồn điền là để dùng hết tiềm lực của nghề nông, mở rộng nguồn trích trữ cho nhà nước.\n",
      "########\n",
      "Nay lệnh cho các xứ định đồn điền thành ba bậc thượng, trung, hạ. Tháng 6, ngày 20, chọn thải bớt quan viên và bổng lộc. Quan viên quá nhiều, tiêu phí lộc kho, lục khoa phải tra xét xem từ năm Quang Thuận thứ 2 đến nay, quan viên nào đã từng phạm các tội hối lộ, đã bị xử các tội biếm, giáng, cùng các tướng hiệu, quản áp, để thiếu ván thuyền, gỗ lạt, củi, gạch... vụng trộm bắt quân nộp tiền, đến nỗi thiếu nhiều thứ phải nộp, trị giá từ 10 quan trở lên mà người ấy hãy còn tại chức thì bắt phải thôi việc, để triệt những quan tham nhũng [31b] cho bớt lộc. Ngày 21, xuống chiếu rằng: Các quan trong ngoài đua nhau kiếm lợi là bởi quan có trách nhiệm ăn nói chưa được người giỏi. Kẻ thì nhu nhơ không có tài cán gì, người thì đả kích quá để rước gièm pha. Quan lại tham nhũng, dân chúng oán thán, đem khí dữ làm trái khí hòa, mối tệ này phải nên trừ bỏ.\n",
      "########\n",
      "Từ nay trở đi, các chức khoa đài, hiến sát, triều thần phải công bằng mà bàn chọn, ai nên thả ra, ai nên bổ thay, làm bản tâu lên thi hành, để trừ bỏ tệ cũ. Mùa thu, tháng 7, ngày mồng 4, Phó đô ngự sử kiêm Tả xuân phường tá trung doãn Quách Đình Bảo tâu về việc tự tiện đuổi dân trú ngụ như sau: \"Thần trộm nghĩ rằng: Kinh sư là gốc của bốn phương; tiền của trao đổi mua bán tất phải cho lưu thông đủ dùng, không nên để thiếu thốn. Trước đây, dân cư phủ Phụng Thiên, trừ những người quê quán ở phủ đó, gián hoặc có người tuy không phải quê ở đó, nhưng có [32a] cửa hiệu, thuế ngạch và nộp thuế, chịu sai dịch với bản phường.\n",
      "########\n",
      "Nay quan phủ Phụng Thiên lại không hỏi xem dân tạp cư ở đó có cửa hiệu, thuế ngạch hay không, đuổi hết cả về nguyên quán, e rằng như thế thì nơi kinh sư sẽ buôn bán thưa thớt, không còn sầm uất phồn thịnh nữa, không những người làm nghề buôn bán sẽ thất nghiệp nhiều, mà chợ búa e sẽ trống rỗng, ngạch thuế sẽ có thể thiếu hụt, có phần không tiện. Vì thế tâu xin: Ngoài những kẻ vô loài tạp cư thì nên đuổi đi, còn những người chuyê có hàng chợ, cửa hiệu, trước đây đã biên vào thuế ngạch thì hãy cho được cư trú để buôn bán sinh nhai, cho vào bản phường nộp thuế theo lệ cũ\". Tháng 9, ngày 27, ra sắc chỉ rằng: Từ nay, các phi tần và quan viên thì làm sổ riêng.\n",
      "########\n",
      "Mùa đông, tháng 10, ra sắc chỉ rằng: Quan các vệ, sở, người nào dám hạch [32b] sách tiền của như trước, tính từ 5 tiền trở lên thì pháp ty sẽ trị tội theo luật pháp, ngoài ra, từ 4 tiền trở xuống thì nhất luật bãi chức sung quân, như lệ quan viên tham nhũng. Xuống chỉ dụ gồm 56 điều: Tuyển người bổ sung quân ngũ. Khảo thi con cháu các quan viên, hỏi về làm văn, viết chữ, làm toán. Đào hồ Hải Trì. Hồ này quanh co đến 100 dặm. Giữa hồ có điện Thúy Ngọc, bên hồ xây điện Giảng Võ để tập luyện binh tượng. Lấy Nguyễn Bá Ký làm Lại bộ thượng thư. (Nguyễn Bá Ký người Chí Linh)..\n",
      "########\n"
     ]
    }
   ],
   "source": [
    "for c in chunk:\n",
    "    print(c)\n",
    "    print('########')"
   ]
  },
  {
   "cell_type": "markdown",
   "id": "6c9a34a5",
   "metadata": {},
   "source": [
    "### 4.5 Tạo embeddings:"
   ]
  },
  {
   "cell_type": "code",
   "execution_count": 1081,
   "id": "24de33d5",
   "metadata": {},
   "outputs": [],
   "source": [
    "from sentence_transformers import SentenceTransformer, models\n",
    "import numpy as np\n",
    "\n",
    "def create_embeddings(chunks, model_name=\"vinai/phobert-base-v2\"):\n",
    "    \"\"\"\n",
    "    Tạo embeddings cho các đoạn văn bản sử dụng PhoBERT với mean pooling.\n",
    "    \n",
    "    Args:\n",
    "        chunks (list): Danh sách các đoạn văn bản.\n",
    "        model_name (str): Tên của mô hình PhoBERT.\n",
    "    \n",
    "    Returns:\n",
    "        numpy.ndarray: Ma trận embeddings.\n",
    "    \"\"\"\n",
    "    # Load PhoBERT với transformer model\n",
    "    word_embedding_model = models.Transformer(model_name, max_seq_length=256)\n",
    "\n",
    "    # Thêm lớp mean pooling\n",
    "    pooling_model = models.Pooling(word_embedding_model.get_word_embedding_dimension(), pooling_mode_mean_tokens=True)\n",
    "\n",
    "    # Kết hợp thành một SentenceTransformer model\n",
    "    model = SentenceTransformer(modules=[word_embedding_model, pooling_model])\n",
    "\n",
    "    # Tạo embeddings\n",
    "    embeddings = model.encode(chunks, show_progress_bar=True)\n",
    "\n",
    "    return np.array(embeddings)  # Chuyển về numpy array"
   ]
  },
  {
   "cell_type": "code",
   "execution_count": 1083,
   "id": "55a1f541",
   "metadata": {},
   "outputs": [
    {
     "name": "stderr",
     "output_type": "stream",
     "text": [
      "Some weights of RobertaModel were not initialized from the model checkpoint at vinai/phobert-base-v2 and are newly initialized: ['roberta.pooler.dense.bias', 'roberta.pooler.dense.weight']\n",
      "You should probably TRAIN this model on a down-stream task to be able to use it for predictions and inference.\n"
     ]
    },
    {
     "data": {
      "application/vnd.jupyter.widget-view+json": {
       "model_id": "7228bd25f21147ec88593a766d7ef406",
       "version_major": 2,
       "version_minor": 0
      },
      "text/plain": [
       "Batches:   0%|          | 0/1 [00:00<?, ?it/s]"
      ]
     },
     "metadata": {},
     "output_type": "display_data"
    },
    {
     "data": {
      "text/plain": [
       "(768,)"
      ]
     },
     "execution_count": 1083,
     "metadata": {},
     "output_type": "execute_result"
    }
   ],
   "source": [
    "create_embeddings('''\n",
    "Mùa hạ, tháng 4, thi hội cho các cử nhân trong nước, lấy đỗ bọn Phạm Đôn Lễ 40 người. Ngày 27, vua ngự điện Kính Thiên, thân hành ra đầu bài văn sách hỏi về lý số. Cho bọn Phạm Đôn Lễ, Lưu Hưng Hiếu, Nguyễn Doãn Định ba người đổ tiến sĩ cập đệ; bọn Ngô Văn Cảnh 8 người đỗ tiến sĩ xuất thân; bọn Nguyễn Minh Đạo 29 người đỗ đồng tiến sĩ xuất thân. (Phạm Đôn Lễ, tên tự là Lư Khanh, người huyện Ngự Thiên, phủ Tân Hưng ngụ ở làng Thanh Nhàn, huyện Kim Hoa2, khi đỗ 27 tuổi, thi hương, hội, đình đều đỗ đầu, người đời gọi là Tam nguyên Đôn Lễ). Tháng 5, ngày 21, triệu bọn tiến sĩ Phạm Đôn Lễ vào trong Đan Trì. Vua [30b] ngự điện Kính Thiên. Các quan Hồng lô truyền lệnh gọi tên. Lại bộ ban ấn mệnh. Lễ bộ bưng bảng vàng, nổi trống nhạc, rước ra ngoài cửa Đông Hoa treo lên. Xong rồi ty Mã cứu đem ngựa tốt đưa trạng nguyên về nhà.\n",
    "''').shape"
   ]
  },
  {
   "cell_type": "markdown",
   "id": "5ea61c69",
   "metadata": {},
   "source": [
    "### 4.6 Process dataset:"
   ]
  },
  {
   "cell_type": "code",
   "execution_count": 1163,
   "id": "cec0a104",
   "metadata": {},
   "outputs": [],
   "source": [
    "from tqdm import tqdm\n",
    "from datetime import datetime\n",
    "\n",
    "\n",
    "def process_dataset(data, chunk_size=200, model_name=\"vinai/phobert-base-v2\"):\n",
    "    \"\"\"\n",
    "    Xử lý toàn bộ dataset lịch sử để chuẩn bị cho RAG.\n",
    "    \n",
    "    Args:\n",
    "        data (list): Dataset chứa các record lịch sử.\n",
    "        chunk_size (int): Kích thước tối đa của mỗi đoạn.\n",
    "        model_name (str): Tên của mô hình sentence transformer.\n",
    "    \n",
    "    Returns:\n",
    "        dict: Dữ liệu đã được xử lý và tạo embeddings.\n",
    "    \"\"\"\n",
    "    # Khởi tạo các list để lưu trữ kết quả\n",
    "    all_chunks = []\n",
    "    all_metadata = []\n",
    "    original_indices = []\n",
    "        \n",
    "    records = data\n",
    "    \n",
    "    # Xử lý từng record\n",
    "    current_year = '-258'\n",
    "    for idx, record in tqdm(enumerate(records), total=len(records), desc=\"Processing records\"):\n",
    "        text = record\n",
    "        if not text:\n",
    "            continue\n",
    "        \n",
    "        # Trích xuất metadata\n",
    "        event_types = classify_event(text)\n",
    "        tags = extract_tags(text)\n",
    "        years = extract_year(text)\n",
    "        if not years:\n",
    "            years = current_year\n",
    "        else:\n",
    "            current_year = years\n",
    "            \n",
    "        if not tags:\n",
    "            tags = ['lịch sử']\n",
    "        if not event_types:\n",
    "            event_types = ['lịch sử']\n",
    "        \n",
    "        # Tạo chunk từ văn bản\n",
    "        chunks = create_chunks(text, chunk_size)\n",
    "        \n",
    "        # Thêm thông tin vào danh sách\n",
    "        for chunk in chunks:\n",
    "            all_chunks.append(chunk)\n",
    "            metadata = {\n",
    "                'original_index': idx,\n",
    "                'event_types': event_types,\n",
    "                'tags': list(tags),  # Chuyển set thành list để dễ serialize\n",
    "                'years': years,\n",
    "                'chunk_text': chunk\n",
    "            }\n",
    "            \n",
    "            all_metadata.append(metadata)\n",
    "            original_indices.append(idx)\n",
    "    \n",
    "    # Tạo embeddings\n",
    "    print(\"Đang tạo embeddings...\")\n",
    "    embeddings = create_embeddings(all_chunks, model_name)\n",
    "    \n",
    "    # Đóng gói kết quả\n",
    "    result = {\n",
    "        'chunks': all_chunks,\n",
    "        'metadata': all_metadata,\n",
    "        #'embeddings': embeddings,\n",
    "        'original_indices': original_indices,\n",
    "        #'embedding_model': model_name,\n",
    "        #'created_at': datetime.now().strftime(\"%Y-%m-%d %H:%M:%S\"),\n",
    "        'chunk_size': chunk_size,\n",
    "        #'overlap': overlap\n",
    "    }\n",
    "    \n",
    "    return result"
   ]
  },
  {
   "cell_type": "code",
   "execution_count": 1164,
   "id": "55fb6103",
   "metadata": {},
   "outputs": [
    {
     "data": {
      "text/plain": [
       "['Mùa xuân, tháng giêng, vua Nhà Lý sai sứ sang phong. Tháng hai, đánh giặc ở Ái Châu, chiến thắng vang dội.',\n",
       " 'Đại xá thiên hạ, phong tước cho các công thần. Nhà Đinh lập niên hiệu mới, ra lệnh mở hội đua thuyền.',\n",
       " 'Năm ấy, Nhật thực xảy ra. Nhà Tống sai sứ sang triều Nhà Hậu Lê, đáp lễ hậu hĩnh.']"
      ]
     },
     "execution_count": 1164,
     "metadata": {},
     "output_type": "execute_result"
    }
   ],
   "source": [
    "data"
   ]
  },
  {
   "cell_type": "code",
   "execution_count": 1165,
   "id": "f597101e",
   "metadata": {},
   "outputs": [
    {
     "data": {
      "text/plain": [
       "100    Trở lên là thời thuộc Hán, từ năm Quý Mão đến ...\n",
       "101    Kỷ Sĩ Vương Sĩ Vương1 Ở ngôi 40 năm, thọ 90 tu...\n",
       "102    Đinh Mão, năm thứ 1 [187], (Hán Trung Bình năm...\n",
       "103    Canh Thìn, năm thứ 14 [200], (Hán Hiến Đế Hiệp...\n",
       "104    Sử thần Ngô Sĩ Liên nói:  Người quân tử đối vớ...\n",
       "Name: events, dtype: object"
      ]
     },
     "execution_count": 1165,
     "metadata": {},
     "output_type": "execute_result"
    }
   ],
   "source": [
    "data_df['events'][100:105]"
   ]
  },
  {
   "cell_type": "code",
   "execution_count": 1166,
   "id": "861e5ab2",
   "metadata": {},
   "outputs": [
    {
     "name": "stderr",
     "output_type": "stream",
     "text": [
      "Processing records: 100%|███████████████████████████████████████████████████████████████| 1/1 [00:00<00:00, 998.64it/s]\n"
     ]
    },
    {
     "name": "stdout",
     "output_type": "stream",
     "text": [
      "Đang tạo embeddings...\n"
     ]
    },
    {
     "name": "stderr",
     "output_type": "stream",
     "text": [
      "Some weights of RobertaModel were not initialized from the model checkpoint at vinai/phobert-base-v2 and are newly initialized: ['roberta.pooler.dense.bias', 'roberta.pooler.dense.weight']\n",
      "You should probably TRAIN this model on a down-stream task to be able to use it for predictions and inference.\n"
     ]
    },
    {
     "data": {
      "application/vnd.jupyter.widget-view+json": {
       "model_id": "0e74b545628f446e8b62c0fff528ffd6",
       "version_major": 2,
       "version_minor": 0
      },
      "text/plain": [
       "Batches:   0%|          | 0/1 [00:00<?, ?it/s]"
      ]
     },
     "metadata": {},
     "output_type": "display_data"
    }
   ],
   "source": [
    "process_dataset = process_dataset(data = data_df['events'][1:2].values, chunk_size = 300)\n"
   ]
  },
  {
   "cell_type": "code",
   "execution_count": 1159,
   "id": "44cf3e79",
   "metadata": {},
   "outputs": [],
   "source": [
    "d = 0\n",
    "for item in process_dataset['metadata']:\n",
    "    #print('type: ',item['event_types'])\n",
    "    if not item['tags']:\n",
    "        print(item)\n",
    "        d+=1\n",
    "    if not item['event_types']:\n",
    "        print(item) \n",
    "    if not item['years']:\n",
    "        print(item)\n",
    "    if not item['chunk_text']:\n",
    "        print(item)\n"
   ]
  },
  {
   "cell_type": "code",
   "execution_count": 1169,
   "id": "409f09c2",
   "metadata": {},
   "outputs": [
    {
     "data": {
      "text/plain": [
       "{'chunks': ['Kỷ Hồng Bàng Thị Kinh Dương Vương [1b] Tên húy là Lộc Tục, con cháu họ Thần Nông6. Nhâm Tuất, năm thứ 17. Xưa cháu ba đời của Viêm Đế họ Thần Nông là Đế Minh sinh ra Đế Nghi, sau Đế Minh nhân đi tuần phương Nam, đến Ngũ Lĩnh8 lấy con gái Vụ Tiên, sinh ra vua [Kinh Dương Vương]. Vua là bậc thánh trí thông minh, Đế Minh rất yêu quý, muốn cho nối ngôi. Vua cố nhường cho anh, không dám vâng mệnh. Đế Minh mới lập Đế Nghi là con nối ngôi, cai quản phương Bắc, phong cho vua làm Kinh Dương Vương, cai quản phương Nam, gọi là nước Xích Quỷ. Vua lấy con gái Động Đình Quân tên là Thần Long9 sinh ra Lạc Long Quân (Xét: Đường kỷ chép: thời Kinh Dương có người đàn bà chăn dê, tự xưng là con gái út của Động Đình Quân, lấy con thứ của Kinh Xuyên, bị bỏ, viết thư nhờ Liễu Nghị tâu với Động Đình Quân. Thế thì Kinh Xuyên và Động Đình đời đời làm thông gia với nhau đã từ lâu rồi)..'],\n",
       " 'metadata': [{'original_index': 0,\n",
       "   'event_types': ['Chính trị'],\n",
       "   'tags': ['Động Đình Quân',\n",
       "    'Lộc Tục',\n",
       "    'Xích Quỷ',\n",
       "    'Ngũ Lĩnh',\n",
       "    'Đế Nghi',\n",
       "    'Liễu Nghị',\n",
       "    'Thần Nông',\n",
       "    'Viêm Đế',\n",
       "    'Vụ Tiên',\n",
       "    'Kinh Xuyên',\n",
       "    'Kỷ Hồng Bàng\\n Thị Kinh Dương Vương',\n",
       "    'Kinh Dương Vương',\n",
       "    'Động Đình',\n",
       "    'phong',\n",
       "    'Nhâm Tuất',\n",
       "    'Đế Minh',\n",
       "    'Lạc Long Quân',\n",
       "    'Thần Long',\n",
       "    'Kinh Dương'],\n",
       "   'years': '-258',\n",
       "   'chunk_text': 'Kỷ Hồng Bàng Thị Kinh Dương Vương [1b] Tên húy là Lộc Tục, con cháu họ Thần Nông6. Nhâm Tuất, năm thứ 17. Xưa cháu ba đời của Viêm Đế họ Thần Nông là Đế Minh sinh ra Đế Nghi, sau Đế Minh nhân đi tuần phương Nam, đến Ngũ Lĩnh8 lấy con gái Vụ Tiên, sinh ra vua [Kinh Dương Vương]. Vua là bậc thánh trí thông minh, Đế Minh rất yêu quý, muốn cho nối ngôi. Vua cố nhường cho anh, không dám vâng mệnh. Đế Minh mới lập Đế Nghi là con nối ngôi, cai quản phương Bắc, phong cho vua làm Kinh Dương Vương, cai quản phương Nam, gọi là nước Xích Quỷ. Vua lấy con gái Động Đình Quân tên là Thần Long9 sinh ra Lạc Long Quân (Xét: Đường kỷ chép: thời Kinh Dương có người đàn bà chăn dê, tự xưng là con gái út của Động Đình Quân, lấy con thứ của Kinh Xuyên, bị bỏ, viết thư nhờ Liễu Nghị tâu với Động Đình Quân. Thế thì Kinh Xuyên và Động Đình đời đời làm thông gia với nhau đã từ lâu rồi)..'}],\n",
       " 'original_indices': [0],\n",
       " 'chunk_size': 300}"
      ]
     },
     "execution_count": 1169,
     "metadata": {},
     "output_type": "execute_result"
    }
   ],
   "source": [
    "process_dataset"
   ]
  },
  {
   "cell_type": "code",
   "execution_count": 1167,
   "id": "1a9efe30",
   "metadata": {},
   "outputs": [
    {
     "name": "stdout",
     "output_type": "stream",
     "text": [
      "Đã lưu file JSON thành công!\n"
     ]
    }
   ],
   "source": [
    "import json\n",
    "\n",
    "# Ghi vào file JSON\n",
    "with open(\"data.json\", \"w\", encoding=\"utf-8\") as file:\n",
    "    json.dump(process_dataset, file, indent=4, ensure_ascii=False)\n",
    "\n",
    "print(\"Đã lưu file JSON thành công!\")\n"
   ]
  },
  {
   "cell_type": "markdown",
   "id": "b9f784b1",
   "metadata": {},
   "source": [
    "### 4.7 Test:"
   ]
  },
  {
   "cell_type": "code",
   "execution_count": 1114,
   "id": "8600cff8",
   "metadata": {},
   "outputs": [],
   "source": [
    "from sentence_transformers import SentenceTransformer\n",
    "from sklearn.metrics.pairwise import cosine_similarity\n",
    "from rank_bm25 import BM25Okapi\n",
    "import numpy as np\n",
    "\n",
    "def preprocess_text(text):\n",
    "    \"\"\"Tiền xử lý văn bản để phù hợp với BM25\"\"\"\n",
    "    return text.lower().split()\n",
    "\n",
    "def search(query, processed_data, top_k=5, model_name=None, alpha=0.6):\n",
    "    \"\"\"\n",
    "    Tìm kiếm các đoạn văn bản liên quan bằng cách kết hợp BM25 và Cosine Similarity.\n",
    "\n",
    "    Args:\n",
    "        query (str): Câu truy vấn.\n",
    "        processed_data (dict): Dữ liệu đã được xử lý (chứa chunks, embeddings, metadata).\n",
    "        top_k (int): Số lượng kết quả trả về.\n",
    "        model_name (str): Tên mô hình embedding. Nếu None, sẽ dùng mô hình trong processed_data.\n",
    "        alpha (float): Trọng số để kết hợp BM25 và Cosine Similarity (0.0: chỉ BM25, 1.0: chỉ Cosine).\n",
    "\n",
    "    Returns:\n",
    "        list: Danh sách các đoạn văn bản liên quan nhất kèm theo metadata.\n",
    "    \"\"\"\n",
    "    # Xác định mô hình embedding\n",
    "    if model_name is None:\n",
    "        model_name = processed_data.get('embedding_model', \"vinai/phobert-base-v2\")\n",
    "\n",
    "    # Tạo embedding cho câu truy vấn\n",
    "    model = SentenceTransformer(model_name)\n",
    "    query_embedding = model.encode([query])[0]\n",
    "\n",
    "    # Tính cosine similarity\n",
    "    embeddings = processed_data['embeddings']\n",
    "    cosine_scores = cosine_similarity([query_embedding], embeddings)[0]\n",
    "\n",
    "    # Tính điểm BM25\n",
    "    tokenized_chunks = [preprocess_text(chunk) for chunk in processed_data['chunks']]\n",
    "    bm25 = BM25Okapi(tokenized_chunks)\n",
    "    bm25_scores = bm25.get_scores(preprocess_text(query))\n",
    "\n",
    "    # Chuẩn hóa điểm về khoảng [0, 1]\n",
    "    bm25_scores = (bm25_scores - np.min(bm25_scores)) / (np.max(bm25_scores) - np.min(bm25_scores) + 1e-9)\n",
    "    cosine_scores = (cosine_scores - np.min(cosine_scores)) / (np.max(cosine_scores) - np.min(cosine_scores) + 1e-9)\n",
    "\n",
    "    # Kết hợp điểm BM25 và Cosine Similarity\n",
    "    combined_scores = alpha * cosine_scores + (1 - alpha) * bm25_scores\n",
    "\n",
    "    # Lấy top_k kết quả\n",
    "    top_indices = combined_scores.argsort()[-top_k:][::-1]\n",
    "\n",
    "    results = []\n",
    "    for idx in top_indices:\n",
    "        result = {\n",
    "            'chunk': processed_data['chunks'][idx],\n",
    "            'metadata': processed_data['metadata'][idx],\n",
    "            'similarity_score': combined_scores[idx],\n",
    "            'cosine_score': cosine_scores[idx],\n",
    "            'bm25_score': bm25_scores[idx],\n",
    "        }\n",
    "        results.append(result)\n",
    "\n",
    "    return results\n"
   ]
  },
  {
   "cell_type": "code",
   "execution_count": 1116,
   "id": "0b92215e",
   "metadata": {},
   "outputs": [
    {
     "name": "stderr",
     "output_type": "stream",
     "text": [
      "No sentence-transformers model found with name vinai/phobert-base-v2. Creating a new one with mean pooling.\n",
      "Some weights of RobertaModel were not initialized from the model checkpoint at vinai/phobert-base-v2 and are newly initialized: ['roberta.pooler.dense.bias', 'roberta.pooler.dense.weight']\n",
      "You should probably TRAIN this model on a down-stream task to be able to use it for predictions and inference.\n"
     ]
    },
    {
     "data": {
      "text/plain": [
       "[{'chunk': '[6a] Giáp Thìn, năm thứ 1 [257 TCN], (Chu Noãn Vương năm thứ 58). Vua đã thôn tính được nước Văn Lang, đổi quốc hiệu là Âu Lạc. Trước kia vua nhiều lần đem quân đánh Hùng Vương, nhưng Hùng Vương binh hùng tướng mạnh, vua bị thua mãi. Hùng Vương bảo vua rằng: \"Ta có sức thần, nước Thục không sợ ư ?\" Rồi Hùng Vương bỏ không sửa sang võ bị, chỉ ham ăn uống vui chơi. Quân Thục kéo sát đến nơi, hãy còn say mềm chưa tỉnh, rồi thổ huyết nhảy xuống giếng chết, quân lính quay giáo đầu hàng Thục Vương..',\n",
       "  'metadata': {'original_index': 10,\n",
       "   'event_types': ['Quân sự', 'Đối thoại'],\n",
       "   'tags': ['Văn Lang',\n",
       "    'thua',\n",
       "    'Âu Lạc',\n",
       "    'Chu Noãn Vương',\n",
       "    'Thục Vương',\n",
       "    'Quân Thục',\n",
       "    'Hùng Vương',\n",
       "    'đem quân',\n",
       "    'Rồi Hùng Vương',\n",
       "    'rằng',\n",
       "    'Giáp Thìn',\n",
       "    'quân đánh'],\n",
       "   'years': '257 TCN',\n",
       "   'chunk_text': '[6a] Giáp Thìn, năm thứ 1 [257 TCN], (Chu Noãn Vương năm thứ 58). Vua đã thôn tính được nước Văn Lang, đổi quốc hiệu là Âu Lạc. Trước kia vua nhiều lần đem quân đánh Hùng Vương, nhưng Hùng Vương binh hùng tướng mạnh, vua bị thua mãi. Hùng Vương bảo vua rằng: \"Ta có sức thần, nước Thục không sợ ư ?\" Rồi Hùng Vương bỏ không sửa sang võ bị, chỉ ham ăn uống vui chơi. Quân Thục kéo sát đến nơi, hãy còn say mềm chưa tỉnh, rồi thổ huyết nhảy xuống giếng chết, quân lính quay giáo đầu hàng Thục Vương..'},\n",
       "  'similarity_score': 0.9029292105838337,\n",
       "  'cosine_score': 0.83821535,\n",
       "  'bm25_score': 0.9999999998024797},\n",
       " {'chunk': 'Sử thần Ngô Sĩ Liên nói: Họ Trưng giận thái thú nhà Hán bạo ngược, vung tay hô một tiếng mà [4a] quốc thống nước ta cơ hồ được khôi phục, khí khái anh hùng há chỉ lúc sống dựng nước xưng vương, mà sau khi chết còn có thể chống ngăn tai họa. Phàm gặp những việc tai ương hạn lụt, đến cầu đảo không việc gì là không linh ứng. Cả bà Trưng em cũng thế. Vì là đàn bà mà có đức hạnh kẻ sĩ, cái khí hùng dũng trong khoảng trời đất không vì thân chết mà kém đi. Bọn đại trượng phu há chẳng nên nuôi lấy cái khí phách cương trực chính đại ấy ư ? Giáp Thìn, [44], (Hán Kiến Vũ năm thứ 20). Từ đây về sau, trải các đời Hán Minh Đế, Chương Đế, Hòa Đế, Thượng Đế, An Đế, gồm 5 đời, cộng 82 năm, duy thời Minh Đế có Lý Thiện người huyện Nam Dương làm Tháu thú Nhật Nam, làm việc chính sự có ân huệ yên dân, khiến cho người khác phong tục cũng mến chuộng tìm đến. Sau Thiện đổi làm Thái thú Cửu Chân..',\n",
       "  'metadata': {'original_index': 89,\n",
       "   'event_types': ['Chính trị', 'Thời tiết', 'Đối thoại'],\n",
       "   'tags': ['hạn',\n",
       "    'lụt',\n",
       "    'Minh Đế',\n",
       "    'Sau Thiện',\n",
       "    'Họ Trưng',\n",
       "    'nói',\n",
       "    'Hán Minh Đế',\n",
       "    'Hòa Đế',\n",
       "    'Lý Thiện',\n",
       "    'An Đế',\n",
       "    'Chương Đế',\n",
       "    'Ngô Sĩ Liên',\n",
       "    'Hán Kiến Vũ',\n",
       "    'nhà Hán',\n",
       "    'phong',\n",
       "    'Cửu Chân',\n",
       "    'Giáp Thìn',\n",
       "    'Nam Dương',\n",
       "    'Thượng Đế',\n",
       "    'Nhật Nam'],\n",
       "   'years': '44',\n",
       "   'chunk_text': 'Sử thần Ngô Sĩ Liên nói: Họ Trưng giận thái thú nhà Hán bạo ngược, vung tay hô một tiếng mà [4a] quốc thống nước ta cơ hồ được khôi phục, khí khái anh hùng há chỉ lúc sống dựng nước xưng vương, mà sau khi chết còn có thể chống ngăn tai họa. Phàm gặp những việc tai ương hạn lụt, đến cầu đảo không việc gì là không linh ứng. Cả bà Trưng em cũng thế. Vì là đàn bà mà có đức hạnh kẻ sĩ, cái khí hùng dũng trong khoảng trời đất không vì thân chết mà kém đi. Bọn đại trượng phu há chẳng nên nuôi lấy cái khí phách cương trực chính đại ấy ư ? Giáp Thìn, [44], (Hán Kiến Vũ năm thứ 20). Từ đây về sau, trải các đời Hán Minh Đế, Chương Đế, Hòa Đế, Thượng Đế, An Đế, gồm 5 đời, cộng 82 năm, duy thời Minh Đế có Lý Thiện người huyện Nam Dương làm Tháu thú Nhật Nam, làm việc chính sự có ân huệ yên dân, khiến cho người khác phong tục cũng mến chuộng tìm đến. Sau Thiện đổi làm Thái thú Cửu Chân..'},\n",
       "  'similarity_score': 0.8012413995133655,\n",
       "  'cosine_score': 0.9929043,\n",
       "  'bm25_score': 0.5137470405963105},\n",
       " {'chunk': 'Hùng Vương [3a] Con Lạc Long Quân (không rõ tên húy)5, đóng đô ở Phong Châu (nay là huyện Bạch Hạc)6. Hùng Vương lên ngôi, đặt quốc hiệu là Văn Lang (nước này đông giáp biển Nam Hải, tây đến Ba Thục, bắc đến hồ Động Đình, nam giáp nước Hồ Tôn, tức nước Chiêm Thành, nay là Quảng Nam), chia nước làm 15 bộ là: Giao Chỉ, Chu Diên, Vũ Ninh, Phúc Lộc, Việt Thường, Ninh Hải, Dương Tuyền, Lục Hải, Vũ Định, Hoài Hoan, Cửu Chân, Bình Văn, Tân Hưng, Cửu Đức; đều là đất thần thuộc của Hùng Vương; còn bộ gọi là Văn Lang là nơi vua đóng đô1. Đặt tướng văn gọi là Lạc Hầu, tướng võ gọi là Lạc Tướng (chữ Lạc Tướng, sau chép sai là Hùng Tướng2). Con trai vua gọi là Quan Lang, con gái vua gọi là Mị Nương. Quan coi việc gọi là Bồ Chính, đời đời cha truyền con nối, gọi là phụ đạo. Vua các đời đều gọi là Hùng Vương. Bấy giờ dân ở rừng núi thấy ở sông ngòi khe suối đều có tôm cá, nên rủ nhau đi bắt cá để ăn, thường bị thuồng luồng làm hại, [3b] đến thưa với vua. Vua nói: \"Người man ở núi khác với các loài thủy tộc; các thủy tộc ấy ưa cùng loài mà ghét khác loài, cho nên mới bị chúng làm hại. Rồi vua bảo mọi người lấy mực vẽ hình thủy quái ở mình. Từ đấy thuồng luồng trông thấy không cắn hại nữa. Tục vẽ mình của người Bách Việt có lẽ bắt đầu từ đấy..',\n",
       "  'metadata': {'original_index': 3,\n",
       "   'event_types': ['Chính trị', 'Văn hóa', 'Đối thoại', 'Kinh tế - Tài chính'],\n",
       "   'tags': ['Văn Lang',\n",
       "    'Ba Thục',\n",
       "    'Vũ Định',\n",
       "    'lên ngôi',\n",
       "    'Bồ Chính',\n",
       "    'Bách Việt',\n",
       "    'Lục Hải',\n",
       "    'Dương Tuyền',\n",
       "    'Quan Lang',\n",
       "    'Ninh Hải',\n",
       "    'Việt Thường',\n",
       "    'Hùng Tướng',\n",
       "    'Phong Châu',\n",
       "    'Động Đình',\n",
       "    'Mị Nương',\n",
       "    'phong',\n",
       "    'Hùng Vương',\n",
       "    'Cửu Chân',\n",
       "    'Vũ Ninh',\n",
       "    'Con Lạc Long Quân',\n",
       "    'Phúc Lộc',\n",
       "    'đạo',\n",
       "    'Nam Hải',\n",
       "    'nói',\n",
       "    'Giao Chỉ',\n",
       "    'Cửu Đức',\n",
       "    'Hồ Tôn',\n",
       "    'Chiêm Thành',\n",
       "    'Quảng Nam',\n",
       "    'Lạc Tướng',\n",
       "    'Hoài Hoan',\n",
       "    'Tân Hưng',\n",
       "    'Lạc Hầu',\n",
       "    'Chu Diên',\n",
       "    'Bạch Hạc',\n",
       "    'Bình Văn',\n",
       "    'bạc'],\n",
       "   'years': '-258',\n",
       "   'chunk_text': 'Hùng Vương [3a] Con Lạc Long Quân (không rõ tên húy)5, đóng đô ở Phong Châu (nay là huyện Bạch Hạc)6. Hùng Vương lên ngôi, đặt quốc hiệu là Văn Lang (nước này đông giáp biển Nam Hải, tây đến Ba Thục, bắc đến hồ Động Đình, nam giáp nước Hồ Tôn, tức nước Chiêm Thành, nay là Quảng Nam), chia nước làm 15 bộ là: Giao Chỉ, Chu Diên, Vũ Ninh, Phúc Lộc, Việt Thường, Ninh Hải, Dương Tuyền, Lục Hải, Vũ Định, Hoài Hoan, Cửu Chân, Bình Văn, Tân Hưng, Cửu Đức; đều là đất thần thuộc của Hùng Vương; còn bộ gọi là Văn Lang là nơi vua đóng đô1. Đặt tướng văn gọi là Lạc Hầu, tướng võ gọi là Lạc Tướng (chữ Lạc Tướng, sau chép sai là Hùng Tướng2). Con trai vua gọi là Quan Lang, con gái vua gọi là Mị Nương. Quan coi việc gọi là Bồ Chính, đời đời cha truyền con nối, gọi là phụ đạo. Vua các đời đều gọi là Hùng Vương. Bấy giờ dân ở rừng núi thấy ở sông ngòi khe suối đều có tôm cá, nên rủ nhau đi bắt cá để ăn, thường bị thuồng luồng làm hại, [3b] đến thưa với vua. Vua nói: \"Người man ở núi khác với các loài thủy tộc; các thủy tộc ấy ưa cùng loài mà ghét khác loài, cho nên mới bị chúng làm hại. Rồi vua bảo mọi người lấy mực vẽ hình thủy quái ở mình. Từ đấy thuồng luồng trông thấy không cắn hại nữa. Tục vẽ mình của người Bách Việt có lẽ bắt đầu từ đấy..'},\n",
       "  'similarity_score': 0.7616833720058371,\n",
       "  'cosine_score': 0.75848585,\n",
       "  'bm25_score': 0.7664795899019066},\n",
       " {'chunk': 'Kỷ Trưng Nữ Vương Trưng Vương Ở ngôi 3 năm. Vua rất hùng dũng, đuổi Tô Định, dựng nước xưng vương, nhưng vì là vua đàn bà, không thể làm nên công tái tạo. Tên húy là Trắc, họ Trưng. Nguyên là họ Lạc, con gái của Lạc tướng huyện Mê Linh1, Phong Châu, vợ của Thi Sách ở huyện Chu Diên2. (Thi Sách cũng là con Lạc tướng, con hai nhà tướng kết hôn với nhau. Sách Cương mục tập lãm lấy Lạc làm họ là lầm). Đóng đô ở Mê Linh..',\n",
       "  'metadata': {'original_index': 82,\n",
       "   'event_types': ['Chính trị', 'Giáo dục', 'Giới thiệu nhân vật'],\n",
       "   'tags': ['Tô Định',\n",
       "    'Thi Sách',\n",
       "    'ở ngôi',\n",
       "    'Phong Châu',\n",
       "    'phong',\n",
       "    'Mê Linh',\n",
       "    'Sách Cương',\n",
       "    'Chu Diên',\n",
       "    'sách',\n",
       "    'Kỷ Trưng Nữ Vương \\nTrưng Vương'],\n",
       "   'years': '39',\n",
       "   'chunk_text': 'Kỷ Trưng Nữ Vương Trưng Vương Ở ngôi 3 năm. Vua rất hùng dũng, đuổi Tô Định, dựng nước xưng vương, nhưng vì là vua đàn bà, không thể làm nên công tái tạo. Tên húy là Trắc, họ Trưng. Nguyên là họ Lạc, con gái của Lạc tướng huyện Mê Linh1, Phong Châu, vợ của Thi Sách ở huyện Chu Diên2. (Thi Sách cũng là con Lạc tướng, con hai nhà tướng kết hôn với nhau. Sách Cương mục tập lãm lấy Lạc làm họ là lầm). Đóng đô ở Mê Linh..'},\n",
       "  'similarity_score': 0.7530924424012484,\n",
       "  'cosine_score': 0.84723073,\n",
       "  'bm25_score': 0.6118849775393758},\n",
       " {'chunk': 'Trở lên là [kỷ] Hồng Bàng thị, từ Kinh Dương Vương được phong năm Nhâm Tuất, cùng thời với Đế Nghi, truyền đến cuối thời vua Hùng Vương, ngang với đời Noãn Vương nhà Chu năm thứ 57 [258 TCN] là năm Quý Mão thì hết, tất cả 2.622 năm [2879 - 258 TCN]..',\n",
       "  'metadata': {'original_index': 8,\n",
       "   'event_types': ['Chính trị'],\n",
       "   'tags': ['Kinh Dương Vương',\n",
       "    'phong',\n",
       "    'Đế Nghi',\n",
       "    'Hùng Vương',\n",
       "    'Quý Mão',\n",
       "    'Nhâm Tuất',\n",
       "    'Noãn Vương',\n",
       "    'Hồng Bàng'],\n",
       "   'years': '258 TCN',\n",
       "   'chunk_text': 'Trở lên là [kỷ] Hồng Bàng thị, từ Kinh Dương Vương được phong năm Nhâm Tuất, cùng thời với Đế Nghi, truyền đến cuối thời vua Hùng Vương, ngang với đời Noãn Vương nhà Chu năm thứ 57 [258 TCN] là năm Quý Mão thì hết, tất cả 2.622 năm [2879 - 258 TCN]..'},\n",
       "  'similarity_score': 0.7109230697517455,\n",
       "  'cosine_score': 0.7056011,\n",
       "  'bm25_score': 0.7189059854459913}]"
      ]
     },
     "execution_count": 1116,
     "metadata": {},
     "output_type": "execute_result"
    }
   ],
   "source": [
    "query ='Hùng Vương'\n",
    "\n",
    "search(query,process_dataset)"
   ]
  },
  {
   "cell_type": "code",
   "execution_count": null,
   "id": "6b7703dd",
   "metadata": {},
   "outputs": [],
   "source": []
  }
 ],
 "metadata": {
  "kernelspec": {
   "display_name": "Python 3 (ipykernel)",
   "language": "python",
   "name": "python3"
  },
  "language_info": {
   "codemirror_mode": {
    "name": "ipython",
    "version": 3
   },
   "file_extension": ".py",
   "mimetype": "text/x-python",
   "name": "python",
   "nbconvert_exporter": "python",
   "pygments_lexer": "ipython3",
   "version": "3.11.5"
  }
 },
 "nbformat": 4,
 "nbformat_minor": 5
}
